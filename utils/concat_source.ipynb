{
 "cells": [
  {
   "cell_type": "code",
   "execution_count": 3,
   "id": "d39e2998",
   "metadata": {},
   "outputs": [],
   "source": [
    "import pandas as pd \n",
    "import numpy as np"
   ]
  },
  {
   "cell_type": "code",
   "execution_count": 4,
   "id": "3c22235a",
   "metadata": {},
   "outputs": [],
   "source": [
    "df1 = pd.read_excel('sources/passengers63-67.xlsx')\n",
    "df2 = pd.read_excel('sources/passengers68.xlsx')"
   ]
  },
  {
   "cell_type": "code",
   "execution_count": 11,
   "id": "19f9470c",
   "metadata": {},
   "outputs": [],
   "source": [
    "new_df = pd.concat([df1, df2])"
   ]
  },
  {
   "cell_type": "code",
   "execution_count": 12,
   "id": "08907c59",
   "metadata": {},
   "outputs": [],
   "source": [
    "new_df.to_csv('sources/passengers63-68.csv', index=False)"
   ]
  }
 ],
 "metadata": {
  "kernelspec": {
   "display_name": "Mini_Project (3.12.4)",
   "language": "python",
   "name": "python3"
  },
  "language_info": {
   "codemirror_mode": {
    "name": "ipython",
    "version": 3
   },
   "file_extension": ".py",
   "mimetype": "text/x-python",
   "name": "python",
   "nbconvert_exporter": "python",
   "pygments_lexer": "ipython3",
   "version": "3.12.4"
  }
 },
 "nbformat": 4,
 "nbformat_minor": 5
}

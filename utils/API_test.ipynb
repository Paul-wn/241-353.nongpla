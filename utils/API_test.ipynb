{
 "cells": [
  {
   "cell_type": "code",
   "execution_count": null,
   "id": "ded2c149",
   "metadata": {},
   "outputs": [],
   "source": [
    "import requests\n",
    "import pandas as pd"
   ]
  },
  {
   "cell_type": "code",
   "execution_count": 2,
   "id": "510a3361",
   "metadata": {},
   "outputs": [],
   "source": [
    "# URL API\n",
    "url = \"https://datagov.mot.go.th/api/3/action/datastore_search\"\n",
    "# resource_id ที่ต้องการ\n",
    "resource_id = \"a139ab23-602f-4c0d-8789-4d230bcdf33d\""
   ]
  },
  {
   "cell_type": "code",
   "execution_count": 3,
   "id": "a696f42e",
   "metadata": {},
   "outputs": [
    {
     "name": "stdout",
     "output_type": "stream",
     "text": [
      "     _id รูปแบบการเดินทาง                    วัตถุประสงค์ สาธารณะ/ส่วนบุคคล  \\\n",
      "0  10481           ทางราง         การเดินทางระหว่างประเทศ           สาธารณะ   \n",
      "1  10473         ทางอากาศ        การเดินทางระหว่างจังหวัด           สาธารณะ   \n",
      "2  10474         ทางอากาศ        การเดินทางระหว่างจังหวัด           สาธารณะ   \n",
      "3  10476         ทางอากาศ        การเดินทางระหว่างจังหวัด           สาธารณะ   \n",
      "4  10477         ทางอากาศ        การเดินทางระหว่างจังหวัด           สาธารณะ   \n",
      "5  10478         ทางอากาศ        การเดินทางระหว่างจังหวัด           สาธารณะ   \n",
      "6  10479           ทางถนน         การเดินทางระหว่างประเทศ           สาธารณะ   \n",
      "7  10480           ทางถนน         การเดินทางระหว่างประเทศ           สาธารณะ   \n",
      "8  10482           ทางราง         การเดินทางระหว่างประเทศ           สาธารณะ   \n",
      "9  10472           ทางราง  การเดินทางภายในจังหวัด/กรุงเทพ           สาธารณะ   \n",
      "\n",
      "  หน่วยงาน           ยานพาหนะ/ท่า     วันที่ หน่วย   ปริมาณ  \n",
      "0     รฟท.      รถไฟ ขาเข้าประเทศ 2025-09-01    คน    281.0  \n",
      "1     ทอท.  ท่าอากาศยานสุวรรณภูมิ 2025-09-01    คน  13803.0  \n",
      "2     ทอท.    ท่าอากาศยานดอนเมือง 2025-09-01    คน  23843.0  \n",
      "3      ทย.     ท่าอากาศยานภูมิภาค 2025-09-01    คน  16007.0  \n",
      "4     กพท.    ท่าอากาศยานอู่ตะเภา 2025-09-01    คน    113.0  \n",
      "5     กพท.        ท่าอากาศยานสมุย 2025-09-01    คน   3372.0  \n",
      "6     บขส.   รถ บขส. ขาเข้าประเทศ 2025-09-01    คน    575.0  \n",
      "7     บขส.    รถ บขส. ขาออกประเทศ 2025-09-01    คน    975.0  \n",
      "8     รฟท.       รถไฟ ขาออกประเทศ 2025-09-01    คน    454.0  \n",
      "9    รฟฟท.        รถไฟฟ้าสายสีแดง 2025-09-01    คน  43615.0  \n",
      "\n",
      "จำนวนข้อมูลทั้งหมด: 129 แถว\n"
     ]
    }
   ],
   "source": [
    "\n",
    "# query: หาเฉพาะเดือน 2025-09\n",
    "params = {\n",
    "    \"resource_id\": resource_id,\n",
    "    \"q\": \"2025-09\",\n",
    "    \"limit\": 5000\n",
    "}\n",
    "\n",
    "# ส่ง request\n",
    "response = requests.get(url, params=params)\n",
    "data = response.json()\n",
    "\n",
    "# ตรวจสอบผลลัพธ์\n",
    "if response.status_code == 200 and data[\"success\"]:\n",
    "    records = data[\"result\"][\"records\"]\n",
    "    \n",
    "    # สร้าง DataFrame เฉพาะคอลัมน์ที่สนใจ\n",
    "    df = pd.DataFrame(records)[[\n",
    "        \"_id\", \n",
    "        \"รูปแบบการเดินทาง\", \n",
    "        \"วัตถุประสงค์\", \n",
    "        \"สาธารณะ/ส่วนบุคคล\", \n",
    "        \"หน่วยงาน\", \n",
    "        \"ยานพาหนะ/ท่า\", \n",
    "        \"วันที่\", \n",
    "        \"หน่วย\", \n",
    "        \"ปริมาณ\"\n",
    "    ]]\n",
    "    \n",
    "    # กรองให้แน่ใจว่าเป็นเดือน 2025-09\n",
    "    df = df[df[\"วันที่\"].str.startswith(\"2025-09\")]\n",
    "    \n",
    "    # แปลงเป็น datetime เพื่อ sort\n",
    "    df[\"วันที่\"] = pd.to_datetime(df[\"วันที่\"], errors=\"coerce\")\n",
    "    df = df.sort_values(\"วันที่\").reset_index(drop=True)\n",
    "    \n",
    "    print(df.head(10))  # แสดงตัวอย่าง 10 แถวแรก\n",
    "    print(f\"\\nจำนวนข้อมูลทั้งหมด: {len(df)} แถว\")\n",
    "else:\n",
    "    print(\"ไม่สามารถดึงข้อมูลได้:\", response.text)\n"
   ]
  },
  {
   "cell_type": "code",
   "execution_count": null,
   "id": "a373ecad",
   "metadata": {},
   "outputs": [],
   "source": []
  }
 ],
 "metadata": {
  "kernelspec": {
   "display_name": "Mini_Project (3.12.4)",
   "language": "python",
   "name": "python3"
  },
  "language_info": {
   "codemirror_mode": {
    "name": "ipython",
    "version": 3
   },
   "file_extension": ".py",
   "mimetype": "text/x-python",
   "name": "python",
   "nbconvert_exporter": "python",
   "pygments_lexer": "ipython3",
   "version": "3.12.4"
  }
 },
 "nbformat": 4,
 "nbformat_minor": 5
}

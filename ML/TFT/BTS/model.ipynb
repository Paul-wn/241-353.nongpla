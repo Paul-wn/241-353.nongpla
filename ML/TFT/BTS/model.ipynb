{
 "cells": [
  {
   "cell_type": "code",
   "execution_count": 1,
   "id": "af0acfa4",
   "metadata": {},
   "outputs": [],
   "source": [
    "import os\n",
    "import warnings\n",
    "from pathlib import Path\n",
    "from dataclasses import dataclass\n",
    "\n",
    "import numpy as np\n",
    "import pandas as pd\n",
    "import matplotlib.pyplot as plt\n",
    "\n",
    "import torch\n",
    "import lightning.pytorch as pl\n",
    "from lightning.pytorch.callbacks import EarlyStopping, ModelCheckpoint, LearningRateMonitor\n",
    "\n",
    "from sklearn.metrics import mean_absolute_error, mean_absolute_percentage_error , root_mean_squared_error\n",
    "\n",
    "from pytorch_forecasting import TimeSeriesDataSet, TemporalFusionTransformer\n",
    "from pytorch_forecasting.data import GroupNormalizer, NaNLabelEncoder\n",
    "from pytorch_forecasting.metrics import QuantileLoss\n",
    "\n",
    "from lightning.pytorch.loggers import CSVLogger, TensorBoardLogger"
   ]
  },
  {
   "cell_type": "code",
   "execution_count": 2,
   "id": "58f5536d",
   "metadata": {},
   "outputs": [
    {
     "name": "stderr",
     "output_type": "stream",
     "text": [
      "<>:1: SyntaxWarning: invalid escape sequence '\\P'\n",
      "<>:1: SyntaxWarning: invalid escape sequence '\\P'\n",
      "C:\\Users\\ASUS\\AppData\\Local\\Temp\\ipykernel_13456\\3622319152.py:1: SyntaxWarning: invalid escape sequence '\\P'\n",
      "  DATA_CSV = Path(\"D:\\PSU/241-353/Mini_Project/data/augmented_data.csv\")  # ensure this CSV is in the same folder when running\n"
     ]
    }
   ],
   "source": [
    "DATA_CSV = Path(\"D:\\PSU/241-353/Mini_Project/data/augmented_data.csv\")  # ensure this CSV is in the same folder when running\n",
    "DATE_COL = \"วันที่\"\n",
    "TARGET_COL = \"รถไฟฟ้า BTS\"\n",
    "\n",
    "# Exogenous covariates (adjust names if different in your CSV)\n",
    "DAY_TYPE_COL = \"day_type\"         # categorical\n",
    "RAIN_COL     = \"rain_average\"     # real\n",
    "ARL_COL      = \"รถไฟฟ้า ARL\"      # real\n",
    "PURPLE_COL   = \"รถไฟฟ้าสายสีม่วง\" # real\n",
    "BTS_COL      = \"รถไฟฟ้าสายสีน้ำเงิน\"      # real\n",
    "\n",
    "# Model / dataset params\n",
    "GROUP_ID = \"series_id\"\n",
    "MAX_PRED_LEN = 30\n",
    "MAX_ENC_LEN  = 120\n",
    "BATCH_SIZE_TRAIN = 64\n",
    "BATCH_SIZE_EVAL  = 128\n",
    "EPOCHS = 200\n",
    "LR = 1e-4\n",
    "RANDOM_SEED = 2025"
   ]
  },
  {
   "cell_type": "code",
   "execution_count": 3,
   "id": "0ae8c52e",
   "metadata": {},
   "outputs": [],
   "source": [
    "PLOTS_DIR = Path(\"tft_bts_outputs\")\n",
    "PLOTS_DIR.mkdir(exist_ok=True, parents=True)\n",
    "csv_logger = CSVLogger(save_dir=str(PLOTS_DIR), name=\"logs\")"
   ]
  },
  {
   "cell_type": "code",
   "execution_count": 4,
   "id": "41ac4578",
   "metadata": {},
   "outputs": [],
   "source": [
    "def _safe_interp_fill(s: pd.Series) -> pd.Series:\n",
    "    \"\"\"Interpolate then back/forward fill for numeric series.\"\"\"\n",
    "    try:\n",
    "        s = pd.to_numeric(s, errors=\"coerce\")\n",
    "    except Exception:\n",
    "        pass\n",
    "    s = s.interpolate(limit_direction=\"both\")\n",
    "    s = s.bfill().ffill()\n",
    "    return s\n"
   ]
  },
  {
   "cell_type": "code",
   "execution_count": 5,
   "id": "be099abb",
   "metadata": {},
   "outputs": [
    {
     "name": "stderr",
     "output_type": "stream",
     "text": [
      "Seed set to 2025\n"
     ]
    }
   ],
   "source": [
    "\n",
    "pl.seed_everything(RANDOM_SEED, workers=True)\n",
    "warnings.filterwarnings(\"ignore\")\n",
    "\n",
    "# 1) Load data\n",
    "if not DATA_CSV.exists():\n",
    "    raise FileNotFoundError(f\"CSV not found: {DATA_CSV.resolve()}\")\n",
    "df = pd.read_csv(DATA_CSV)\n",
    "\n",
    "# Basic checks\n",
    "for c in [DATE_COL, TARGET_COL]:\n",
    "    if c not in df.columns:\n",
    "        raise ValueError(f\"Column '{c}' not found in CSV. Please edit config at top of the file.\")\n",
    "\n",
    "# 2) Feature engineering\n",
    "df[DATE_COL] = pd.to_datetime(df[DATE_COL])\n",
    "df = df.sort_values(DATE_COL).reset_index(drop=True)\n",
    "df[GROUP_ID] = \"bts\"\n",
    "df[\"time_idx\"] = (df[DATE_COL] - df[DATE_COL].min()).dt.days.astype(int)\n",
    "\n",
    "# Optional: build is_weekend from date (Saturday=5, Sunday=6)\n",
    "df[\"is_weekend\"] = df[DATE_COL].dt.weekday.isin([5, 6]).astype(int)\n",
    "\n",
    "# Cast categorical for day_type if present\n",
    "if DAY_TYPE_COL in df.columns:\n",
    "    df[DAY_TYPE_COL] = df[DAY_TYPE_COL].astype(str).astype(\"category\")\n",
    "\n",
    "# Fill numeric covariates\n",
    "for col in [RAIN_COL, ARL_COL, PURPLE_COL, BTS_COL, TARGET_COL]:\n",
    "    if col in df.columns:\n",
    "        df[col] = _safe_interp_fill(df[col])\n",
    "\n",
    "# 3) Define feature lists (no leakage: do NOT include target in features)\n",
    "time_varying_known_categoricals = [DAY_TYPE_COL] if DAY_TYPE_COL in df.columns else []\n",
    "time_varying_known_reals = [\"time_idx\", \"is_weekend\"]\n",
    "\n",
    "time_varying_unknown_reals = []\n",
    "for col in [ARL_COL, BTS_COL, PURPLE_COL, RAIN_COL]:\n",
    "    if col in df.columns:\n",
    "        time_varying_unknown_reals.append(col)\n",
    "\n",
    "# 4) Split by time for training/validation\n",
    "max_time_idx = int(df[\"time_idx\"].max())\n",
    "training_cutoff = max_time_idx - MAX_PRED_LEN\n"
   ]
  },
  {
   "cell_type": "code",
   "execution_count": 6,
   "id": "5a21d94b",
   "metadata": {},
   "outputs": [],
   "source": [
    "# Training dataset\n",
    "training = TimeSeriesDataSet(\n",
    "    df[df.time_idx <= training_cutoff],\n",
    "    time_idx=\"time_idx\",\n",
    "    target=TARGET_COL,\n",
    "    group_ids=[GROUP_ID],\n",
    "    max_encoder_length=MAX_ENC_LEN,\n",
    "    max_prediction_length=MAX_PRED_LEN,\n",
    "    target_normalizer=GroupNormalizer(groups=[GROUP_ID], transformation=None),  # keep target in original scale\n",
    "    static_categoricals=[GROUP_ID],\n",
    "    time_varying_known_categoricals=time_varying_known_categoricals,\n",
    "    time_varying_known_reals=time_varying_known_reals,\n",
    "    time_varying_unknown_reals=time_varying_unknown_reals + [TARGET_COL],  # include target as unknown-real (historical known to encoder, masked in decoder)\n",
    "    add_relative_time_idx=True,\n",
    "    add_encoder_length=True,\n",
    "    add_target_scales=True,\n",
    "    categorical_encoders={DAY_TYPE_COL: NaNLabelEncoder(add_nan=True)} if DAY_TYPE_COL in df.columns else {},\n",
    ")\n",
    "\n",
    "# Validation FUTURE (predict next 30 days) -> no y_true\n",
    "val_future = TimeSeriesDataSet.from_dataset(training, df, predict=True, stop_randomization=True)\n",
    "\n"
   ]
  },
  {
   "cell_type": "code",
   "execution_count": 7,
   "id": "ebcd5a0d",
   "metadata": {},
   "outputs": [],
   "source": [
    "# Validation HISTORICAL window that still has y_true (backtest)\n",
    "start_idx = int(training_cutoff - MAX_ENC_LEN - MAX_PRED_LEN + 1)\n",
    "end_idx   = int(training_cutoff)\n",
    "mask = (df[\"time_idx\"] >= start_idx) & (df[\"time_idx\"] <= end_idx)\n",
    "df_val_hist = df.loc[mask].copy()\n",
    "needed = MAX_ENC_LEN + MAX_PRED_LEN\n",
    "if len(df_val_hist) < needed:\n",
    "    # fallback: shrink encoder length to fit\n",
    "    shrink = needed - len(df_val_hist) + 1\n",
    "    enc_len = max(30, MAX_ENC_LEN - shrink)  # don't go below 30\n",
    "    print(f\"[WARN] val_hist window too short ({len(df_val_hist)} rows). Shrinking encoder length to {enc_len}.\")\n",
    "    enc_len_use = enc_len\n",
    "else:\n",
    "    enc_len_use = MAX_ENC_LEN\n"
   ]
  },
  {
   "cell_type": "code",
   "execution_count": 8,
   "id": "753f5662",
   "metadata": {},
   "outputs": [],
   "source": [
    "# 5) Dataloaders\n",
    "train_loader = training.to_dataloader(train=True,  batch_size=BATCH_SIZE_TRAIN, num_workers=0)\n",
    "val_loader   = val_future.to_dataloader(train=False, batch_size=BATCH_SIZE_EVAL, num_workers=0)\n"
   ]
  },
  {
   "cell_type": "code",
   "execution_count": 9,
   "id": "5b3707bb",
   "metadata": {},
   "outputs": [
    {
     "name": "stderr",
     "output_type": "stream",
     "text": [
      "GPU available: True (cuda), used: True\n",
      "TPU available: False, using: 0 TPU cores\n",
      "HPU available: False, using: 0 HPUs\n",
      "You are using a CUDA device ('NVIDIA GeForce RTX 3060 Laptop GPU') that has Tensor Cores. To properly utilize them, you should set `torch.set_float32_matmul_precision('medium' | 'high')` which will trade-off precision for performance. For more details, read https://pytorch.org/docs/stable/generated/torch.set_float32_matmul_precision.html#torch.set_float32_matmul_precision\n",
      "LOCAL_RANK: 0 - CUDA_VISIBLE_DEVICES: [0]\n",
      "\n",
      "   | Name                               | Type                            | Params | Mode \n",
      "------------------------------------------------------------------------------------------------\n",
      "0  | loss                               | QuantileLoss                    | 0      | train\n",
      "1  | logging_metrics                    | ModuleList                      | 0      | train\n",
      "2  | input_embeddings                   | MultiEmbedding                  | 13     | train\n",
      "3  | prescalers                         | ModuleDict                      | 352    | train\n",
      "4  | static_variable_selection          | VariableSelectionNetwork        | 9.7 K  | train\n",
      "5  | encoder_variable_selection         | VariableSelectionNetwork        | 26.8 K | train\n",
      "6  | decoder_variable_selection         | VariableSelectionNetwork        | 10.0 K | train\n",
      "7  | static_context_variable_selection  | GatedResidualNetwork            | 16.8 K | train\n",
      "8  | static_context_initial_hidden_lstm | GatedResidualNetwork            | 16.8 K | train\n",
      "9  | static_context_initial_cell_lstm   | GatedResidualNetwork            | 16.8 K | train\n",
      "10 | static_context_enrichment          | GatedResidualNetwork            | 16.8 K | train\n",
      "11 | lstm_encoder                       | LSTM                            | 33.3 K | train\n",
      "12 | lstm_decoder                       | LSTM                            | 33.3 K | train\n",
      "13 | post_lstm_gate_encoder             | GatedLinearUnit                 | 8.3 K  | train\n",
      "14 | post_lstm_add_norm_encoder         | AddNorm                         | 128    | train\n",
      "15 | static_enrichment                  | GatedResidualNetwork            | 20.9 K | train\n",
      "16 | multihead_attn                     | InterpretableMultiHeadAttention | 10.4 K | train\n",
      "17 | post_attn_gate_norm                | GateAddNorm                     | 8.4 K  | train\n",
      "18 | pos_wise_ff                        | GatedResidualNetwork            | 16.8 K | train\n",
      "19 | pre_output_gate_norm               | GateAddNorm                     | 8.4 K  | train\n",
      "20 | output_layer                       | Linear                          | 455    | train\n",
      "------------------------------------------------------------------------------------------------\n",
      "253 K     Trainable params\n",
      "0         Non-trainable params\n",
      "253 K     Total params\n",
      "1.015     Total estimated model params size (MB)\n",
      "382       Modules in train mode\n",
      "0         Modules in eval mode\n"
     ]
    },
    {
     "data": {
      "application/vnd.jupyter.widget-view+json": {
       "model_id": "e741f498d0ed4ec69c193c7911dda931",
       "version_major": 2,
       "version_minor": 0
      },
      "text/plain": [
       "Sanity Checking: |          | 0/? [00:00<?, ?it/s]"
      ]
     },
     "metadata": {},
     "output_type": "display_data"
    },
    {
     "data": {
      "application/vnd.jupyter.widget-view+json": {
       "model_id": "43a246367ef84ce5a11d0576a8f659e0",
       "version_major": 2,
       "version_minor": 0
      },
      "text/plain": [
       "Training: |          | 0/? [00:00<?, ?it/s]"
      ]
     },
     "metadata": {},
     "output_type": "display_data"
    },
    {
     "data": {
      "application/vnd.jupyter.widget-view+json": {
       "model_id": "49a7436a6ab04abb964294109b1a72c1",
       "version_major": 2,
       "version_minor": 0
      },
      "text/plain": [
       "Validation: |          | 0/? [00:00<?, ?it/s]"
      ]
     },
     "metadata": {},
     "output_type": "display_data"
    },
    {
     "data": {
      "application/vnd.jupyter.widget-view+json": {
       "model_id": "079a6be089f4488692fdf92a14c9e362",
       "version_major": 2,
       "version_minor": 0
      },
      "text/plain": [
       "Validation: |          | 0/? [00:00<?, ?it/s]"
      ]
     },
     "metadata": {},
     "output_type": "display_data"
    },
    {
     "data": {
      "application/vnd.jupyter.widget-view+json": {
       "model_id": "7ff73d178ef843048ad3cc75de7cc8ca",
       "version_major": 2,
       "version_minor": 0
      },
      "text/plain": [
       "Validation: |          | 0/? [00:00<?, ?it/s]"
      ]
     },
     "metadata": {},
     "output_type": "display_data"
    },
    {
     "data": {
      "application/vnd.jupyter.widget-view+json": {
       "model_id": "76ddf12676f24ced80985443d67345ab",
       "version_major": 2,
       "version_minor": 0
      },
      "text/plain": [
       "Validation: |          | 0/? [00:00<?, ?it/s]"
      ]
     },
     "metadata": {},
     "output_type": "display_data"
    },
    {
     "data": {
      "application/vnd.jupyter.widget-view+json": {
       "model_id": "0fae1b0fc81744eeb063cd6ff87894d3",
       "version_major": 2,
       "version_minor": 0
      },
      "text/plain": [
       "Validation: |          | 0/? [00:00<?, ?it/s]"
      ]
     },
     "metadata": {},
     "output_type": "display_data"
    },
    {
     "data": {
      "application/vnd.jupyter.widget-view+json": {
       "model_id": "5d4cf1a150d64851bef1cf2ae4185558",
       "version_major": 2,
       "version_minor": 0
      },
      "text/plain": [
       "Validation: |          | 0/? [00:00<?, ?it/s]"
      ]
     },
     "metadata": {},
     "output_type": "display_data"
    },
    {
     "data": {
      "application/vnd.jupyter.widget-view+json": {
       "model_id": "f73f1c7bdf704d159cacba5775aed631",
       "version_major": 2,
       "version_minor": 0
      },
      "text/plain": [
       "Validation: |          | 0/? [00:00<?, ?it/s]"
      ]
     },
     "metadata": {},
     "output_type": "display_data"
    },
    {
     "data": {
      "application/vnd.jupyter.widget-view+json": {
       "model_id": "7094c0c669d24590bbf64ebbdee159bb",
       "version_major": 2,
       "version_minor": 0
      },
      "text/plain": [
       "Validation: |          | 0/? [00:00<?, ?it/s]"
      ]
     },
     "metadata": {},
     "output_type": "display_data"
    },
    {
     "data": {
      "application/vnd.jupyter.widget-view+json": {
       "model_id": "43fa84a8a35b48ffbef0eda52f33bdcd",
       "version_major": 2,
       "version_minor": 0
      },
      "text/plain": [
       "Validation: |          | 0/? [00:00<?, ?it/s]"
      ]
     },
     "metadata": {},
     "output_type": "display_data"
    },
    {
     "data": {
      "application/vnd.jupyter.widget-view+json": {
       "model_id": "aab41930e02d4196b3fd008bd2f5926c",
       "version_major": 2,
       "version_minor": 0
      },
      "text/plain": [
       "Validation: |          | 0/? [00:00<?, ?it/s]"
      ]
     },
     "metadata": {},
     "output_type": "display_data"
    },
    {
     "data": {
      "application/vnd.jupyter.widget-view+json": {
       "model_id": "a7333f7b36304dcb942f2e902cd390fa",
       "version_major": 2,
       "version_minor": 0
      },
      "text/plain": [
       "Validation: |          | 0/? [00:00<?, ?it/s]"
      ]
     },
     "metadata": {},
     "output_type": "display_data"
    },
    {
     "data": {
      "application/vnd.jupyter.widget-view+json": {
       "model_id": "4e27c0e39d0c45bba799355b62b090e1",
       "version_major": 2,
       "version_minor": 0
      },
      "text/plain": [
       "Validation: |          | 0/? [00:00<?, ?it/s]"
      ]
     },
     "metadata": {},
     "output_type": "display_data"
    },
    {
     "data": {
      "application/vnd.jupyter.widget-view+json": {
       "model_id": "2cf0ba6761fc44019d9e99cbb6ce0425",
       "version_major": 2,
       "version_minor": 0
      },
      "text/plain": [
       "Validation: |          | 0/? [00:00<?, ?it/s]"
      ]
     },
     "metadata": {},
     "output_type": "display_data"
    },
    {
     "data": {
      "application/vnd.jupyter.widget-view+json": {
       "model_id": "5d6be2e99faa40e1a759979b2b3361b9",
       "version_major": 2,
       "version_minor": 0
      },
      "text/plain": [
       "Validation: |          | 0/? [00:00<?, ?it/s]"
      ]
     },
     "metadata": {},
     "output_type": "display_data"
    },
    {
     "data": {
      "application/vnd.jupyter.widget-view+json": {
       "model_id": "2ca83b234cb04de7a57fd8bebaf382c8",
       "version_major": 2,
       "version_minor": 0
      },
      "text/plain": [
       "Validation: |          | 0/? [00:00<?, ?it/s]"
      ]
     },
     "metadata": {},
     "output_type": "display_data"
    },
    {
     "data": {
      "application/vnd.jupyter.widget-view+json": {
       "model_id": "98d201a7ed424a1980d9a415cf2d5583",
       "version_major": 2,
       "version_minor": 0
      },
      "text/plain": [
       "Validation: |          | 0/? [00:00<?, ?it/s]"
      ]
     },
     "metadata": {},
     "output_type": "display_data"
    },
    {
     "data": {
      "application/vnd.jupyter.widget-view+json": {
       "model_id": "2487e00c7d22440ea23c137981bbb6f7",
       "version_major": 2,
       "version_minor": 0
      },
      "text/plain": [
       "Validation: |          | 0/? [00:00<?, ?it/s]"
      ]
     },
     "metadata": {},
     "output_type": "display_data"
    },
    {
     "data": {
      "application/vnd.jupyter.widget-view+json": {
       "model_id": "c445400fdd7b4ce2a69da7e53d96885a",
       "version_major": 2,
       "version_minor": 0
      },
      "text/plain": [
       "Validation: |          | 0/? [00:00<?, ?it/s]"
      ]
     },
     "metadata": {},
     "output_type": "display_data"
    },
    {
     "data": {
      "application/vnd.jupyter.widget-view+json": {
       "model_id": "bcf56e4f5b774ef4ac2909c92918419c",
       "version_major": 2,
       "version_minor": 0
      },
      "text/plain": [
       "Validation: |          | 0/? [00:00<?, ?it/s]"
      ]
     },
     "metadata": {},
     "output_type": "display_data"
    },
    {
     "data": {
      "application/vnd.jupyter.widget-view+json": {
       "model_id": "0f4e226aac3047548e50e58f924d5660",
       "version_major": 2,
       "version_minor": 0
      },
      "text/plain": [
       "Validation: |          | 0/? [00:00<?, ?it/s]"
      ]
     },
     "metadata": {},
     "output_type": "display_data"
    },
    {
     "data": {
      "application/vnd.jupyter.widget-view+json": {
       "model_id": "a41a909d261f4d129b124627d38542a2",
       "version_major": 2,
       "version_minor": 0
      },
      "text/plain": [
       "Validation: |          | 0/? [00:00<?, ?it/s]"
      ]
     },
     "metadata": {},
     "output_type": "display_data"
    },
    {
     "data": {
      "application/vnd.jupyter.widget-view+json": {
       "model_id": "53a83df44b694d46afe300ba4a040f14",
       "version_major": 2,
       "version_minor": 0
      },
      "text/plain": [
       "Validation: |          | 0/? [00:00<?, ?it/s]"
      ]
     },
     "metadata": {},
     "output_type": "display_data"
    },
    {
     "data": {
      "application/vnd.jupyter.widget-view+json": {
       "model_id": "a9056267393a4f59861438629629ac28",
       "version_major": 2,
       "version_minor": 0
      },
      "text/plain": [
       "Validation: |          | 0/? [00:00<?, ?it/s]"
      ]
     },
     "metadata": {},
     "output_type": "display_data"
    },
    {
     "name": "stderr",
     "output_type": "stream",
     "text": [
      "💡 Tip: For seamless cloud uploads and versioning, try installing [litmodels](https://pypi.org/project/litmodels/) to enable LitModelCheckpoint, which syncs automatically with the Lightning model registry.\n",
      "GPU available: True (cuda), used: True\n",
      "TPU available: False, using: 0 TPU cores\n",
      "HPU available: False, using: 0 HPUs\n",
      "LOCAL_RANK: 0 - CUDA_VISIBLE_DEVICES: [0]\n"
     ]
    },
    {
     "name": "stdout",
     "output_type": "stream",
     "text": [
      "[Forecast] 30-day forecast saved to: D:\\PSU\\241-353\\Mini_Project\\ML\\TFT\\BTS\\tft_bts_outputs\\tft_bts_30day_forecast.csv\n",
      "[Done] Outputs in: D:\\PSU\\241-353\\Mini_Project\\ML\\TFT\\BTS\\tft_bts_outputs\n"
     ]
    }
   ],
   "source": [
    "# 6) Define model\n",
    "tft = TemporalFusionTransformer.from_dataset(\n",
    "    training,\n",
    "    learning_rate=LR,\n",
    "    hidden_size=64,\n",
    "    attention_head_size=4,\n",
    "    hidden_continuous_size=16,\n",
    "    dropout=0.30,\n",
    "    loss=QuantileLoss(),\n",
    "    log_interval=50,\n",
    "    optimizer=\"adam\",\n",
    "    reduce_on_plateau_patience=4,\n",
    ")\n",
    "\n",
    "# 7) Train\n",
    "ckpt_dir = PLOTS_DIR / \"ckpts\"\n",
    "ckpt_dir.mkdir(exist_ok=True, parents=True)\n",
    "\n",
    "callbacks = [\n",
    "    EarlyStopping(monitor=\"val_loss\", min_delta=1e-4, patience=5, mode=\"min\"),\n",
    "    ModelCheckpoint(dirpath=str(ckpt_dir), filename=\"best\", save_top_k=1, monitor=\"val_loss\", mode=\"min\"),\n",
    "    LearningRateMonitor(logging_interval=\"epoch\"),\n",
    "]\n",
    "\n",
    "trainer = pl.Trainer(\n",
    "    accelerator=\"auto\",\n",
    "    devices=1,\n",
    "    max_epochs=EPOCHS,\n",
    "    gradient_clip_val=0.1,\n",
    "    callbacks=callbacks,\n",
    "    log_every_n_steps=10,\n",
    "    default_root_dir=str(PLOTS_DIR),\n",
    "    logger=csv_logger,  \n",
    ")\n",
    "trainer.fit(tft, train_dataloaders=train_loader, val_dataloaders=val_loader)\n",
    "\n",
    "# Load best model\n",
    "best_path = callbacks[1].best_model_path if hasattr(callbacks[1], \"best_model_path\") else None\n",
    "if best_path and os.path.exists(best_path):\n",
    "    tft = TemporalFusionTransformer.load_from_checkpoint(best_path)\n",
    "\n",
    "# 9) Forecast next 30 days (future)\n",
    "pred_future = tft.predict(val_loader)  # future → no y_true\n",
    "if isinstance(pred_future, list):\n",
    "    y_pred_future = torch.cat([p for p in pred_future], dim=0)\n",
    "else:\n",
    "    y_pred_future = pred_future\n",
    "\n",
    "# shape should be [1, 30] for single-series\n",
    "yhat = y_pred_future.detach().cpu().numpy().reshape(-1)\n",
    "\n",
    "last_date = df[DATE_COL].max()\n",
    "future_dates = pd.date_range(last_date + pd.Timedelta(days=1), periods=MAX_PRED_LEN, freq=\"D\")\n",
    "df_forecast = pd.DataFrame({\"date\": future_dates, \"forecast_bts\": yhat})\n",
    "out_csv = PLOTS_DIR / \"tft_bts_30day_forecast.csv\"\n",
    "df_forecast.to_csv(out_csv, index=False)\n",
    "print(f\"[Forecast] 30-day forecast saved to: {out_csv.resolve()}\")\n",
    "\n",
    "# quick preview plot\n",
    "plt.figure(figsize=(12,5))\n",
    "plt.plot(df[DATE_COL].tail(120), df[TARGET_COL].tail(120), label=\"History (last 120d)\")\n",
    "plt.plot(df_forecast[\"date\"], df_forecast[\"forecast_bts\"], label=\"Forecast (30d)\")\n",
    "plt.title(\"MRT bts: History vs 30-day Forecast\")\n",
    "plt.xlabel(\"Date\")\n",
    "plt.ylabel(\"Ridership (bts)\")\n",
    "plt.legend()\n",
    "plt.tight_layout()\n",
    "plt.savefig(PLOTS_DIR / \"history_vs_forecast_30d.png\", dpi=150)\n",
    "plt.close()\n",
    "\n",
    "print(\"[Done] Outputs in:\", PLOTS_DIR.resolve())"
   ]
  },
  {
   "cell_type": "code",
   "execution_count": 10,
   "id": "00b50a57",
   "metadata": {},
   "outputs": [],
   "source": [
    "training_cutoff = int(df[\"time_idx\"].max()) - MAX_PRED_LEN\n",
    "start_idx = int(training_cutoff - MAX_ENC_LEN - MAX_PRED_LEN + 1)\n",
    "end_idx   = int(training_cutoff)\n",
    "\n",
    "df_val30 = df[(df[\"time_idx\"] >= start_idx) & (df[\"time_idx\"] <= end_idx)].copy()\n",
    "\n",
    "# 2) ใช้ schema เดิมจาก training → มี y_true แน่นอน\n",
    "val30_ds = TimeSeriesDataSet.from_dataset(training, df_val30, predict=False, stop_randomization=True)\n",
    "val30_loader = val30_ds.to_dataloader(train=False, batch_size=128, num_workers=0)"
   ]
  },
  {
   "cell_type": "code",
   "execution_count": 11,
   "id": "9ca0c2cc",
   "metadata": {},
   "outputs": [
    {
     "name": "stderr",
     "output_type": "stream",
     "text": [
      "💡 Tip: For seamless cloud uploads and versioning, try installing [litmodels](https://pypi.org/project/litmodels/) to enable LitModelCheckpoint, which syncs automatically with the Lightning model registry.\n",
      "GPU available: True (cuda), used: True\n",
      "TPU available: False, using: 0 TPU cores\n",
      "HPU available: False, using: 0 HPUs\n",
      "LOCAL_RANK: 0 - CUDA_VISIBLE_DEVICES: [0]\n"
     ]
    },
    {
     "name": "stdout",
     "output_type": "stream",
     "text": [
      "✅ Saved metrics: D:\\PSU\\241-353\\Mini_Project\\ML\\TFT\\BTS\\tft_bts_outputs\\val30_metrics.csv\n",
      "✅ Saved CSV: D:\\PSU\\241-353\\Mini_Project\\ML\\TFT\\BTS\\tft_bts_outputs\\val30_actual_vs_pred.csv\n"
     ]
    },
    {
     "data": {
      "image/png": "[encoded data removed]",
      "text/plain": [
       "<Figure size 1200x500 with 1 Axes>"
      ]
     },
     "metadata": {},
     "output_type": "display_data"
    },
    {
     "name": "stdout",
     "output_type": "stream",
     "text": [
      "✅ Saved PNG: D:\\PSU\\241-353\\Mini_Project\\ML\\TFT\\BTS\\tft_bts_outputs\\backtest_last_true_vs_pred.png\n"
     ]
    }
   ],
   "source": [
    "from pathlib import Path\n",
    "\n",
    "PLOTS_DIR = Path(\"tft_bts_outputs\"); PLOTS_DIR.mkdir(exist_ok=True, parents=True)\n",
    "\n",
    "# 1) y_pred from model (val30_loader must come from predict=False window)\n",
    "preds = tft.predict(val30_loader)\n",
    "y_pred = preds if torch.is_tensor(preds) else torch.cat(preds, dim=0)\n",
    "\n",
    "# If quantiles [B, T, Q] → pick median q=0.5\n",
    "if y_pred.ndim == 3:\n",
    "    try:\n",
    "        qs = list(getattr(tft.loss, \"quantiles\", [0.1, 0.5, 0.9]))\n",
    "        q_idx = qs.index(0.5) if 0.5 in qs else 1\n",
    "    except Exception:\n",
    "        q_idx = 1\n",
    "    y_pred = y_pred[..., q_idx]\n",
    "\n",
    "# 2) y_true: handle (x,y) tuples, dicts, or nested tuples/lists\n",
    "def extract_target_from_batch(batch):\n",
    "    # case A: tuple/list like (x, y) or (x, y, index)\n",
    "    if isinstance(batch, (tuple, list)) and len(batch) >= 2:\n",
    "        x, y = batch[0], batch[1]\n",
    "        # y is already a tensor\n",
    "        if isinstance(y, torch.Tensor):\n",
    "            return y\n",
    "        # y is tuple/list -> find first tensor inside\n",
    "        if isinstance(y, (tuple, list)):\n",
    "            for item in y:\n",
    "                if isinstance(item, torch.Tensor):\n",
    "                    return item\n",
    "        # y is dict with known keys\n",
    "        if isinstance(y, dict):\n",
    "            for k in (\"decoder_target\", \"target\", \"y\"):\n",
    "                if k in y and isinstance(y[k], torch.Tensor):\n",
    "                    return y[k]\n",
    "        # fallback: try x dict\n",
    "        if isinstance(x, dict):\n",
    "            if \"decoder_target\" in x and isinstance(x[\"decoder_target\"], torch.Tensor):\n",
    "                return x[\"decoder_target\"]\n",
    "    # case B: dict batch\n",
    "    if isinstance(batch, dict):\n",
    "        for k in (\"decoder_target\", \"target\", \"y\"):\n",
    "            if k in batch and isinstance(batch[k], torch.Tensor):\n",
    "                return batch[k]\n",
    "    raise TypeError(f\"Cannot extract target from batch of type {type(batch)}\")\n",
    "\n",
    "ys = []\n",
    "for b in val30_loader:\n",
    "    y_t = extract_target_from_batch(b)\n",
    "    ys.append(y_t)\n",
    "\n",
    "# now cat tensors\n",
    "y_true = torch.cat(ys, dim=0)\n",
    "\n",
    "# 3) metrics + plot\n",
    "y_p = y_pred.detach().cpu().numpy().reshape(-1)\n",
    "y_t = y_true.detach().cpu().numpy().reshape(-1)\n",
    "\n",
    "mae  = mean_absolute_error(y_t, y_p)\n",
    "rmse = root_mean_squared_error(y_t, y_p)\n",
    "mape = mean_absolute_percentage_error(y_t, y_p) * 100.0\n",
    "smape = (np.mean(np.abs(y_p - y_t) / ((np.abs(y_t)+np.abs(y_p))/2.0 + 1e-9))) * 100.0\n",
    "metrics_df = pd.DataFrame([{\n",
    "    \"MAE\": float(mae),\n",
    "    \"RMSE\": float(rmse),\n",
    "    \"MAPE_pct\": float(mape),\n",
    "    \"sMAPE_pct\": float(smape),\n",
    "    \"n_points\": int(len(y_t)),\n",
    "}])\n",
    "\n",
    "metrics_path = PLOTS_DIR / \"val30_metrics.csv\"\n",
    "metrics_df.to_csv(metrics_path, index=False)\n",
    "print(f\"✅ Saved metrics: {metrics_path.resolve()}\")\n",
    "\n",
    "idx_to_date = dict(zip(df[\"time_idx\"].astype(int).tolist(),\n",
    "                       pd.to_datetime(df[DATE_COL]).tolist()))\n",
    "\n",
    "# 1) ดึง y_true และ (ถ้ามี) decoder_time_idx ให้ครบในลูปเดียวกัน\n",
    "ys, t_idx_batches = [], []\n",
    "for b in val30_loader:  # val30_loader ต้องมาจาก TimeSeriesDataSet(..., predict=False)\n",
    "    # --- ดึง y_true ตามโครงสร้าง batch ---\n",
    "    if isinstance(b, (tuple, list)) and len(b) >= 2:\n",
    "        x, y = b[0], b[1]\n",
    "        # y เป็น tensor ตรง ๆ\n",
    "        if isinstance(y, torch.Tensor):\n",
    "            ys.append(y)\n",
    "        # y เป็น tuple/list → หาตัว tensor ตัวแรก\n",
    "        elif isinstance(y, (tuple, list)):\n",
    "            found = None\n",
    "            for item in y:\n",
    "                if isinstance(item, torch.Tensor):\n",
    "                    found = item; break\n",
    "            if found is None:\n",
    "                raise TypeError(\"Cannot find tensor target inside (tuple/list) y\")\n",
    "            ys.append(found)\n",
    "        # y เป็น dict\n",
    "        elif isinstance(y, dict):\n",
    "            for k in (\"decoder_target\", \"target\", \"y\"):\n",
    "                if k in y and isinstance(y[k], torch.Tensor):\n",
    "                    ys.append(y[k]); break\n",
    "            else:\n",
    "                raise TypeError(\"Cannot find tensor target inside dict y\")\n",
    "        else:\n",
    "            raise TypeError(f\"Unexpected y type: {type(y)}\")\n",
    "        # --- เก็บ decoder_time_idx ถ้ามีอยู่ใน x ---\n",
    "        if isinstance(x, dict) and \"decoder_time_idx\" in x and isinstance(x[\"decoder_time_idx\"], torch.Tensor):\n",
    "            t_idx_batches.append(x[\"decoder_time_idx\"])\n",
    "    elif isinstance(b, dict):\n",
    "        # บางเวอร์ชัน batch เป็น dict เลย\n",
    "        for k in (\"decoder_target\", \"target\", \"y\"):\n",
    "            if k in b and isinstance(b[k], torch.Tensor):\n",
    "                ys.append(b[k]); break\n",
    "        # decoder_time_idx\n",
    "        if \"decoder_time_idx\" in b and isinstance(b[\"decoder_time_idx\"], torch.Tensor):\n",
    "            t_idx_batches.append(b[\"decoder_time_idx\"])\n",
    "    else:\n",
    "        raise TypeError(f\"Unexpected batch type: {type(b)}\")\n",
    "\n",
    "y_true = torch.cat(ys, dim=0)                       # [B, T]\n",
    "y_t = y_true.detach().cpu().numpy().reshape(-1)     # flatten\n",
    "\n",
    "# 2) สร้างลิสต์วันที่ตามลำดับเดียวกับ y_t / y_p\n",
    "if len(t_idx_batches) > 0:\n",
    "    dec_time_idx = torch.cat(t_idx_batches, dim=0)          # [B, T]\n",
    "    time_idx_flat = dec_time_idx.detach().cpu().numpy().reshape(-1).tolist()\n",
    "    dates = [idx_to_date[int(i)] for i in time_idx_flat]     # ยาวเท่า y_t\n",
    "else:\n",
    "    # Fallback: คำนวณจาก cutoff (ในกรณี x ไม่มี decoder_time_idx)\n",
    "    MAX_PRED_LEN = getattr(training, \"max_prediction_length\", len(y_t))\n",
    "    training_cutoff = int(df[\"time_idx\"].max()) - MAX_PRED_LEN\n",
    "    dec_start_idx = training_cutoff - MAX_PRED_LEN + 1\n",
    "    # ยาวเท่าจำนวนจุดที่เรามีจริง\n",
    "    dates = [idx_to_date[i] for i in range(dec_start_idx, dec_start_idx + len(y_t))]\n",
    "\n",
    "# 3) ทำให้ y_pred ยาวเท่ากัน (ป้องกัน mismatch เผื่อ flatten แล้วต่างกัน)\n",
    "n = min(len(y_t), len(y_p), len(dates))\n",
    "dates = pd.to_datetime(dates[:n])\n",
    "y_t = y_t[:n]\n",
    "y_p = y_p[:n]\n",
    "\n",
    "# 4) บันทึก CSV: date, actual, forecast\n",
    "outdir = PLOTS_DIR\n",
    "df_eval = pd.DataFrame({\"date\": dates, \"actual\": y_t, \"forecast\": y_p})\n",
    "csv_path = outdir / \"val30_actual_vs_pred.csv\"\n",
    "df_eval.to_csv(csv_path, index=False)\n",
    "print(f\"✅ Saved CSV: {csv_path.resolve()}\")\n",
    "\n",
    "# 5) วาดกราฟโดยใช้วันที่บนแกน X\n",
    "plt.figure(figsize=(12,5))\n",
    "plt.plot(df_eval[\"date\"], df_eval[\"actual\"], label=\"Actual\")\n",
    "plt.plot(df_eval[\"date\"], df_eval[\"forecast\"], label=\"Forecast\")\n",
    "plt.title(\"Backtest (last 30): Actual vs Forecast\")\n",
    "plt.xlabel(\"Date\"); plt.ylabel(\"Ridership (bts)\")\n",
    "plt.legend(); plt.tight_layout(); plt.show()\n",
    "\n",
    "# และเซฟรูปด้วย\n",
    "png_path = outdir / \"backtest_last_true_vs_pred.png\"\n",
    "plt.figure(figsize=(12,5))\n",
    "plt.plot(df_eval[\"date\"], df_eval[\"actual\"], label=\"Actual\")\n",
    "plt.plot(df_eval[\"date\"], df_eval[\"forecast\"], label=\"Forecast\")\n",
    "plt.title(\"Backtest (last 30): Actual vs Forecast\")\n",
    "plt.xlabel(\"Date\"); plt.ylabel(\"Ridership (bts)\")\n",
    "plt.legend(); plt.tight_layout(); plt.savefig(png_path, dpi=150); plt.close()\n",
    "print(f\"✅ Saved PNG: {png_path.resolve()}\")"
   ]
  },
  {
   "cell_type": "code",
   "execution_count": null,
   "id": "e7a086da",
   "metadata": {},
   "outputs": [],
   "source": []
  }
 ],
 "metadata": {
  "kernelspec": {
   "display_name": "Mini_Project (3.12.4)",
   "language": "python",
   "name": "python3"
  },
  "language_info": {
   "codemirror_mode": {
    "name": "ipython",
    "version": 3
   },
   "file_extension": ".py",
   "mimetype": "text/x-python",
   "name": "python",
   "nbconvert_exporter": "python",
   "pygments_lexer": "ipython3",
   "version": "3.12.4"
  }
 },
 "nbformat": 4,
 "nbformat_minor": 5
}

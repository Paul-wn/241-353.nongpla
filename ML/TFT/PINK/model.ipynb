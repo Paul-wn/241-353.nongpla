{
 "cells": [
  {
   "cell_type": "code",
   "execution_count": 12,
   "id": "af0acfa4",
   "metadata": {},
   "outputs": [],
   "source": [
    "import os\n",
    "import warnings\n",
    "from pathlib import Path\n",
    "from dataclasses import dataclass\n",
    "\n",
    "import numpy as np\n",
    "import pandas as pd\n",
    "import matplotlib.pyplot as plt\n",
    "\n",
    "import torch\n",
    "import lightning.pytorch as pl\n",
    "from lightning.pytorch.callbacks import EarlyStopping, ModelCheckpoint, LearningRateMonitor\n",
    "\n",
    "from sklearn.metrics import mean_absolute_error, mean_absolute_percentage_error , root_mean_squared_error\n",
    "\n",
    "from pytorch_forecasting import TimeSeriesDataSet, TemporalFusionTransformer\n",
    "from pytorch_forecasting.data import GroupNormalizer, NaNLabelEncoder\n",
    "from pytorch_forecasting.metrics import QuantileLoss , RMSE , MAE\n",
    "\n",
    "from lightning.pytorch.loggers import CSVLogger, TensorBoardLogger"
   ]
  },
  {
   "cell_type": "code",
   "execution_count": 13,
   "id": "58f5536d",
   "metadata": {},
   "outputs": [],
   "source": [
    "DATA_CSV = Path(\"D:\\PSU/241-353/Mini_Project/data/augmented_data.csv\")  # ensure this CSV is in the same folder when running\n",
    "DATE_COL = \"วันที่\"\n",
    "TARGET_COL = \"รถไฟฟ้าสายสีชมพู\"\n",
    "\n",
    "# Exogenous covariates (adjust names if different in your CSV)\n",
    "DAY_TYPE_COL = \"day_type\"         # categorical\n",
    "RAIN_COL     = \"rain_average\"     # real\n",
    "ARL_COL      = \"รถไฟฟ้าสายสีแดง\"      # real\n",
    "PURPLE_COL   = \"รถไฟฟ้าสายสีม่วง\" # real\n",
    "BTS_COL      = \"รถไฟฟ้าสายสีเหลือง\"      # real\n",
    "\n",
    "# Model / dataset params\n",
    "GROUP_ID = \"series_id\"\n",
    "MAX_PRED_LEN = 30\n",
    "MAX_ENC_LEN  = 120\n",
    "BATCH_SIZE_TRAIN = 64\n",
    "BATCH_SIZE_EVAL  = 128\n",
    "EPOCHS = 200\n",
    "LR = 3e-4\n",
    "RANDOM_SEED = 2025"
   ]
  },
  {
   "cell_type": "code",
   "execution_count": 14,
   "id": "0ae8c52e",
   "metadata": {},
   "outputs": [],
   "source": [
    "PLOTS_DIR = Path(\"tft_pink_outputs\")\n",
    "PLOTS_DIR.mkdir(exist_ok=True, parents=True)\n",
    "csv_logger = CSVLogger(save_dir=str(PLOTS_DIR), name=\"logs\")"
   ]
  },
  {
   "cell_type": "code",
   "execution_count": 15,
   "id": "41ac4578",
   "metadata": {},
   "outputs": [],
   "source": [
    "def _safe_interp_fill(s: pd.Series) -> pd.Series:\n",
    "    \"\"\"Interpolate then back/forward fill for numeric series.\"\"\"\n",
    "    try:\n",
    "        s = pd.to_numeric(s, errors=\"coerce\")\n",
    "    except Exception:\n",
    "        pass\n",
    "    s = s.interpolate(limit_direction=\"both\")\n",
    "    s = s.bfill().ffill()\n",
    "    return s\n"
   ]
  },
  {
   "cell_type": "code",
   "execution_count": 16,
   "id": "be099abb",
   "metadata": {},
   "outputs": [
    {
     "name": "stderr",
     "output_type": "stream",
     "text": [
      "Seed set to 2025\n"
     ]
    }
   ],
   "source": [
    "\n",
    "pl.seed_everything(RANDOM_SEED, workers=True)\n",
    "warnings.filterwarnings(\"ignore\")\n",
    "\n",
    "# 1) Load data\n",
    "if not DATA_CSV.exists():\n",
    "    raise FileNotFoundError(f\"CSV not found: {DATA_CSV.resolve()}\")\n",
    "df = pd.read_csv(DATA_CSV)\n",
    "df = df[df[DATE_COL] >= '2024-02-25']  # ใช้ข้อมูลหลังจากวันที่ 2024-02-25\n",
    "\n",
    "# Basic checks\n",
    "for c in [DATE_COL, TARGET_COL]:\n",
    "    if c not in df.columns:\n",
    "        raise ValueError(f\"Column '{c}' not found in CSV. Please edit config at top of the file.\")\n",
    "\n",
    "# 2) Feature engineering\n",
    "df[DATE_COL] = pd.to_datetime(df[DATE_COL])\n",
    "df = df.sort_values(DATE_COL).reset_index(drop=True)\n",
    "df[GROUP_ID] = \"pink\"\n",
    "df[\"time_idx\"] = (df[DATE_COL] - df[DATE_COL].min()).dt.days.astype(int)\n",
    "\n",
    "# Optional: build is_weekend from date (Saturday=5, Sunday=6)\n",
    "# df[\"is_weekend\"] = df[DATE_COL].dt.weekday.isin([5, 6]).astype(int)\n",
    "df[\"dow\"] = df[DATE_COL].dt.weekday.astype(\"category\")\n",
    "# Cast categorical for day_type if present\n",
    "if DAY_TYPE_COL in df.columns:\n",
    "    df[DAY_TYPE_COL] = df[DAY_TYPE_COL].astype(str).astype(\"category\")\n",
    "\n",
    "if \"dow\" in df.columns:\n",
    "    df[\"dow\"] = df[\"dow\"].astype(str).astype(\"category\")\n",
    "\n",
    "# Fill numeric covariates\n",
    "for col in [RAIN_COL, ARL_COL, PURPLE_COL, BTS_COL, TARGET_COL]:\n",
    "    if col in df.columns:\n",
    "        df[col] = _safe_interp_fill(df[col])\n",
    "\n",
    "# 3) Define feature lists (no leakage: do NOT include target in features)\n",
    "time_varying_known_categoricals = [c for c in [DAY_TYPE_COL, \"dow\"] if c in df.columns]\n",
    "time_varying_known_reals = [\"time_idx\"]\n",
    "\n",
    "categorical_encoders = {}\n",
    "if DAY_TYPE_COL in df.columns:\n",
    "    categorical_encoders[DAY_TYPE_COL] = NaNLabelEncoder(add_nan=True)  # เผื่อมีค่าว่าง/ไม่รู้ล่วงหน้า\n",
    "if \"dow\" in df.columns:\n",
    "    categorical_encoders[\"dow\"] = NaNLabelEncoder(add_nan=False)     \n",
    "\n",
    "time_varying_unknown_reals = []\n",
    "for col in [ARL_COL, BTS_COL, PURPLE_COL, RAIN_COL]:\n",
    "    if col in df.columns:\n",
    "        time_varying_unknown_reals.append(col)\n",
    "\n",
    "# 4) Split by time for training/validation\n",
    "max_time_idx = int(df[\"time_idx\"].max())\n",
    "training_cutoff = max_time_idx - MAX_PRED_LEN\n"
   ]
  },
  {
   "cell_type": "code",
   "execution_count": 17,
   "id": "5a21d94b",
   "metadata": {},
   "outputs": [],
   "source": [
    "# Training dataset\n",
    "training = TimeSeriesDataSet(\n",
    "    df[df.time_idx <= training_cutoff],\n",
    "    time_idx=\"time_idx\",\n",
    "    target=TARGET_COL,\n",
    "    group_ids=[GROUP_ID],\n",
    "    max_encoder_length=MAX_ENC_LEN,\n",
    "    max_prediction_length=MAX_PRED_LEN,\n",
    "    target_normalizer=GroupNormalizer(groups=[GROUP_ID], transformation=None),  # keep target in original scale\n",
    "    static_categoricals=[GROUP_ID],\n",
    "    time_varying_known_categoricals=time_varying_known_categoricals,\n",
    "    time_varying_known_reals=time_varying_known_reals,\n",
    "    time_varying_unknown_reals=time_varying_unknown_reals + [TARGET_COL],  # include target as unknown-real (historical known to encoder, masked in decoder)\n",
    "    add_relative_time_idx=True,\n",
    "    add_encoder_length=True,\n",
    "    add_target_scales=True,\n",
    "    categorical_encoders=categorical_encoders\n",
    ")\n",
    "\n",
    "# Validation FUTURE (predict next 30 days) -> no y_true\n",
    "val_future = TimeSeriesDataSet.from_dataset(training, df, predict=True, stop_randomization=True)\n",
    "\n"
   ]
  },
  {
   "cell_type": "code",
   "execution_count": 18,
   "id": "ebcd5a0d",
   "metadata": {},
   "outputs": [],
   "source": [
    "# Validation HISTORICAL window that still has y_true (backtest)\n",
    "start_idx = int(training_cutoff - MAX_ENC_LEN - MAX_PRED_LEN + 1)\n",
    "end_idx   = int(training_cutoff)\n",
    "mask = (df[\"time_idx\"] >= start_idx) & (df[\"time_idx\"] <= end_idx)\n",
    "df_val_hist = df.loc[mask].copy()\n",
    "needed = MAX_ENC_LEN + MAX_PRED_LEN\n",
    "if len(df_val_hist) < needed:\n",
    "    # fallback: shrink encoder length to fit\n",
    "    shrink = needed - len(df_val_hist) + 1\n",
    "    enc_len = max(30, MAX_ENC_LEN - shrink)  # don't go below 30\n",
    "    print(f\"[WARN] val_hist window too short ({len(df_val_hist)} rows). Shrinking encoder length to {enc_len}.\")\n",
    "    enc_len_use = enc_len\n",
    "else:\n",
    "    enc_len_use = MAX_ENC_LEN\n"
   ]
  },
  {
   "cell_type": "code",
   "execution_count": 19,
   "id": "753f5662",
   "metadata": {},
   "outputs": [],
   "source": [
    "# 5) Dataloaders\n",
    "train_loader = training.to_dataloader(train=True,  batch_size=BATCH_SIZE_TRAIN, num_workers=0)\n",
    "val_loader   = val_future.to_dataloader(train=False, batch_size=BATCH_SIZE_EVAL, num_workers=0)\n"
   ]
  },
  {
   "cell_type": "code",
   "execution_count": 20,
   "id": "5b3707bb",
   "metadata": {},
   "outputs": [
    {
     "name": "stderr",
     "output_type": "stream",
     "text": [
      "GPU available: True (cuda), used: True\n",
      "TPU available: False, using: 0 TPU cores\n",
      "HPU available: False, using: 0 HPUs\n",
      "LOCAL_RANK: 0 - CUDA_VISIBLE_DEVICES: [0]\n",
      "\n",
      "   | Name                               | Type                            | Params | Mode \n",
      "------------------------------------------------------------------------------------------------\n",
      "0  | loss                               | MAE                             | 0      | train\n",
      "1  | logging_metrics                    | ModuleList                      | 0      | train\n",
      "2  | input_embeddings                   | MultiEmbedding                  | 48     | train\n",
      "3  | prescalers                         | ModuleDict                      | 640    | train\n",
      "4  | static_variable_selection          | VariableSelectionNetwork        | 16.1 K | train\n",
      "5  | encoder_variable_selection         | VariableSelectionNetwork        | 39.1 K | train\n",
      "6  | decoder_variable_selection         | VariableSelectionNetwork        | 11.1 K | train\n",
      "7  | static_context_variable_selection  | GatedResidualNetwork            | 7.3 K  | train\n",
      "8  | static_context_initial_hidden_lstm | GatedResidualNetwork            | 7.3 K  | train\n",
      "9  | static_context_initial_cell_lstm   | GatedResidualNetwork            | 7.3 K  | train\n",
      "10 | static_context_enrichment          | GatedResidualNetwork            | 7.3 K  | train\n",
      "11 | lstm_encoder                       | LSTM                            | 14.4 K | train\n",
      "12 | lstm_decoder                       | LSTM                            | 14.4 K | train\n",
      "13 | post_lstm_gate_encoder             | GatedLinearUnit                 | 3.6 K  | train\n",
      "14 | post_lstm_add_norm_encoder         | AddNorm                         | 84     | train\n",
      "15 | static_enrichment                  | GatedResidualNetwork            | 9.1 K  | train\n",
      "16 | multihead_attn                     | InterpretableMultiHeadAttention | 5.4 K  | train\n",
      "17 | post_attn_gate_norm                | GateAddNorm                     | 3.7 K  | train\n",
      "18 | pos_wise_ff                        | GatedResidualNetwork            | 7.3 K  | train\n",
      "19 | pre_output_gate_norm               | GateAddNorm                     | 3.7 K  | train\n",
      "20 | output_layer                       | Linear                          | 43     | train\n",
      "------------------------------------------------------------------------------------------------\n",
      "157 K     Trainable params\n",
      "0         Non-trainable params\n",
      "157 K     Total params\n",
      "0.629     Total estimated model params size (MB)\n",
      "358       Modules in train mode\n",
      "0         Modules in eval mode\n"
     ]
    },
    {
     "data": {
      "application/vnd.jupyter.widget-view+json": {
       "model_id": "139082667d2c47b1ac6fbec2b40bec2d",
       "version_major": 2,
       "version_minor": 0
      },
      "text/plain": [
       "Sanity Checking: |          | 0/? [00:00<?, ?it/s]"
      ]
     },
     "metadata": {},
     "output_type": "display_data"
    },
    {
     "data": {
      "application/vnd.jupyter.widget-view+json": {
       "model_id": "49ee7cfe798247859e7fca3125319a6f",
       "version_major": 2,
       "version_minor": 0
      },
      "text/plain": [
       "Training: |          | 0/? [00:00<?, ?it/s]"
      ]
     },
     "metadata": {},
     "output_type": "display_data"
    },
    {
     "data": {
      "application/vnd.jupyter.widget-view+json": {
       "model_id": "f6664bf289d14d73b1357a20ce22e9af",
       "version_major": 2,
       "version_minor": 0
      },
      "text/plain": [
       "Validation: |          | 0/? [00:00<?, ?it/s]"
      ]
     },
     "metadata": {},
     "output_type": "display_data"
    },
    {
     "data": {
      "application/vnd.jupyter.widget-view+json": {
       "model_id": "8b90fedf054749a5853fde53bd6113a8",
       "version_major": 2,
       "version_minor": 0
      },
      "text/plain": [
       "Validation: |          | 0/? [00:00<?, ?it/s]"
      ]
     },
     "metadata": {},
     "output_type": "display_data"
    },
    {
     "data": {
      "application/vnd.jupyter.widget-view+json": {
       "model_id": "cc0df9ce82b746818366a66409dd1dd4",
       "version_major": 2,
       "version_minor": 0
      },
      "text/plain": [
       "Validation: |          | 0/? [00:00<?, ?it/s]"
      ]
     },
     "metadata": {},
     "output_type": "display_data"
    },
    {
     "data": {
      "application/vnd.jupyter.widget-view+json": {
       "model_id": "573b119f93954cc998bb04ec82f4fe2b",
       "version_major": 2,
       "version_minor": 0
      },
      "text/plain": [
       "Validation: |          | 0/? [00:00<?, ?it/s]"
      ]
     },
     "metadata": {},
     "output_type": "display_data"
    },
    {
     "data": {
      "application/vnd.jupyter.widget-view+json": {
       "model_id": "ef77a015938542abab3ad78df091b9e1",
       "version_major": 2,
       "version_minor": 0
      },
      "text/plain": [
       "Validation: |          | 0/? [00:00<?, ?it/s]"
      ]
     },
     "metadata": {},
     "output_type": "display_data"
    },
    {
     "data": {
      "application/vnd.jupyter.widget-view+json": {
       "model_id": "1fa307b90feb493987648fc5aee7943d",
       "version_major": 2,
       "version_minor": 0
      },
      "text/plain": [
       "Validation: |          | 0/? [00:00<?, ?it/s]"
      ]
     },
     "metadata": {},
     "output_type": "display_data"
    },
    {
     "data": {
      "application/vnd.jupyter.widget-view+json": {
       "model_id": "6ad7897768e04745bfc995eb4b9addb3",
       "version_major": 2,
       "version_minor": 0
      },
      "text/plain": [
       "Validation: |          | 0/? [00:00<?, ?it/s]"
      ]
     },
     "metadata": {},
     "output_type": "display_data"
    },
    {
     "data": {
      "application/vnd.jupyter.widget-view+json": {
       "model_id": "fcd5607ff5db4d099f409d007115fd6c",
       "version_major": 2,
       "version_minor": 0
      },
      "text/plain": [
       "Validation: |          | 0/? [00:00<?, ?it/s]"
      ]
     },
     "metadata": {},
     "output_type": "display_data"
    },
    {
     "data": {
      "application/vnd.jupyter.widget-view+json": {
       "model_id": "8f131db3e4c3453ab56293a0bbdf7d0f",
       "version_major": 2,
       "version_minor": 0
      },
      "text/plain": [
       "Validation: |          | 0/? [00:00<?, ?it/s]"
      ]
     },
     "metadata": {},
     "output_type": "display_data"
    },
    {
     "data": {
      "application/vnd.jupyter.widget-view+json": {
       "model_id": "d51c8edce5ca425aa02c3d08dbceed27",
       "version_major": 2,
       "version_minor": 0
      },
      "text/plain": [
       "Validation: |          | 0/? [00:00<?, ?it/s]"
      ]
     },
     "metadata": {},
     "output_type": "display_data"
    },
    {
     "data": {
      "application/vnd.jupyter.widget-view+json": {
       "model_id": "b1f787fbd3bd4cde9fcd0e3d18e7e2f2",
       "version_major": 2,
       "version_minor": 0
      },
      "text/plain": [
       "Validation: |          | 0/? [00:00<?, ?it/s]"
      ]
     },
     "metadata": {},
     "output_type": "display_data"
    },
    {
     "data": {
      "application/vnd.jupyter.widget-view+json": {
       "model_id": "e291c5fd7c894bff9cfb98f23d4e94f8",
       "version_major": 2,
       "version_minor": 0
      },
      "text/plain": [
       "Validation: |          | 0/? [00:00<?, ?it/s]"
      ]
     },
     "metadata": {},
     "output_type": "display_data"
    },
    {
     "data": {
      "application/vnd.jupyter.widget-view+json": {
       "model_id": "1c9a7c229ab14a5598db870679061397",
       "version_major": 2,
       "version_minor": 0
      },
      "text/plain": [
       "Validation: |          | 0/? [00:00<?, ?it/s]"
      ]
     },
     "metadata": {},
     "output_type": "display_data"
    },
    {
     "data": {
      "application/vnd.jupyter.widget-view+json": {
       "model_id": "85e2a1f340874df6b6c0e0d3ce6f34d5",
       "version_major": 2,
       "version_minor": 0
      },
      "text/plain": [
       "Validation: |          | 0/? [00:00<?, ?it/s]"
      ]
     },
     "metadata": {},
     "output_type": "display_data"
    },
    {
     "data": {
      "application/vnd.jupyter.widget-view+json": {
       "model_id": "31456e8311ca4efc822f7c5051319efe",
       "version_major": 2,
       "version_minor": 0
      },
      "text/plain": [
       "Validation: |          | 0/? [00:00<?, ?it/s]"
      ]
     },
     "metadata": {},
     "output_type": "display_data"
    },
    {
     "data": {
      "application/vnd.jupyter.widget-view+json": {
       "model_id": "26e06c04b59f4e0a9707dbf856be9ffa",
       "version_major": 2,
       "version_minor": 0
      },
      "text/plain": [
       "Validation: |          | 0/? [00:00<?, ?it/s]"
      ]
     },
     "metadata": {},
     "output_type": "display_data"
    },
    {
     "data": {
      "application/vnd.jupyter.widget-view+json": {
       "model_id": "f345ac4edc6741ff8c17ab679aaa7c0d",
       "version_major": 2,
       "version_minor": 0
      },
      "text/plain": [
       "Validation: |          | 0/? [00:00<?, ?it/s]"
      ]
     },
     "metadata": {},
     "output_type": "display_data"
    },
    {
     "data": {
      "application/vnd.jupyter.widget-view+json": {
       "model_id": "44d08955820c4f53928f396d999769b4",
       "version_major": 2,
       "version_minor": 0
      },
      "text/plain": [
       "Validation: |          | 0/? [00:00<?, ?it/s]"
      ]
     },
     "metadata": {},
     "output_type": "display_data"
    },
    {
     "data": {
      "application/vnd.jupyter.widget-view+json": {
       "model_id": "4a5a0a087e4a4a9a8fce4d370e01eb00",
       "version_major": 2,
       "version_minor": 0
      },
      "text/plain": [
       "Validation: |          | 0/? [00:00<?, ?it/s]"
      ]
     },
     "metadata": {},
     "output_type": "display_data"
    },
    {
     "data": {
      "application/vnd.jupyter.widget-view+json": {
       "model_id": "f29b59d21eba43d588781a2b95756b38",
       "version_major": 2,
       "version_minor": 0
      },
      "text/plain": [
       "Validation: |          | 0/? [00:00<?, ?it/s]"
      ]
     },
     "metadata": {},
     "output_type": "display_data"
    },
    {
     "data": {
      "application/vnd.jupyter.widget-view+json": {
       "model_id": "4004636241c04d48b3c9726d5781e3e0",
       "version_major": 2,
       "version_minor": 0
      },
      "text/plain": [
       "Validation: |          | 0/? [00:00<?, ?it/s]"
      ]
     },
     "metadata": {},
     "output_type": "display_data"
    },
    {
     "data": {
      "application/vnd.jupyter.widget-view+json": {
       "model_id": "c43c0fd7e3ae4691abfe85a43b307566",
       "version_major": 2,
       "version_minor": 0
      },
      "text/plain": [
       "Validation: |          | 0/? [00:00<?, ?it/s]"
      ]
     },
     "metadata": {},
     "output_type": "display_data"
    },
    {
     "data": {
      "application/vnd.jupyter.widget-view+json": {
       "model_id": "ff145d4596284ffd8927a696c27e45fc",
       "version_major": 2,
       "version_minor": 0
      },
      "text/plain": [
       "Validation: |          | 0/? [00:00<?, ?it/s]"
      ]
     },
     "metadata": {},
     "output_type": "display_data"
    },
    {
     "data": {
      "application/vnd.jupyter.widget-view+json": {
       "model_id": "1fc95d40cd38464e8acaf03bec9db919",
       "version_major": 2,
       "version_minor": 0
      },
      "text/plain": [
       "Validation: |          | 0/? [00:00<?, ?it/s]"
      ]
     },
     "metadata": {},
     "output_type": "display_data"
    },
    {
     "data": {
      "application/vnd.jupyter.widget-view+json": {
       "model_id": "921a7c0b92b045e4b11393aec0b1ba76",
       "version_major": 2,
       "version_minor": 0
      },
      "text/plain": [
       "Validation: |          | 0/? [00:00<?, ?it/s]"
      ]
     },
     "metadata": {},
     "output_type": "display_data"
    },
    {
     "data": {
      "application/vnd.jupyter.widget-view+json": {
       "model_id": "70fb049a692a4aa0beb058bbbd85fc73",
       "version_major": 2,
       "version_minor": 0
      },
      "text/plain": [
       "Validation: |          | 0/? [00:00<?, ?it/s]"
      ]
     },
     "metadata": {},
     "output_type": "display_data"
    },
    {
     "data": {
      "application/vnd.jupyter.widget-view+json": {
       "model_id": "d7b50c365a7c4af7afd7d656a8143294",
       "version_major": 2,
       "version_minor": 0
      },
      "text/plain": [
       "Validation: |          | 0/? [00:00<?, ?it/s]"
      ]
     },
     "metadata": {},
     "output_type": "display_data"
    },
    {
     "data": {
      "application/vnd.jupyter.widget-view+json": {
       "model_id": "58e30a17b0eb48a28030096e51e53b67",
       "version_major": 2,
       "version_minor": 0
      },
      "text/plain": [
       "Validation: |          | 0/? [00:00<?, ?it/s]"
      ]
     },
     "metadata": {},
     "output_type": "display_data"
    },
    {
     "data": {
      "application/vnd.jupyter.widget-view+json": {
       "model_id": "9e8a7bc2263146f8a66c9fbe3682b0f8",
       "version_major": 2,
       "version_minor": 0
      },
      "text/plain": [
       "Validation: |          | 0/? [00:00<?, ?it/s]"
      ]
     },
     "metadata": {},
     "output_type": "display_data"
    },
    {
     "data": {
      "application/vnd.jupyter.widget-view+json": {
       "model_id": "30c40870280942dbb0565158c5c6d8ca",
       "version_major": 2,
       "version_minor": 0
      },
      "text/plain": [
       "Validation: |          | 0/? [00:00<?, ?it/s]"
      ]
     },
     "metadata": {},
     "output_type": "display_data"
    },
    {
     "data": {
      "application/vnd.jupyter.widget-view+json": {
       "model_id": "7e1d376b7add4ace89cfb4c5f7bac591",
       "version_major": 2,
       "version_minor": 0
      },
      "text/plain": [
       "Validation: |          | 0/? [00:00<?, ?it/s]"
      ]
     },
     "metadata": {},
     "output_type": "display_data"
    },
    {
     "data": {
      "application/vnd.jupyter.widget-view+json": {
       "model_id": "02970c9404e24488b7ec8f6a78050f53",
       "version_major": 2,
       "version_minor": 0
      },
      "text/plain": [
       "Validation: |          | 0/? [00:00<?, ?it/s]"
      ]
     },
     "metadata": {},
     "output_type": "display_data"
    },
    {
     "data": {
      "application/vnd.jupyter.widget-view+json": {
       "model_id": "8a46c43379834852a15ac0a90b7cd78b",
       "version_major": 2,
       "version_minor": 0
      },
      "text/plain": [
       "Validation: |          | 0/? [00:00<?, ?it/s]"
      ]
     },
     "metadata": {},
     "output_type": "display_data"
    },
    {
     "data": {
      "application/vnd.jupyter.widget-view+json": {
       "model_id": "58df3c2c3c4f45afaf17e0ceb77d9b0a",
       "version_major": 2,
       "version_minor": 0
      },
      "text/plain": [
       "Validation: |          | 0/? [00:00<?, ?it/s]"
      ]
     },
     "metadata": {},
     "output_type": "display_data"
    },
    {
     "data": {
      "application/vnd.jupyter.widget-view+json": {
       "model_id": "a45d233bd62d497e839a6952ff9ae398",
       "version_major": 2,
       "version_minor": 0
      },
      "text/plain": [
       "Validation: |          | 0/? [00:00<?, ?it/s]"
      ]
     },
     "metadata": {},
     "output_type": "display_data"
    },
    {
     "data": {
      "application/vnd.jupyter.widget-view+json": {
       "model_id": "8d35385b52da424d85aa56ba873ce0bc",
       "version_major": 2,
       "version_minor": 0
      },
      "text/plain": [
       "Validation: |          | 0/? [00:00<?, ?it/s]"
      ]
     },
     "metadata": {},
     "output_type": "display_data"
    },
    {
     "data": {
      "application/vnd.jupyter.widget-view+json": {
       "model_id": "f51249145fc043bdb3a1ef35da83dae6",
       "version_major": 2,
       "version_minor": 0
      },
      "text/plain": [
       "Validation: |          | 0/? [00:00<?, ?it/s]"
      ]
     },
     "metadata": {},
     "output_type": "display_data"
    },
    {
     "data": {
      "application/vnd.jupyter.widget-view+json": {
       "model_id": "d3d5c5f83a3d4bc49b831c80785507f3",
       "version_major": 2,
       "version_minor": 0
      },
      "text/plain": [
       "Validation: |          | 0/? [00:00<?, ?it/s]"
      ]
     },
     "metadata": {},
     "output_type": "display_data"
    },
    {
     "data": {
      "application/vnd.jupyter.widget-view+json": {
       "model_id": "a24083e054eb4b918b5ba7cb7b754794",
       "version_major": 2,
       "version_minor": 0
      },
      "text/plain": [
       "Validation: |          | 0/? [00:00<?, ?it/s]"
      ]
     },
     "metadata": {},
     "output_type": "display_data"
    },
    {
     "data": {
      "application/vnd.jupyter.widget-view+json": {
       "model_id": "5aad3a90605048e9a44b8f1f4011bd37",
       "version_major": 2,
       "version_minor": 0
      },
      "text/plain": [
       "Validation: |          | 0/? [00:00<?, ?it/s]"
      ]
     },
     "metadata": {},
     "output_type": "display_data"
    },
    {
     "data": {
      "application/vnd.jupyter.widget-view+json": {
       "model_id": "25fc839c9c974cb585a5b5436e79f684",
       "version_major": 2,
       "version_minor": 0
      },
      "text/plain": [
       "Validation: |          | 0/? [00:00<?, ?it/s]"
      ]
     },
     "metadata": {},
     "output_type": "display_data"
    },
    {
     "data": {
      "application/vnd.jupyter.widget-view+json": {
       "model_id": "abba645c67f04fc98d411bc742009ac6",
       "version_major": 2,
       "version_minor": 0
      },
      "text/plain": [
       "Validation: |          | 0/? [00:00<?, ?it/s]"
      ]
     },
     "metadata": {},
     "output_type": "display_data"
    },
    {
     "data": {
      "application/vnd.jupyter.widget-view+json": {
       "model_id": "88de5054a9694ea094812366df8eed17",
       "version_major": 2,
       "version_minor": 0
      },
      "text/plain": [
       "Validation: |          | 0/? [00:00<?, ?it/s]"
      ]
     },
     "metadata": {},
     "output_type": "display_data"
    },
    {
     "data": {
      "application/vnd.jupyter.widget-view+json": {
       "model_id": "cfe7d8bad63543e2bf07ab94473fc7cc",
       "version_major": 2,
       "version_minor": 0
      },
      "text/plain": [
       "Validation: |          | 0/? [00:00<?, ?it/s]"
      ]
     },
     "metadata": {},
     "output_type": "display_data"
    },
    {
     "data": {
      "application/vnd.jupyter.widget-view+json": {
       "model_id": "412ba48dcb1f494c9990fe19270564ea",
       "version_major": 2,
       "version_minor": 0
      },
      "text/plain": [
       "Validation: |          | 0/? [00:00<?, ?it/s]"
      ]
     },
     "metadata": {},
     "output_type": "display_data"
    },
    {
     "data": {
      "application/vnd.jupyter.widget-view+json": {
       "model_id": "b411135226414e8ebfb5b266e185076b",
       "version_major": 2,
       "version_minor": 0
      },
      "text/plain": [
       "Validation: |          | 0/? [00:00<?, ?it/s]"
      ]
     },
     "metadata": {},
     "output_type": "display_data"
    },
    {
     "data": {
      "application/vnd.jupyter.widget-view+json": {
       "model_id": "dbab9ad10db04cafa139047be2da626f",
       "version_major": 2,
       "version_minor": 0
      },
      "text/plain": [
       "Validation: |          | 0/? [00:00<?, ?it/s]"
      ]
     },
     "metadata": {},
     "output_type": "display_data"
    },
    {
     "data": {
      "application/vnd.jupyter.widget-view+json": {
       "model_id": "7ad23fc2c0b743bcbd04f60e1a19db1f",
       "version_major": 2,
       "version_minor": 0
      },
      "text/plain": [
       "Validation: |          | 0/? [00:00<?, ?it/s]"
      ]
     },
     "metadata": {},
     "output_type": "display_data"
    },
    {
     "data": {
      "application/vnd.jupyter.widget-view+json": {
       "model_id": "a085b0a2fd014b128a4019b75df68505",
       "version_major": 2,
       "version_minor": 0
      },
      "text/plain": [
       "Validation: |          | 0/? [00:00<?, ?it/s]"
      ]
     },
     "metadata": {},
     "output_type": "display_data"
    },
    {
     "data": {
      "application/vnd.jupyter.widget-view+json": {
       "model_id": "796f3c4636d840a598aa89e50ca56acd",
       "version_major": 2,
       "version_minor": 0
      },
      "text/plain": [
       "Validation: |          | 0/? [00:00<?, ?it/s]"
      ]
     },
     "metadata": {},
     "output_type": "display_data"
    },
    {
     "data": {
      "application/vnd.jupyter.widget-view+json": {
       "model_id": "a2aa0954d9964ba98c17d545da9021e8",
       "version_major": 2,
       "version_minor": 0
      },
      "text/plain": [
       "Validation: |          | 0/? [00:00<?, ?it/s]"
      ]
     },
     "metadata": {},
     "output_type": "display_data"
    },
    {
     "data": {
      "application/vnd.jupyter.widget-view+json": {
       "model_id": "727f06fa431a4a0a9a027cc2e2894f6b",
       "version_major": 2,
       "version_minor": 0
      },
      "text/plain": [
       "Validation: |          | 0/? [00:00<?, ?it/s]"
      ]
     },
     "metadata": {},
     "output_type": "display_data"
    },
    {
     "data": {
      "application/vnd.jupyter.widget-view+json": {
       "model_id": "83c0c47b85b64c03903e5b4a8adc32ba",
       "version_major": 2,
       "version_minor": 0
      },
      "text/plain": [
       "Validation: |          | 0/? [00:00<?, ?it/s]"
      ]
     },
     "metadata": {},
     "output_type": "display_data"
    },
    {
     "data": {
      "application/vnd.jupyter.widget-view+json": {
       "model_id": "1c021904bd4d4a3dbcd3692250ecf1a6",
       "version_major": 2,
       "version_minor": 0
      },
      "text/plain": [
       "Validation: |          | 0/? [00:00<?, ?it/s]"
      ]
     },
     "metadata": {},
     "output_type": "display_data"
    },
    {
     "data": {
      "application/vnd.jupyter.widget-view+json": {
       "model_id": "c8258c2abce84274b12da354d490318a",
       "version_major": 2,
       "version_minor": 0
      },
      "text/plain": [
       "Validation: |          | 0/? [00:00<?, ?it/s]"
      ]
     },
     "metadata": {},
     "output_type": "display_data"
    },
    {
     "data": {
      "application/vnd.jupyter.widget-view+json": {
       "model_id": "ebf4f8809d5e4b3e89ead32fa4fb6c9a",
       "version_major": 2,
       "version_minor": 0
      },
      "text/plain": [
       "Validation: |          | 0/? [00:00<?, ?it/s]"
      ]
     },
     "metadata": {},
     "output_type": "display_data"
    },
    {
     "data": {
      "application/vnd.jupyter.widget-view+json": {
       "model_id": "80e5a08f88a54553889939b108ef2117",
       "version_major": 2,
       "version_minor": 0
      },
      "text/plain": [
       "Validation: |          | 0/? [00:00<?, ?it/s]"
      ]
     },
     "metadata": {},
     "output_type": "display_data"
    },
    {
     "data": {
      "application/vnd.jupyter.widget-view+json": {
       "model_id": "e829dec96bd54696957d9e1d18495297",
       "version_major": 2,
       "version_minor": 0
      },
      "text/plain": [
       "Validation: |          | 0/? [00:00<?, ?it/s]"
      ]
     },
     "metadata": {},
     "output_type": "display_data"
    },
    {
     "data": {
      "application/vnd.jupyter.widget-view+json": {
       "model_id": "ad7e41619186482fa957f225494c7ece",
       "version_major": 2,
       "version_minor": 0
      },
      "text/plain": [
       "Validation: |          | 0/? [00:00<?, ?it/s]"
      ]
     },
     "metadata": {},
     "output_type": "display_data"
    },
    {
     "data": {
      "application/vnd.jupyter.widget-view+json": {
       "model_id": "4476e1705d5d4ed8b6375c5b1f686ce6",
       "version_major": 2,
       "version_minor": 0
      },
      "text/plain": [
       "Validation: |          | 0/? [00:00<?, ?it/s]"
      ]
     },
     "metadata": {},
     "output_type": "display_data"
    },
    {
     "data": {
      "application/vnd.jupyter.widget-view+json": {
       "model_id": "6fa5c0edec7249e2a9fe19491d7ba9ee",
       "version_major": 2,
       "version_minor": 0
      },
      "text/plain": [
       "Validation: |          | 0/? [00:00<?, ?it/s]"
      ]
     },
     "metadata": {},
     "output_type": "display_data"
    },
    {
     "data": {
      "application/vnd.jupyter.widget-view+json": {
       "model_id": "d6d31a7dc26b494caf342fddab72a963",
       "version_major": 2,
       "version_minor": 0
      },
      "text/plain": [
       "Validation: |          | 0/? [00:00<?, ?it/s]"
      ]
     },
     "metadata": {},
     "output_type": "display_data"
    },
    {
     "data": {
      "application/vnd.jupyter.widget-view+json": {
       "model_id": "38e312ed6da04185bf89dc8bd7e627e2",
       "version_major": 2,
       "version_minor": 0
      },
      "text/plain": [
       "Validation: |          | 0/? [00:00<?, ?it/s]"
      ]
     },
     "metadata": {},
     "output_type": "display_data"
    },
    {
     "data": {
      "application/vnd.jupyter.widget-view+json": {
       "model_id": "8997e5725ddc46efa47302ee961ea18d",
       "version_major": 2,
       "version_minor": 0
      },
      "text/plain": [
       "Validation: |          | 0/? [00:00<?, ?it/s]"
      ]
     },
     "metadata": {},
     "output_type": "display_data"
    },
    {
     "data": {
      "application/vnd.jupyter.widget-view+json": {
       "model_id": "0e6b473944b04f64889cb478965ef962",
       "version_major": 2,
       "version_minor": 0
      },
      "text/plain": [
       "Validation: |          | 0/? [00:00<?, ?it/s]"
      ]
     },
     "metadata": {},
     "output_type": "display_data"
    },
    {
     "data": {
      "application/vnd.jupyter.widget-view+json": {
       "model_id": "30b75e7b24ee4825bb8ab2a8edf89746",
       "version_major": 2,
       "version_minor": 0
      },
      "text/plain": [
       "Validation: |          | 0/? [00:00<?, ?it/s]"
      ]
     },
     "metadata": {},
     "output_type": "display_data"
    },
    {
     "data": {
      "application/vnd.jupyter.widget-view+json": {
       "model_id": "6c5fc75621b4499f9af7b737a10225af",
       "version_major": 2,
       "version_minor": 0
      },
      "text/plain": [
       "Validation: |          | 0/? [00:00<?, ?it/s]"
      ]
     },
     "metadata": {},
     "output_type": "display_data"
    },
    {
     "data": {
      "application/vnd.jupyter.widget-view+json": {
       "model_id": "f0f76a4c4222496a8357b36de755d9c4",
       "version_major": 2,
       "version_minor": 0
      },
      "text/plain": [
       "Validation: |          | 0/? [00:00<?, ?it/s]"
      ]
     },
     "metadata": {},
     "output_type": "display_data"
    },
    {
     "data": {
      "application/vnd.jupyter.widget-view+json": {
       "model_id": "1fdf6c34346246bbbfef6af6a7df41db",
       "version_major": 2,
       "version_minor": 0
      },
      "text/plain": [
       "Validation: |          | 0/? [00:00<?, ?it/s]"
      ]
     },
     "metadata": {},
     "output_type": "display_data"
    },
    {
     "data": {
      "application/vnd.jupyter.widget-view+json": {
       "model_id": "a70846c8ec2d42a0a36b76cebff259de",
       "version_major": 2,
       "version_minor": 0
      },
      "text/plain": [
       "Validation: |          | 0/? [00:00<?, ?it/s]"
      ]
     },
     "metadata": {},
     "output_type": "display_data"
    },
    {
     "data": {
      "application/vnd.jupyter.widget-view+json": {
       "model_id": "e1d3f82aea3e4b55b5ea3079bfbfc7ad",
       "version_major": 2,
       "version_minor": 0
      },
      "text/plain": [
       "Validation: |          | 0/? [00:00<?, ?it/s]"
      ]
     },
     "metadata": {},
     "output_type": "display_data"
    },
    {
     "data": {
      "application/vnd.jupyter.widget-view+json": {
       "model_id": "b51dc40410bd4659aa553aea011001f5",
       "version_major": 2,
       "version_minor": 0
      },
      "text/plain": [
       "Validation: |          | 0/? [00:00<?, ?it/s]"
      ]
     },
     "metadata": {},
     "output_type": "display_data"
    },
    {
     "data": {
      "application/vnd.jupyter.widget-view+json": {
       "model_id": "4b7fd7656e5e4bd7899d17b58e44a9fc",
       "version_major": 2,
       "version_minor": 0
      },
      "text/plain": [
       "Validation: |          | 0/? [00:00<?, ?it/s]"
      ]
     },
     "metadata": {},
     "output_type": "display_data"
    },
    {
     "data": {
      "application/vnd.jupyter.widget-view+json": {
       "model_id": "04778fd6e5f14f7b9de2f4d0944ad388",
       "version_major": 2,
       "version_minor": 0
      },
      "text/plain": [
       "Validation: |          | 0/? [00:00<?, ?it/s]"
      ]
     },
     "metadata": {},
     "output_type": "display_data"
    },
    {
     "data": {
      "application/vnd.jupyter.widget-view+json": {
       "model_id": "21b6936b2bb345008df479b8587ca586",
       "version_major": 2,
       "version_minor": 0
      },
      "text/plain": [
       "Validation: |          | 0/? [00:00<?, ?it/s]"
      ]
     },
     "metadata": {},
     "output_type": "display_data"
    },
    {
     "data": {
      "application/vnd.jupyter.widget-view+json": {
       "model_id": "18e61d59fc984749af56d4b1efad0360",
       "version_major": 2,
       "version_minor": 0
      },
      "text/plain": [
       "Validation: |          | 0/? [00:00<?, ?it/s]"
      ]
     },
     "metadata": {},
     "output_type": "display_data"
    },
    {
     "data": {
      "application/vnd.jupyter.widget-view+json": {
       "model_id": "577852d7ed914eef97fe669233054732",
       "version_major": 2,
       "version_minor": 0
      },
      "text/plain": [
       "Validation: |          | 0/? [00:00<?, ?it/s]"
      ]
     },
     "metadata": {},
     "output_type": "display_data"
    },
    {
     "data": {
      "application/vnd.jupyter.widget-view+json": {
       "model_id": "67201086840845108d4b41e74834ceaf",
       "version_major": 2,
       "version_minor": 0
      },
      "text/plain": [
       "Validation: |          | 0/? [00:00<?, ?it/s]"
      ]
     },
     "metadata": {},
     "output_type": "display_data"
    },
    {
     "data": {
      "application/vnd.jupyter.widget-view+json": {
       "model_id": "836decc90bba4384bd74f8326b37859c",
       "version_major": 2,
       "version_minor": 0
      },
      "text/plain": [
       "Validation: |          | 0/? [00:00<?, ?it/s]"
      ]
     },
     "metadata": {},
     "output_type": "display_data"
    },
    {
     "data": {
      "application/vnd.jupyter.widget-view+json": {
       "model_id": "c3ff704c81c44291af629a8f08c069aa",
       "version_major": 2,
       "version_minor": 0
      },
      "text/plain": [
       "Validation: |          | 0/? [00:00<?, ?it/s]"
      ]
     },
     "metadata": {},
     "output_type": "display_data"
    },
    {
     "data": {
      "application/vnd.jupyter.widget-view+json": {
       "model_id": "075b06b1491c4b7f9039c4bcd016849f",
       "version_major": 2,
       "version_minor": 0
      },
      "text/plain": [
       "Validation: |          | 0/? [00:00<?, ?it/s]"
      ]
     },
     "metadata": {},
     "output_type": "display_data"
    },
    {
     "data": {
      "application/vnd.jupyter.widget-view+json": {
       "model_id": "473bf12181bd46d2bba1f4812601d007",
       "version_major": 2,
       "version_minor": 0
      },
      "text/plain": [
       "Validation: |          | 0/? [00:00<?, ?it/s]"
      ]
     },
     "metadata": {},
     "output_type": "display_data"
    },
    {
     "data": {
      "application/vnd.jupyter.widget-view+json": {
       "model_id": "9760eedb54ec4667b14a1ec08d438a23",
       "version_major": 2,
       "version_minor": 0
      },
      "text/plain": [
       "Validation: |          | 0/? [00:00<?, ?it/s]"
      ]
     },
     "metadata": {},
     "output_type": "display_data"
    },
    {
     "data": {
      "application/vnd.jupyter.widget-view+json": {
       "model_id": "e3561f19a2924064985f6ac029153acc",
       "version_major": 2,
       "version_minor": 0
      },
      "text/plain": [
       "Validation: |          | 0/? [00:00<?, ?it/s]"
      ]
     },
     "metadata": {},
     "output_type": "display_data"
    },
    {
     "data": {
      "application/vnd.jupyter.widget-view+json": {
       "model_id": "ad2e3796301044aea079904d5238932c",
       "version_major": 2,
       "version_minor": 0
      },
      "text/plain": [
       "Validation: |          | 0/? [00:00<?, ?it/s]"
      ]
     },
     "metadata": {},
     "output_type": "display_data"
    },
    {
     "data": {
      "application/vnd.jupyter.widget-view+json": {
       "model_id": "6171592762a048e7b87706f1a7543b37",
       "version_major": 2,
       "version_minor": 0
      },
      "text/plain": [
       "Validation: |          | 0/? [00:00<?, ?it/s]"
      ]
     },
     "metadata": {},
     "output_type": "display_data"
    },
    {
     "data": {
      "application/vnd.jupyter.widget-view+json": {
       "model_id": "04b11983ba994dd18a368a105bd1e07c",
       "version_major": 2,
       "version_minor": 0
      },
      "text/plain": [
       "Validation: |          | 0/? [00:00<?, ?it/s]"
      ]
     },
     "metadata": {},
     "output_type": "display_data"
    },
    {
     "data": {
      "application/vnd.jupyter.widget-view+json": {
       "model_id": "bd6e2f1c417649f6898ac4990ea7bc40",
       "version_major": 2,
       "version_minor": 0
      },
      "text/plain": [
       "Validation: |          | 0/? [00:00<?, ?it/s]"
      ]
     },
     "metadata": {},
     "output_type": "display_data"
    },
    {
     "data": {
      "application/vnd.jupyter.widget-view+json": {
       "model_id": "fe44f59d17bd4d4b9c2c5568cff64905",
       "version_major": 2,
       "version_minor": 0
      },
      "text/plain": [
       "Validation: |          | 0/? [00:00<?, ?it/s]"
      ]
     },
     "metadata": {},
     "output_type": "display_data"
    },
    {
     "data": {
      "application/vnd.jupyter.widget-view+json": {
       "model_id": "2ebe5ac8e2c24505b36b794eff862ce7",
       "version_major": 2,
       "version_minor": 0
      },
      "text/plain": [
       "Validation: |          | 0/? [00:00<?, ?it/s]"
      ]
     },
     "metadata": {},
     "output_type": "display_data"
    },
    {
     "data": {
      "application/vnd.jupyter.widget-view+json": {
       "model_id": "10347ccb35e84acdad04bc39121e7cb7",
       "version_major": 2,
       "version_minor": 0
      },
      "text/plain": [
       "Validation: |          | 0/? [00:00<?, ?it/s]"
      ]
     },
     "metadata": {},
     "output_type": "display_data"
    },
    {
     "data": {
      "application/vnd.jupyter.widget-view+json": {
       "model_id": "652b5e38bbc84d1488b185b2e122fff9",
       "version_major": 2,
       "version_minor": 0
      },
      "text/plain": [
       "Validation: |          | 0/? [00:00<?, ?it/s]"
      ]
     },
     "metadata": {},
     "output_type": "display_data"
    },
    {
     "data": {
      "application/vnd.jupyter.widget-view+json": {
       "model_id": "021d63d95d7b493092328b0ef720e14f",
       "version_major": 2,
       "version_minor": 0
      },
      "text/plain": [
       "Validation: |          | 0/? [00:00<?, ?it/s]"
      ]
     },
     "metadata": {},
     "output_type": "display_data"
    },
    {
     "data": {
      "application/vnd.jupyter.widget-view+json": {
       "model_id": "730662d79066446f872c19c862a8f7e3",
       "version_major": 2,
       "version_minor": 0
      },
      "text/plain": [
       "Validation: |          | 0/? [00:00<?, ?it/s]"
      ]
     },
     "metadata": {},
     "output_type": "display_data"
    },
    {
     "data": {
      "application/vnd.jupyter.widget-view+json": {
       "model_id": "e4ad1a56862349d28e621af81a5c241c",
       "version_major": 2,
       "version_minor": 0
      },
      "text/plain": [
       "Validation: |          | 0/? [00:00<?, ?it/s]"
      ]
     },
     "metadata": {},
     "output_type": "display_data"
    },
    {
     "data": {
      "application/vnd.jupyter.widget-view+json": {
       "model_id": "3ff413631200424a8f4096feb61c8e52",
       "version_major": 2,
       "version_minor": 0
      },
      "text/plain": [
       "Validation: |          | 0/? [00:00<?, ?it/s]"
      ]
     },
     "metadata": {},
     "output_type": "display_data"
    },
    {
     "data": {
      "application/vnd.jupyter.widget-view+json": {
       "model_id": "a08fee27603946d2ae2532863e92200f",
       "version_major": 2,
       "version_minor": 0
      },
      "text/plain": [
       "Validation: |          | 0/? [00:00<?, ?it/s]"
      ]
     },
     "metadata": {},
     "output_type": "display_data"
    },
    {
     "data": {
      "application/vnd.jupyter.widget-view+json": {
       "model_id": "1fd6a095e522482c8cf2cd1b1071cf1b",
       "version_major": 2,
       "version_minor": 0
      },
      "text/plain": [
       "Validation: |          | 0/? [00:00<?, ?it/s]"
      ]
     },
     "metadata": {},
     "output_type": "display_data"
    },
    {
     "data": {
      "application/vnd.jupyter.widget-view+json": {
       "model_id": "bbef553aeb934678bc185a24ad8059c1",
       "version_major": 2,
       "version_minor": 0
      },
      "text/plain": [
       "Validation: |          | 0/? [00:00<?, ?it/s]"
      ]
     },
     "metadata": {},
     "output_type": "display_data"
    },
    {
     "data": {
      "application/vnd.jupyter.widget-view+json": {
       "model_id": "9ecf19185e094026a67f12b2e55cedb2",
       "version_major": 2,
       "version_minor": 0
      },
      "text/plain": [
       "Validation: |          | 0/? [00:00<?, ?it/s]"
      ]
     },
     "metadata": {},
     "output_type": "display_data"
    },
    {
     "data": {
      "application/vnd.jupyter.widget-view+json": {
       "model_id": "775f16811dfe4449a99638dccc98db15",
       "version_major": 2,
       "version_minor": 0
      },
      "text/plain": [
       "Validation: |          | 0/? [00:00<?, ?it/s]"
      ]
     },
     "metadata": {},
     "output_type": "display_data"
    },
    {
     "data": {
      "application/vnd.jupyter.widget-view+json": {
       "model_id": "c6b68d4c219a438dbcd86a46911fb80f",
       "version_major": 2,
       "version_minor": 0
      },
      "text/plain": [
       "Validation: |          | 0/? [00:00<?, ?it/s]"
      ]
     },
     "metadata": {},
     "output_type": "display_data"
    },
    {
     "data": {
      "application/vnd.jupyter.widget-view+json": {
       "model_id": "c77c9a8a7cd344428d40abea3c6c973d",
       "version_major": 2,
       "version_minor": 0
      },
      "text/plain": [
       "Validation: |          | 0/? [00:00<?, ?it/s]"
      ]
     },
     "metadata": {},
     "output_type": "display_data"
    },
    {
     "data": {
      "application/vnd.jupyter.widget-view+json": {
       "model_id": "e2bb44b728d049359ba7196445549a37",
       "version_major": 2,
       "version_minor": 0
      },
      "text/plain": [
       "Validation: |          | 0/? [00:00<?, ?it/s]"
      ]
     },
     "metadata": {},
     "output_type": "display_data"
    },
    {
     "data": {
      "application/vnd.jupyter.widget-view+json": {
       "model_id": "b305b8130d894a0487931db9be2e8681",
       "version_major": 2,
       "version_minor": 0
      },
      "text/plain": [
       "Validation: |          | 0/? [00:00<?, ?it/s]"
      ]
     },
     "metadata": {},
     "output_type": "display_data"
    },
    {
     "data": {
      "application/vnd.jupyter.widget-view+json": {
       "model_id": "3fa6d65c51194c46a1c411ab21e4263a",
       "version_major": 2,
       "version_minor": 0
      },
      "text/plain": [
       "Validation: |          | 0/? [00:00<?, ?it/s]"
      ]
     },
     "metadata": {},
     "output_type": "display_data"
    },
    {
     "data": {
      "application/vnd.jupyter.widget-view+json": {
       "model_id": "f370fc56d1294a1d822f3afe779a3e2f",
       "version_major": 2,
       "version_minor": 0
      },
      "text/plain": [
       "Validation: |          | 0/? [00:00<?, ?it/s]"
      ]
     },
     "metadata": {},
     "output_type": "display_data"
    },
    {
     "data": {
      "application/vnd.jupyter.widget-view+json": {
       "model_id": "e1e7aa917398495ba7dc7bcba736f1bd",
       "version_major": 2,
       "version_minor": 0
      },
      "text/plain": [
       "Validation: |          | 0/? [00:00<?, ?it/s]"
      ]
     },
     "metadata": {},
     "output_type": "display_data"
    },
    {
     "data": {
      "application/vnd.jupyter.widget-view+json": {
       "model_id": "2c140d9ee2104ef1b9c188801f0f3116",
       "version_major": 2,
       "version_minor": 0
      },
      "text/plain": [
       "Validation: |          | 0/? [00:00<?, ?it/s]"
      ]
     },
     "metadata": {},
     "output_type": "display_data"
    },
    {
     "data": {
      "application/vnd.jupyter.widget-view+json": {
       "model_id": "41d9943458a346eb86d5d40204a90f6c",
       "version_major": 2,
       "version_minor": 0
      },
      "text/plain": [
       "Validation: |          | 0/? [00:00<?, ?it/s]"
      ]
     },
     "metadata": {},
     "output_type": "display_data"
    },
    {
     "data": {
      "application/vnd.jupyter.widget-view+json": {
       "model_id": "782f0150cdfb476588865f39748cc120",
       "version_major": 2,
       "version_minor": 0
      },
      "text/plain": [
       "Validation: |          | 0/? [00:00<?, ?it/s]"
      ]
     },
     "metadata": {},
     "output_type": "display_data"
    },
    {
     "data": {
      "application/vnd.jupyter.widget-view+json": {
       "model_id": "9bfa511a51fa4ba9ad24bb796c53368e",
       "version_major": 2,
       "version_minor": 0
      },
      "text/plain": [
       "Validation: |          | 0/? [00:00<?, ?it/s]"
      ]
     },
     "metadata": {},
     "output_type": "display_data"
    },
    {
     "data": {
      "application/vnd.jupyter.widget-view+json": {
       "model_id": "a286b54b5b094857b6f44b2eca7af152",
       "version_major": 2,
       "version_minor": 0
      },
      "text/plain": [
       "Validation: |          | 0/? [00:00<?, ?it/s]"
      ]
     },
     "metadata": {},
     "output_type": "display_data"
    },
    {
     "data": {
      "application/vnd.jupyter.widget-view+json": {
       "model_id": "2c8fe826001c4c679b673a62ef105422",
       "version_major": 2,
       "version_minor": 0
      },
      "text/plain": [
       "Validation: |          | 0/? [00:00<?, ?it/s]"
      ]
     },
     "metadata": {},
     "output_type": "display_data"
    },
    {
     "data": {
      "application/vnd.jupyter.widget-view+json": {
       "model_id": "cf4fe97e32834f2f8e6c5de1f28a0a7a",
       "version_major": 2,
       "version_minor": 0
      },
      "text/plain": [
       "Validation: |          | 0/? [00:00<?, ?it/s]"
      ]
     },
     "metadata": {},
     "output_type": "display_data"
    },
    {
     "data": {
      "application/vnd.jupyter.widget-view+json": {
       "model_id": "d3837843a46048d78391a3c0afe0addd",
       "version_major": 2,
       "version_minor": 0
      },
      "text/plain": [
       "Validation: |          | 0/? [00:00<?, ?it/s]"
      ]
     },
     "metadata": {},
     "output_type": "display_data"
    },
    {
     "data": {
      "application/vnd.jupyter.widget-view+json": {
       "model_id": "fc9eb0990efd4f85a06a86a13208db06",
       "version_major": 2,
       "version_minor": 0
      },
      "text/plain": [
       "Validation: |          | 0/? [00:00<?, ?it/s]"
      ]
     },
     "metadata": {},
     "output_type": "display_data"
    },
    {
     "data": {
      "application/vnd.jupyter.widget-view+json": {
       "model_id": "8d0662e80a4f4668b378c6822c6930f2",
       "version_major": 2,
       "version_minor": 0
      },
      "text/plain": [
       "Validation: |          | 0/? [00:00<?, ?it/s]"
      ]
     },
     "metadata": {},
     "output_type": "display_data"
    },
    {
     "data": {
      "application/vnd.jupyter.widget-view+json": {
       "model_id": "d93ef9b6586245799a23ddf69024b2c1",
       "version_major": 2,
       "version_minor": 0
      },
      "text/plain": [
       "Validation: |          | 0/? [00:00<?, ?it/s]"
      ]
     },
     "metadata": {},
     "output_type": "display_data"
    },
    {
     "data": {
      "application/vnd.jupyter.widget-view+json": {
       "model_id": "d66eff7fb2f347489c289b17f56b8463",
       "version_major": 2,
       "version_minor": 0
      },
      "text/plain": [
       "Validation: |          | 0/? [00:00<?, ?it/s]"
      ]
     },
     "metadata": {},
     "output_type": "display_data"
    },
    {
     "data": {
      "application/vnd.jupyter.widget-view+json": {
       "model_id": "12172c6c8152482d901b757babf280da",
       "version_major": 2,
       "version_minor": 0
      },
      "text/plain": [
       "Validation: |          | 0/? [00:00<?, ?it/s]"
      ]
     },
     "metadata": {},
     "output_type": "display_data"
    },
    {
     "data": {
      "application/vnd.jupyter.widget-view+json": {
       "model_id": "2caf312f3c904966b98c84fd7375704b",
       "version_major": 2,
       "version_minor": 0
      },
      "text/plain": [
       "Validation: |          | 0/? [00:00<?, ?it/s]"
      ]
     },
     "metadata": {},
     "output_type": "display_data"
    },
    {
     "data": {
      "application/vnd.jupyter.widget-view+json": {
       "model_id": "1a92f533f8554a6faec3e67b455db527",
       "version_major": 2,
       "version_minor": 0
      },
      "text/plain": [
       "Validation: |          | 0/? [00:00<?, ?it/s]"
      ]
     },
     "metadata": {},
     "output_type": "display_data"
    },
    {
     "data": {
      "application/vnd.jupyter.widget-view+json": {
       "model_id": "bd06f6712ad94fbabc7c96ee23e6f6aa",
       "version_major": 2,
       "version_minor": 0
      },
      "text/plain": [
       "Validation: |          | 0/? [00:00<?, ?it/s]"
      ]
     },
     "metadata": {},
     "output_type": "display_data"
    },
    {
     "data": {
      "application/vnd.jupyter.widget-view+json": {
       "model_id": "624e7c96a8174ae3acb6d5284a5ca65e",
       "version_major": 2,
       "version_minor": 0
      },
      "text/plain": [
       "Validation: |          | 0/? [00:00<?, ?it/s]"
      ]
     },
     "metadata": {},
     "output_type": "display_data"
    },
    {
     "data": {
      "application/vnd.jupyter.widget-view+json": {
       "model_id": "6878d7611ad74adca871925a2190d98a",
       "version_major": 2,
       "version_minor": 0
      },
      "text/plain": [
       "Validation: |          | 0/? [00:00<?, ?it/s]"
      ]
     },
     "metadata": {},
     "output_type": "display_data"
    },
    {
     "data": {
      "application/vnd.jupyter.widget-view+json": {
       "model_id": "d849856b04f04c0188af77b9aef541ed",
       "version_major": 2,
       "version_minor": 0
      },
      "text/plain": [
       "Validation: |          | 0/? [00:00<?, ?it/s]"
      ]
     },
     "metadata": {},
     "output_type": "display_data"
    },
    {
     "data": {
      "application/vnd.jupyter.widget-view+json": {
       "model_id": "2bb38a0592e74615b94dd6630fa69477",
       "version_major": 2,
       "version_minor": 0
      },
      "text/plain": [
       "Validation: |          | 0/? [00:00<?, ?it/s]"
      ]
     },
     "metadata": {},
     "output_type": "display_data"
    },
    {
     "data": {
      "application/vnd.jupyter.widget-view+json": {
       "model_id": "7677a1e8de914afcbdd6cf9aa586a6f1",
       "version_major": 2,
       "version_minor": 0
      },
      "text/plain": [
       "Validation: |          | 0/? [00:00<?, ?it/s]"
      ]
     },
     "metadata": {},
     "output_type": "display_data"
    },
    {
     "data": {
      "application/vnd.jupyter.widget-view+json": {
       "model_id": "7ef85c19b3294a5980deebeffd65fe1b",
       "version_major": 2,
       "version_minor": 0
      },
      "text/plain": [
       "Validation: |          | 0/? [00:00<?, ?it/s]"
      ]
     },
     "metadata": {},
     "output_type": "display_data"
    },
    {
     "data": {
      "application/vnd.jupyter.widget-view+json": {
       "model_id": "60c8ef17e20b497f9a0494256af24a4e",
       "version_major": 2,
       "version_minor": 0
      },
      "text/plain": [
       "Validation: |          | 0/? [00:00<?, ?it/s]"
      ]
     },
     "metadata": {},
     "output_type": "display_data"
    },
    {
     "data": {
      "application/vnd.jupyter.widget-view+json": {
       "model_id": "713220efd02f451996840c7ee9ca34a7",
       "version_major": 2,
       "version_minor": 0
      },
      "text/plain": [
       "Validation: |          | 0/? [00:00<?, ?it/s]"
      ]
     },
     "metadata": {},
     "output_type": "display_data"
    },
    {
     "data": {
      "application/vnd.jupyter.widget-view+json": {
       "model_id": "12cf14be30604d43aa6223fdf641a277",
       "version_major": 2,
       "version_minor": 0
      },
      "text/plain": [
       "Validation: |          | 0/? [00:00<?, ?it/s]"
      ]
     },
     "metadata": {},
     "output_type": "display_data"
    },
    {
     "data": {
      "application/vnd.jupyter.widget-view+json": {
       "model_id": "2c4eecf1985d4482b0857c27cd855812",
       "version_major": 2,
       "version_minor": 0
      },
      "text/plain": [
       "Validation: |          | 0/? [00:00<?, ?it/s]"
      ]
     },
     "metadata": {},
     "output_type": "display_data"
    },
    {
     "data": {
      "application/vnd.jupyter.widget-view+json": {
       "model_id": "6451c9f81e0743b59a2ef65fa53441e3",
       "version_major": 2,
       "version_minor": 0
      },
      "text/plain": [
       "Validation: |          | 0/? [00:00<?, ?it/s]"
      ]
     },
     "metadata": {},
     "output_type": "display_data"
    },
    {
     "data": {
      "application/vnd.jupyter.widget-view+json": {
       "model_id": "03be4c18d0f74656a75d68447f9848b0",
       "version_major": 2,
       "version_minor": 0
      },
      "text/plain": [
       "Validation: |          | 0/? [00:00<?, ?it/s]"
      ]
     },
     "metadata": {},
     "output_type": "display_data"
    },
    {
     "data": {
      "application/vnd.jupyter.widget-view+json": {
       "model_id": "268b898a060e413d8e7ff320d4fef57a",
       "version_major": 2,
       "version_minor": 0
      },
      "text/plain": [
       "Validation: |          | 0/? [00:00<?, ?it/s]"
      ]
     },
     "metadata": {},
     "output_type": "display_data"
    },
    {
     "data": {
      "application/vnd.jupyter.widget-view+json": {
       "model_id": "aa082e84da9747cf9a04e9e123b74cf9",
       "version_major": 2,
       "version_minor": 0
      },
      "text/plain": [
       "Validation: |          | 0/? [00:00<?, ?it/s]"
      ]
     },
     "metadata": {},
     "output_type": "display_data"
    },
    {
     "data": {
      "application/vnd.jupyter.widget-view+json": {
       "model_id": "a7e02aa9ce5240ebb60a503b145fae60",
       "version_major": 2,
       "version_minor": 0
      },
      "text/plain": [
       "Validation: |          | 0/? [00:00<?, ?it/s]"
      ]
     },
     "metadata": {},
     "output_type": "display_data"
    },
    {
     "data": {
      "application/vnd.jupyter.widget-view+json": {
       "model_id": "3fe3adfc72e44182a32f6f4cf1ecac6b",
       "version_major": 2,
       "version_minor": 0
      },
      "text/plain": [
       "Validation: |          | 0/? [00:00<?, ?it/s]"
      ]
     },
     "metadata": {},
     "output_type": "display_data"
    },
    {
     "data": {
      "application/vnd.jupyter.widget-view+json": {
       "model_id": "9bd45e21f81340628f76efb11cb60ca8",
       "version_major": 2,
       "version_minor": 0
      },
      "text/plain": [
       "Validation: |          | 0/? [00:00<?, ?it/s]"
      ]
     },
     "metadata": {},
     "output_type": "display_data"
    },
    {
     "data": {
      "application/vnd.jupyter.widget-view+json": {
       "model_id": "12f4713a0bab41459b56a671ab5e1e43",
       "version_major": 2,
       "version_minor": 0
      },
      "text/plain": [
       "Validation: |          | 0/? [00:00<?, ?it/s]"
      ]
     },
     "metadata": {},
     "output_type": "display_data"
    },
    {
     "data": {
      "application/vnd.jupyter.widget-view+json": {
       "model_id": "9094b3be08ca41b2a8799b522574e413",
       "version_major": 2,
       "version_minor": 0
      },
      "text/plain": [
       "Validation: |          | 0/? [00:00<?, ?it/s]"
      ]
     },
     "metadata": {},
     "output_type": "display_data"
    },
    {
     "data": {
      "application/vnd.jupyter.widget-view+json": {
       "model_id": "22c7c0c1c17d4baf8cac49260189eed6",
       "version_major": 2,
       "version_minor": 0
      },
      "text/plain": [
       "Validation: |          | 0/? [00:00<?, ?it/s]"
      ]
     },
     "metadata": {},
     "output_type": "display_data"
    },
    {
     "data": {
      "application/vnd.jupyter.widget-view+json": {
       "model_id": "ab5eb59b8f074f6f877a7a252764d659",
       "version_major": 2,
       "version_minor": 0
      },
      "text/plain": [
       "Validation: |          | 0/? [00:00<?, ?it/s]"
      ]
     },
     "metadata": {},
     "output_type": "display_data"
    },
    {
     "data": {
      "application/vnd.jupyter.widget-view+json": {
       "model_id": "58604e3225194607b526e8465e62c986",
       "version_major": 2,
       "version_minor": 0
      },
      "text/plain": [
       "Validation: |          | 0/? [00:00<?, ?it/s]"
      ]
     },
     "metadata": {},
     "output_type": "display_data"
    },
    {
     "data": {
      "application/vnd.jupyter.widget-view+json": {
       "model_id": "33f13445199c4f29bfe732556dc59606",
       "version_major": 2,
       "version_minor": 0
      },
      "text/plain": [
       "Validation: |          | 0/? [00:00<?, ?it/s]"
      ]
     },
     "metadata": {},
     "output_type": "display_data"
    },
    {
     "data": {
      "application/vnd.jupyter.widget-view+json": {
       "model_id": "95a3d90e1e0246f6abc4cde4feb53d99",
       "version_major": 2,
       "version_minor": 0
      },
      "text/plain": [
       "Validation: |          | 0/? [00:00<?, ?it/s]"
      ]
     },
     "metadata": {},
     "output_type": "display_data"
    },
    {
     "data": {
      "application/vnd.jupyter.widget-view+json": {
       "model_id": "d6dc4d53524a44f59541b0d5dea9a1b5",
       "version_major": 2,
       "version_minor": 0
      },
      "text/plain": [
       "Validation: |          | 0/? [00:00<?, ?it/s]"
      ]
     },
     "metadata": {},
     "output_type": "display_data"
    },
    {
     "data": {
      "application/vnd.jupyter.widget-view+json": {
       "model_id": "748a2f9165a14746951af29942817457",
       "version_major": 2,
       "version_minor": 0
      },
      "text/plain": [
       "Validation: |          | 0/? [00:00<?, ?it/s]"
      ]
     },
     "metadata": {},
     "output_type": "display_data"
    },
    {
     "data": {
      "application/vnd.jupyter.widget-view+json": {
       "model_id": "b12731ce467d4542be9bdcea03c1035c",
       "version_major": 2,
       "version_minor": 0
      },
      "text/plain": [
       "Validation: |          | 0/? [00:00<?, ?it/s]"
      ]
     },
     "metadata": {},
     "output_type": "display_data"
    },
    {
     "data": {
      "application/vnd.jupyter.widget-view+json": {
       "model_id": "89e06182209e418cb0ead1851c2197e6",
       "version_major": 2,
       "version_minor": 0
      },
      "text/plain": [
       "Validation: |          | 0/? [00:00<?, ?it/s]"
      ]
     },
     "metadata": {},
     "output_type": "display_data"
    },
    {
     "data": {
      "application/vnd.jupyter.widget-view+json": {
       "model_id": "644ec02b886d43e595a986cdd051f108",
       "version_major": 2,
       "version_minor": 0
      },
      "text/plain": [
       "Validation: |          | 0/? [00:00<?, ?it/s]"
      ]
     },
     "metadata": {},
     "output_type": "display_data"
    },
    {
     "data": {
      "application/vnd.jupyter.widget-view+json": {
       "model_id": "632b57d414bd454aac786b6394957edb",
       "version_major": 2,
       "version_minor": 0
      },
      "text/plain": [
       "Validation: |          | 0/? [00:00<?, ?it/s]"
      ]
     },
     "metadata": {},
     "output_type": "display_data"
    },
    {
     "data": {
      "application/vnd.jupyter.widget-view+json": {
       "model_id": "7f9f63ad49ef4ab1a67c21aec3432b7d",
       "version_major": 2,
       "version_minor": 0
      },
      "text/plain": [
       "Validation: |          | 0/? [00:00<?, ?it/s]"
      ]
     },
     "metadata": {},
     "output_type": "display_data"
    },
    {
     "data": {
      "application/vnd.jupyter.widget-view+json": {
       "model_id": "c5f4e672af4f4018a62b70a5a0a8810f",
       "version_major": 2,
       "version_minor": 0
      },
      "text/plain": [
       "Validation: |          | 0/? [00:00<?, ?it/s]"
      ]
     },
     "metadata": {},
     "output_type": "display_data"
    },
    {
     "data": {
      "application/vnd.jupyter.widget-view+json": {
       "model_id": "85a3ce9f2031497fa0cf38be0fd67a8b",
       "version_major": 2,
       "version_minor": 0
      },
      "text/plain": [
       "Validation: |          | 0/? [00:00<?, ?it/s]"
      ]
     },
     "metadata": {},
     "output_type": "display_data"
    },
    {
     "data": {
      "application/vnd.jupyter.widget-view+json": {
       "model_id": "aa062b752cc841329b652c5bb1b26e13",
       "version_major": 2,
       "version_minor": 0
      },
      "text/plain": [
       "Validation: |          | 0/? [00:00<?, ?it/s]"
      ]
     },
     "metadata": {},
     "output_type": "display_data"
    },
    {
     "data": {
      "application/vnd.jupyter.widget-view+json": {
       "model_id": "394b8b77e35f4d47ae0d6e63e50e9dc7",
       "version_major": 2,
       "version_minor": 0
      },
      "text/plain": [
       "Validation: |          | 0/? [00:00<?, ?it/s]"
      ]
     },
     "metadata": {},
     "output_type": "display_data"
    },
    {
     "data": {
      "application/vnd.jupyter.widget-view+json": {
       "model_id": "234767f4a0cf47ae80701f83a8ff9540",
       "version_major": 2,
       "version_minor": 0
      },
      "text/plain": [
       "Validation: |          | 0/? [00:00<?, ?it/s]"
      ]
     },
     "metadata": {},
     "output_type": "display_data"
    },
    {
     "data": {
      "application/vnd.jupyter.widget-view+json": {
       "model_id": "328e6cb88f92429b840940054d9457f6",
       "version_major": 2,
       "version_minor": 0
      },
      "text/plain": [
       "Validation: |          | 0/? [00:00<?, ?it/s]"
      ]
     },
     "metadata": {},
     "output_type": "display_data"
    },
    {
     "data": {
      "application/vnd.jupyter.widget-view+json": {
       "model_id": "846f6f527eca4e97ac5750060b14ca09",
       "version_major": 2,
       "version_minor": 0
      },
      "text/plain": [
       "Validation: |          | 0/? [00:00<?, ?it/s]"
      ]
     },
     "metadata": {},
     "output_type": "display_data"
    },
    {
     "data": {
      "application/vnd.jupyter.widget-view+json": {
       "model_id": "a6570b13a1704cc5b3ca108172dbc383",
       "version_major": 2,
       "version_minor": 0
      },
      "text/plain": [
       "Validation: |          | 0/? [00:00<?, ?it/s]"
      ]
     },
     "metadata": {},
     "output_type": "display_data"
    },
    {
     "data": {
      "application/vnd.jupyter.widget-view+json": {
       "model_id": "2b991ee0751d4eeb97b2c3f0a8191a6b",
       "version_major": 2,
       "version_minor": 0
      },
      "text/plain": [
       "Validation: |          | 0/? [00:00<?, ?it/s]"
      ]
     },
     "metadata": {},
     "output_type": "display_data"
    },
    {
     "data": {
      "application/vnd.jupyter.widget-view+json": {
       "model_id": "8a8c697cd0bc40d5afdc473c5e397d0d",
       "version_major": 2,
       "version_minor": 0
      },
      "text/plain": [
       "Validation: |          | 0/? [00:00<?, ?it/s]"
      ]
     },
     "metadata": {},
     "output_type": "display_data"
    },
    {
     "data": {
      "application/vnd.jupyter.widget-view+json": {
       "model_id": "dbe3815126394231b2eb43a2c0150679",
       "version_major": 2,
       "version_minor": 0
      },
      "text/plain": [
       "Validation: |          | 0/? [00:00<?, ?it/s]"
      ]
     },
     "metadata": {},
     "output_type": "display_data"
    },
    {
     "data": {
      "application/vnd.jupyter.widget-view+json": {
       "model_id": "10687de4338248b5b0d87b421939c242",
       "version_major": 2,
       "version_minor": 0
      },
      "text/plain": [
       "Validation: |          | 0/? [00:00<?, ?it/s]"
      ]
     },
     "metadata": {},
     "output_type": "display_data"
    },
    {
     "data": {
      "application/vnd.jupyter.widget-view+json": {
       "model_id": "4cb54bca78904aed86c136060c9c8401",
       "version_major": 2,
       "version_minor": 0
      },
      "text/plain": [
       "Validation: |          | 0/? [00:00<?, ?it/s]"
      ]
     },
     "metadata": {},
     "output_type": "display_data"
    },
    {
     "data": {
      "application/vnd.jupyter.widget-view+json": {
       "model_id": "dab9ffe7bc4b4780a4c74b0d324a4386",
       "version_major": 2,
       "version_minor": 0
      },
      "text/plain": [
       "Validation: |          | 0/? [00:00<?, ?it/s]"
      ]
     },
     "metadata": {},
     "output_type": "display_data"
    },
    {
     "data": {
      "application/vnd.jupyter.widget-view+json": {
       "model_id": "b269abb763f44bfd9863f627ced21d84",
       "version_major": 2,
       "version_minor": 0
      },
      "text/plain": [
       "Validation: |          | 0/? [00:00<?, ?it/s]"
      ]
     },
     "metadata": {},
     "output_type": "display_data"
    },
    {
     "data": {
      "application/vnd.jupyter.widget-view+json": {
       "model_id": "e69b2f896de4495388d0ab7d54b5c9b1",
       "version_major": 2,
       "version_minor": 0
      },
      "text/plain": [
       "Validation: |          | 0/? [00:00<?, ?it/s]"
      ]
     },
     "metadata": {},
     "output_type": "display_data"
    },
    {
     "data": {
      "application/vnd.jupyter.widget-view+json": {
       "model_id": "b47cbba174064536b2b947b993d394d7",
       "version_major": 2,
       "version_minor": 0
      },
      "text/plain": [
       "Validation: |          | 0/? [00:00<?, ?it/s]"
      ]
     },
     "metadata": {},
     "output_type": "display_data"
    },
    {
     "data": {
      "application/vnd.jupyter.widget-view+json": {
       "model_id": "5fe90ddb26314ee48a231b170a48cca7",
       "version_major": 2,
       "version_minor": 0
      },
      "text/plain": [
       "Validation: |          | 0/? [00:00<?, ?it/s]"
      ]
     },
     "metadata": {},
     "output_type": "display_data"
    },
    {
     "data": {
      "application/vnd.jupyter.widget-view+json": {
       "model_id": "5452e1a86a6d47f79f9b47fb544f87f4",
       "version_major": 2,
       "version_minor": 0
      },
      "text/plain": [
       "Validation: |          | 0/? [00:00<?, ?it/s]"
      ]
     },
     "metadata": {},
     "output_type": "display_data"
    },
    {
     "data": {
      "application/vnd.jupyter.widget-view+json": {
       "model_id": "c192efba95ac472ab749146646d0d806",
       "version_major": 2,
       "version_minor": 0
      },
      "text/plain": [
       "Validation: |          | 0/? [00:00<?, ?it/s]"
      ]
     },
     "metadata": {},
     "output_type": "display_data"
    },
    {
     "data": {
      "application/vnd.jupyter.widget-view+json": {
       "model_id": "9380fdb4225946cc98890d0bf65ba9e6",
       "version_major": 2,
       "version_minor": 0
      },
      "text/plain": [
       "Validation: |          | 0/? [00:00<?, ?it/s]"
      ]
     },
     "metadata": {},
     "output_type": "display_data"
    },
    {
     "data": {
      "application/vnd.jupyter.widget-view+json": {
       "model_id": "53f01502d3da4c1ea96e495e9e451c59",
       "version_major": 2,
       "version_minor": 0
      },
      "text/plain": [
       "Validation: |          | 0/? [00:00<?, ?it/s]"
      ]
     },
     "metadata": {},
     "output_type": "display_data"
    },
    {
     "data": {
      "application/vnd.jupyter.widget-view+json": {
       "model_id": "49c6c662a3674c6493d2c1dfc4a5dfd2",
       "version_major": 2,
       "version_minor": 0
      },
      "text/plain": [
       "Validation: |          | 0/? [00:00<?, ?it/s]"
      ]
     },
     "metadata": {},
     "output_type": "display_data"
    },
    {
     "data": {
      "application/vnd.jupyter.widget-view+json": {
       "model_id": "7c67b2abd17e4434922bb11e3c68c1db",
       "version_major": 2,
       "version_minor": 0
      },
      "text/plain": [
       "Validation: |          | 0/? [00:00<?, ?it/s]"
      ]
     },
     "metadata": {},
     "output_type": "display_data"
    },
    {
     "data": {
      "application/vnd.jupyter.widget-view+json": {
       "model_id": "f05dc724185e4b66bb4f81047a8cb07c",
       "version_major": 2,
       "version_minor": 0
      },
      "text/plain": [
       "Validation: |          | 0/? [00:00<?, ?it/s]"
      ]
     },
     "metadata": {},
     "output_type": "display_data"
    },
    {
     "data": {
      "application/vnd.jupyter.widget-view+json": {
       "model_id": "0cee47b690d2469a8c091692b477efd6",
       "version_major": 2,
       "version_minor": 0
      },
      "text/plain": [
       "Validation: |          | 0/? [00:00<?, ?it/s]"
      ]
     },
     "metadata": {},
     "output_type": "display_data"
    },
    {
     "data": {
      "application/vnd.jupyter.widget-view+json": {
       "model_id": "8ff0df2651da44cba3cc0a41dbc6b2e5",
       "version_major": 2,
       "version_minor": 0
      },
      "text/plain": [
       "Validation: |          | 0/? [00:00<?, ?it/s]"
      ]
     },
     "metadata": {},
     "output_type": "display_data"
    },
    {
     "data": {
      "application/vnd.jupyter.widget-view+json": {
       "model_id": "484894b45de24ce18702711019932528",
       "version_major": 2,
       "version_minor": 0
      },
      "text/plain": [
       "Validation: |          | 0/? [00:00<?, ?it/s]"
      ]
     },
     "metadata": {},
     "output_type": "display_data"
    },
    {
     "data": {
      "application/vnd.jupyter.widget-view+json": {
       "model_id": "c4eacd08ca40424485115fcb7942de34",
       "version_major": 2,
       "version_minor": 0
      },
      "text/plain": [
       "Validation: |          | 0/? [00:00<?, ?it/s]"
      ]
     },
     "metadata": {},
     "output_type": "display_data"
    },
    {
     "data": {
      "application/vnd.jupyter.widget-view+json": {
       "model_id": "f2af3dfc863140cc9b2c5099e3eddbff",
       "version_major": 2,
       "version_minor": 0
      },
      "text/plain": [
       "Validation: |          | 0/? [00:00<?, ?it/s]"
      ]
     },
     "metadata": {},
     "output_type": "display_data"
    },
    {
     "data": {
      "application/vnd.jupyter.widget-view+json": {
       "model_id": "b2609e51588c4529a4132f2452af8a8c",
       "version_major": 2,
       "version_minor": 0
      },
      "text/plain": [
       "Validation: |          | 0/? [00:00<?, ?it/s]"
      ]
     },
     "metadata": {},
     "output_type": "display_data"
    },
    {
     "data": {
      "application/vnd.jupyter.widget-view+json": {
       "model_id": "3b1f2a422d804742a22356111d172b84",
       "version_major": 2,
       "version_minor": 0
      },
      "text/plain": [
       "Validation: |          | 0/? [00:00<?, ?it/s]"
      ]
     },
     "metadata": {},
     "output_type": "display_data"
    },
    {
     "data": {
      "application/vnd.jupyter.widget-view+json": {
       "model_id": "8b92c9556a5c4bb1b3b53cefdb621abb",
       "version_major": 2,
       "version_minor": 0
      },
      "text/plain": [
       "Validation: |          | 0/? [00:00<?, ?it/s]"
      ]
     },
     "metadata": {},
     "output_type": "display_data"
    },
    {
     "data": {
      "application/vnd.jupyter.widget-view+json": {
       "model_id": "a8446d6eff33489b82e5c3b3ac257992",
       "version_major": 2,
       "version_minor": 0
      },
      "text/plain": [
       "Validation: |          | 0/? [00:00<?, ?it/s]"
      ]
     },
     "metadata": {},
     "output_type": "display_data"
    },
    {
     "data": {
      "application/vnd.jupyter.widget-view+json": {
       "model_id": "7536f0614bc04b7ca3ea7e503bb422d0",
       "version_major": 2,
       "version_minor": 0
      },
      "text/plain": [
       "Validation: |          | 0/? [00:00<?, ?it/s]"
      ]
     },
     "metadata": {},
     "output_type": "display_data"
    },
    {
     "data": {
      "application/vnd.jupyter.widget-view+json": {
       "model_id": "9a606be0ce3d4148a1644536655d17d5",
       "version_major": 2,
       "version_minor": 0
      },
      "text/plain": [
       "Validation: |          | 0/? [00:00<?, ?it/s]"
      ]
     },
     "metadata": {},
     "output_type": "display_data"
    },
    {
     "data": {
      "application/vnd.jupyter.widget-view+json": {
       "model_id": "60813e35ac694fa78da153ffb4d51e6d",
       "version_major": 2,
       "version_minor": 0
      },
      "text/plain": [
       "Validation: |          | 0/? [00:00<?, ?it/s]"
      ]
     },
     "metadata": {},
     "output_type": "display_data"
    },
    {
     "data": {
      "application/vnd.jupyter.widget-view+json": {
       "model_id": "87255d06f43042ebb531c85d7f17d186",
       "version_major": 2,
       "version_minor": 0
      },
      "text/plain": [
       "Validation: |          | 0/? [00:00<?, ?it/s]"
      ]
     },
     "metadata": {},
     "output_type": "display_data"
    },
    {
     "data": {
      "application/vnd.jupyter.widget-view+json": {
       "model_id": "d805ea9ead8347059013a989a66060d7",
       "version_major": 2,
       "version_minor": 0
      },
      "text/plain": [
       "Validation: |          | 0/? [00:00<?, ?it/s]"
      ]
     },
     "metadata": {},
     "output_type": "display_data"
    },
    {
     "data": {
      "application/vnd.jupyter.widget-view+json": {
       "model_id": "e7127bf00a0f4fe78a7a292e81d9b33e",
       "version_major": 2,
       "version_minor": 0
      },
      "text/plain": [
       "Validation: |          | 0/? [00:00<?, ?it/s]"
      ]
     },
     "metadata": {},
     "output_type": "display_data"
    },
    {
     "data": {
      "application/vnd.jupyter.widget-view+json": {
       "model_id": "b4fc1891a8524a1780a2c209aa79a620",
       "version_major": 2,
       "version_minor": 0
      },
      "text/plain": [
       "Validation: |          | 0/? [00:00<?, ?it/s]"
      ]
     },
     "metadata": {},
     "output_type": "display_data"
    },
    {
     "data": {
      "application/vnd.jupyter.widget-view+json": {
       "model_id": "292b7e76ed604a299c722a242a1ee6df",
       "version_major": 2,
       "version_minor": 0
      },
      "text/plain": [
       "Validation: |          | 0/? [00:00<?, ?it/s]"
      ]
     },
     "metadata": {},
     "output_type": "display_data"
    },
    {
     "data": {
      "application/vnd.jupyter.widget-view+json": {
       "model_id": "149e7d9204fd43019c0865dd981bd23b",
       "version_major": 2,
       "version_minor": 0
      },
      "text/plain": [
       "Validation: |          | 0/? [00:00<?, ?it/s]"
      ]
     },
     "metadata": {},
     "output_type": "display_data"
    },
    {
     "data": {
      "application/vnd.jupyter.widget-view+json": {
       "model_id": "8b92f577b38943c88d878b7024367526",
       "version_major": 2,
       "version_minor": 0
      },
      "text/plain": [
       "Validation: |          | 0/? [00:00<?, ?it/s]"
      ]
     },
     "metadata": {},
     "output_type": "display_data"
    },
    {
     "data": {
      "application/vnd.jupyter.widget-view+json": {
       "model_id": "0015944d06a244f3a2b6185003bae3d0",
       "version_major": 2,
       "version_minor": 0
      },
      "text/plain": [
       "Validation: |          | 0/? [00:00<?, ?it/s]"
      ]
     },
     "metadata": {},
     "output_type": "display_data"
    },
    {
     "name": "stderr",
     "output_type": "stream",
     "text": [
      "`Trainer.fit` stopped: `max_epochs=200` reached.\n",
      "💡 Tip: For seamless cloud uploads and versioning, try installing [litmodels](https://pypi.org/project/litmodels/) to enable LitModelCheckpoint, which syncs automatically with the Lightning model registry.\n",
      "GPU available: True (cuda), used: True\n",
      "TPU available: False, using: 0 TPU cores\n",
      "HPU available: False, using: 0 HPUs\n",
      "LOCAL_RANK: 0 - CUDA_VISIBLE_DEVICES: [0]\n"
     ]
    },
    {
     "name": "stdout",
     "output_type": "stream",
     "text": [
      "[Forecast] 30-day forecast saved to: D:\\PSU\\241-353\\Mini_Project\\ML\\TFT\\PINK\\tft_pink_outputs\\tft_pink_30day_forecast.csv\n",
      "[Done] Outputs in: D:\\PSU\\241-353\\Mini_Project\\ML\\TFT\\PINK\\tft_pink_outputs\n"
     ]
    }
   ],
   "source": [
    "# 6) Define model\n",
    "tft = TemporalFusionTransformer.from_dataset(\n",
    "    training,\n",
    "    learning_rate=LR,\n",
    "    hidden_size=42,\n",
    "    attention_head_size=2,\n",
    "    hidden_continuous_size=32,\n",
    "    dropout=0.05,\n",
    "    loss= MAE(),\n",
    "    log_interval=50,\n",
    "    optimizer=\"adam\",\n",
    "    reduce_on_plateau_patience=4,\n",
    "    # weight_decay=1e-2,\n",
    "\n",
    ")\n",
    "\n",
    "# 7) Train\n",
    "ckpt_dir = PLOTS_DIR / \"ckpts\"\n",
    "ckpt_dir.mkdir(exist_ok=True, parents=True)\n",
    "\n",
    "callbacks = [\n",
    "    EarlyStopping(monitor=\"val_loss\", min_delta=1e-4, patience=20, mode=\"min\"),\n",
    "    ModelCheckpoint(dirpath=str(ckpt_dir), filename=\"best\", save_top_k=1, monitor=\"val_loss\", mode=\"min\"),\n",
    "    LearningRateMonitor(logging_interval=\"epoch\"),\n",
    "]\n",
    "\n",
    "trainer = pl.Trainer(\n",
    "    accelerator=\"auto\",\n",
    "    devices=1,\n",
    "    max_epochs=EPOCHS,\n",
    "    gradient_clip_val=0.1,\n",
    "    callbacks=callbacks,\n",
    "    log_every_n_steps=10,\n",
    "    default_root_dir=str(PLOTS_DIR),\n",
    "    logger=csv_logger,  \n",
    ")\n",
    "trainer.fit(tft, train_dataloaders=train_loader, val_dataloaders=val_loader)\n",
    "\n",
    "# Load best model\n",
    "best_path = callbacks[1].best_model_path if hasattr(callbacks[1], \"best_model_path\") else None\n",
    "if best_path and os.path.exists(best_path):\n",
    "    tft = TemporalFusionTransformer.load_from_checkpoint(best_path)\n",
    "\n",
    "# 9) Forecast next 30 days (future)\n",
    "pred_future = tft.predict(val_loader)  # future → no y_true\n",
    "if isinstance(pred_future, list):\n",
    "    y_pred_future = torch.cat([p for p in pred_future], dim=0)\n",
    "else:\n",
    "    y_pred_future = pred_future\n",
    "\n",
    "# shape should be [1, 30] for single-series\n",
    "yhat = y_pred_future.detach().cpu().numpy().reshape(-1)\n",
    "\n",
    "last_date = df[DATE_COL].max()\n",
    "future_dates = pd.date_range(last_date + pd.Timedelta(days=1), periods=MAX_PRED_LEN, freq=\"D\")\n",
    "df_forecast = pd.DataFrame({\"date\": future_dates, \"forecast_pink\": yhat})\n",
    "out_csv = PLOTS_DIR / \"tft_pink_30day_forecast.csv\"\n",
    "df_forecast.to_csv(out_csv, index=False)\n",
    "print(f\"[Forecast] 30-day forecast saved to: {out_csv.resolve()}\")\n",
    "\n",
    "# quick preview plot\n",
    "plt.figure(figsize=(12,5))\n",
    "plt.plot(df[DATE_COL].tail(120), df[TARGET_COL].tail(120), label=\"History (last 120d)\")\n",
    "plt.plot(df_forecast[\"date\"], df_forecast[\"forecast_pink\"], label=\"Forecast (30d)\")\n",
    "plt.title(\"MRT pink: History vs 30-day Forecast\")\n",
    "plt.xlabel(\"Date\")\n",
    "plt.ylabel(\"Ridership (pink)\")\n",
    "plt.legend()\n",
    "plt.tight_layout()\n",
    "plt.savefig(PLOTS_DIR / \"history_vs_forecast_30d.png\", dpi=150)\n",
    "plt.close()\n",
    "\n",
    "print(\"[Done] Outputs in:\", PLOTS_DIR.resolve())"
   ]
  },
  {
   "cell_type": "code",
   "execution_count": 21,
   "id": "00b50a57",
   "metadata": {},
   "outputs": [],
   "source": [
    "training_cutoff = int(df[\"time_idx\"].max()) - MAX_PRED_LEN\n",
    "start_idx = int(training_cutoff - MAX_ENC_LEN - MAX_PRED_LEN + 1)\n",
    "end_idx   = int(training_cutoff)\n",
    "\n",
    "df_val30 = df[(df[\"time_idx\"] >= start_idx) & (df[\"time_idx\"] <= end_idx)].copy()\n",
    "\n",
    "# 2) ใช้ schema เดิมจาก training → มี y_true แน่นอน\n",
    "val30_ds = TimeSeriesDataSet.from_dataset(training, df_val30, predict=False, stop_randomization=True)\n",
    "val30_loader = val30_ds.to_dataloader(train=False, batch_size=128, num_workers=0)"
   ]
  },
  {
   "cell_type": "code",
   "execution_count": 22,
   "id": "9ca0c2cc",
   "metadata": {},
   "outputs": [
    {
     "name": "stderr",
     "output_type": "stream",
     "text": [
      "💡 Tip: For seamless cloud uploads and versioning, try installing [litmodels](https://pypi.org/project/litmodels/) to enable LitModelCheckpoint, which syncs automatically with the Lightning model registry.\n",
      "GPU available: True (cuda), used: True\n",
      "TPU available: False, using: 0 TPU cores\n",
      "HPU available: False, using: 0 HPUs\n",
      "LOCAL_RANK: 0 - CUDA_VISIBLE_DEVICES: [0]\n"
     ]
    },
    {
     "name": "stdout",
     "output_type": "stream",
     "text": [
      "✅ Saved metrics: D:\\PSU\\241-353\\Mini_Project\\ML\\TFT\\PINK\\tft_pink_outputs\\val30_metrics.csv\n",
      "✅ Saved CSV: D:\\PSU\\241-353\\Mini_Project\\ML\\TFT\\PINK\\tft_pink_outputs\\val30_actual_vs_pred.csv\n"
     ]
    },
    {
     "data": {
      "image/png": "[encoded data removed]",
      "text/plain": [
       "<Figure size 1200x500 with 1 Axes>"
      ]
     },
     "metadata": {},
     "output_type": "display_data"
    },
    {
     "name": "stdout",
     "output_type": "stream",
     "text": [
      "✅ Saved PNG: D:\\PSU\\241-353\\Mini_Project\\ML\\TFT\\PINK\\tft_pink_outputs\\backtest_last_true_vs_pred.png\n"
     ]
    }
   ],
   "source": [
    "from pathlib import Path\n",
    "\n",
    "PLOTS_DIR = Path(\"tft_pink_outputs\"); PLOTS_DIR.mkdir(exist_ok=True, parents=True)\n",
    "\n",
    "# 1) y_pred from model (val30_loader must come from predict=False window)\n",
    "preds = tft.predict(val30_loader)\n",
    "y_pred = preds if torch.is_tensor(preds) else torch.cat(preds, dim=0)\n",
    "\n",
    "# If quantiles [B, T, Q] → pick median q=0.5\n",
    "if y_pred.ndim == 3:\n",
    "    try:\n",
    "        qs = list(getattr(tft.loss, \"quantiles\", [0.1, 0.5, 0.9]))\n",
    "        q_idx = qs.index(0.5) if 0.5 in qs else 1\n",
    "    except Exception:\n",
    "        q_idx = 1\n",
    "    y_pred = y_pred[..., q_idx]\n",
    "\n",
    "# 2) y_true: handle (x,y) tuples, dicts, or nested tuples/lists\n",
    "def extract_target_from_batch(batch):\n",
    "    # case A: tuple/list like (x, y) or (x, y, index)\n",
    "    if isinstance(batch, (tuple, list)) and len(batch) >= 2:\n",
    "        x, y = batch[0], batch[1]\n",
    "        # y is already a tensor\n",
    "        if isinstance(y, torch.Tensor):\n",
    "            return y\n",
    "        # y is tuple/list -> find first tensor inside\n",
    "        if isinstance(y, (tuple, list)):\n",
    "            for item in y:\n",
    "                if isinstance(item, torch.Tensor):\n",
    "                    return item\n",
    "        # y is dict with known keys\n",
    "        if isinstance(y, dict):\n",
    "            for k in (\"decoder_target\", \"target\", \"y\"):\n",
    "                if k in y and isinstance(y[k], torch.Tensor):\n",
    "                    return y[k]\n",
    "        # fallback: try x dict\n",
    "        if isinstance(x, dict):\n",
    "            if \"decoder_target\" in x and isinstance(x[\"decoder_target\"], torch.Tensor):\n",
    "                return x[\"decoder_target\"]\n",
    "    # case B: dict batch\n",
    "    if isinstance(batch, dict):\n",
    "        for k in (\"decoder_target\", \"target\", \"y\"):\n",
    "            if k in batch and isinstance(batch[k], torch.Tensor):\n",
    "                return batch[k]\n",
    "    raise TypeError(f\"Cannot extract target from batch of type {type(batch)}\")\n",
    "\n",
    "ys = []\n",
    "for b in val30_loader:\n",
    "    y_t = extract_target_from_batch(b)\n",
    "    ys.append(y_t)\n",
    "\n",
    "# now cat tensors\n",
    "y_true = torch.cat(ys, dim=0)\n",
    "\n",
    "# 3) metrics + plot\n",
    "y_p = y_pred.detach().cpu().numpy().reshape(-1)\n",
    "y_t = y_true.detach().cpu().numpy().reshape(-1)\n",
    "\n",
    "mae  = mean_absolute_error(y_t, y_p)\n",
    "rmse = root_mean_squared_error(y_t, y_p)\n",
    "mape = mean_absolute_percentage_error(y_t, y_p) * 100.0\n",
    "smape = (np.mean(np.abs(y_p - y_t) / ((np.abs(y_t)+np.abs(y_p))/2.0 + 1e-9))) * 100.0\n",
    "metrics_df = pd.DataFrame([{\n",
    "    \"MAE\": float(mae),\n",
    "    \"RMSE\": float(rmse),\n",
    "    \"MAPE_pct\": float(mape),\n",
    "    \"sMAPE_pct\": float(smape),\n",
    "    \"n_points\": int(len(y_t)),\n",
    "}])\n",
    "\n",
    "metrics_path = PLOTS_DIR / \"val30_metrics.csv\"\n",
    "metrics_df.to_csv(metrics_path, index=False)\n",
    "print(f\"✅ Saved metrics: {metrics_path.resolve()}\")\n",
    "\n",
    "idx_to_date = dict(zip(df[\"time_idx\"].astype(int).tolist(),\n",
    "                       pd.to_datetime(df[DATE_COL]).tolist()))\n",
    "\n",
    "# 1) ดึง y_true และ (ถ้ามี) decoder_time_idx ให้ครบในลูปเดียวกัน\n",
    "ys, t_idx_batches = [], []\n",
    "for b in val30_loader:  # val30_loader ต้องมาจาก TimeSeriesDataSet(..., predict=False)\n",
    "    # --- ดึง y_true ตามโครงสร้าง batch ---\n",
    "    if isinstance(b, (tuple, list)) and len(b) >= 2:\n",
    "        x, y = b[0], b[1]\n",
    "        # y เป็น tensor ตรง ๆ\n",
    "        if isinstance(y, torch.Tensor):\n",
    "            ys.append(y)\n",
    "        # y เป็น tuple/list → หาตัว tensor ตัวแรก\n",
    "        elif isinstance(y, (tuple, list)):\n",
    "            found = None\n",
    "            for item in y:\n",
    "                if isinstance(item, torch.Tensor):\n",
    "                    found = item; break\n",
    "            if found is None:\n",
    "                raise TypeError(\"Cannot find tensor target inside (tuple/list) y\")\n",
    "            ys.append(found)\n",
    "        # y เป็น dict\n",
    "        elif isinstance(y, dict):\n",
    "            for k in (\"decoder_target\", \"target\", \"y\"):\n",
    "                if k in y and isinstance(y[k], torch.Tensor):\n",
    "                    ys.append(y[k]); break\n",
    "            else:\n",
    "                raise TypeError(\"Cannot find tensor target inside dict y\")\n",
    "        else:\n",
    "            raise TypeError(f\"Unexpected y type: {type(y)}\")\n",
    "        # --- เก็บ decoder_time_idx ถ้ามีอยู่ใน x ---\n",
    "        if isinstance(x, dict) and \"decoder_time_idx\" in x and isinstance(x[\"decoder_time_idx\"], torch.Tensor):\n",
    "            t_idx_batches.append(x[\"decoder_time_idx\"])\n",
    "    elif isinstance(b, dict):\n",
    "        # บางเวอร์ชัน batch เป็น dict เลย\n",
    "        for k in (\"decoder_target\", \"target\", \"y\"):\n",
    "            if k in b and isinstance(b[k], torch.Tensor):\n",
    "                ys.append(b[k]); break\n",
    "        # decoder_time_idx\n",
    "        if \"decoder_time_idx\" in b and isinstance(b[\"decoder_time_idx\"], torch.Tensor):\n",
    "            t_idx_batches.append(b[\"decoder_time_idx\"])\n",
    "    else:\n",
    "        raise TypeError(f\"Unexpected batch type: {type(b)}\")\n",
    "\n",
    "y_true = torch.cat(ys, dim=0)                       # [B, T]\n",
    "y_t = y_true.detach().cpu().numpy().reshape(-1)     # flatten\n",
    "\n",
    "# 2) สร้างลิสต์วันที่ตามลำดับเดียวกับ y_t / y_p\n",
    "if len(t_idx_batches) > 0:\n",
    "    dec_time_idx = torch.cat(t_idx_batches, dim=0)          # [B, T]\n",
    "    time_idx_flat = dec_time_idx.detach().cpu().numpy().reshape(-1).tolist()\n",
    "    dates = [idx_to_date[int(i)] for i in time_idx_flat]     # ยาวเท่า y_t\n",
    "else:\n",
    "    # Fallback: คำนวณจาก cutoff (ในกรณี x ไม่มี decoder_time_idx)\n",
    "    MAX_PRED_LEN = getattr(training, \"max_prediction_length\", len(y_t))\n",
    "    training_cutoff = int(df[\"time_idx\"].max()) - MAX_PRED_LEN\n",
    "    dec_start_idx = training_cutoff - MAX_PRED_LEN + 1\n",
    "    # ยาวเท่าจำนวนจุดที่เรามีจริง\n",
    "    dates = [idx_to_date[i] for i in range(dec_start_idx, dec_start_idx + len(y_t))]\n",
    "\n",
    "# 3) ทำให้ y_pred ยาวเท่ากัน (ป้องกัน mismatch เผื่อ flatten แล้วต่างกัน)\n",
    "n = min(len(y_t), len(y_p), len(dates))\n",
    "dates = pd.to_datetime(dates[:n])\n",
    "y_t = y_t[:n]\n",
    "y_p = y_p[:n]\n",
    "\n",
    "# 4) บันทึก CSV: date, actual, forecast\n",
    "outdir = PLOTS_DIR\n",
    "df_eval = pd.DataFrame({\"date\": dates, \"actual\": y_t, \"forecast\": y_p})\n",
    "csv_path = outdir / \"val30_actual_vs_pred.csv\"\n",
    "df_eval.to_csv(csv_path, index=False)\n",
    "print(f\"✅ Saved CSV: {csv_path.resolve()}\")\n",
    "\n",
    "# 5) วาดกราฟโดยใช้วันที่บนแกน X\n",
    "plt.figure(figsize=(12,5))\n",
    "plt.plot(df_eval[\"date\"], df_eval[\"actual\"], label=\"Actual\")\n",
    "plt.plot(df_eval[\"date\"], df_eval[\"forecast\"], label=\"Forecast\")\n",
    "plt.title(\"Backtest (last 30): Actual vs Forecast\")\n",
    "plt.xlabel(\"Date\"); plt.ylabel(\"Ridership (pink)\")\n",
    "plt.legend(); plt.tight_layout(); plt.show()\n",
    "\n",
    "# และเซฟรูปด้วย\n",
    "png_path = outdir / \"backtest_last_true_vs_pred.png\"\n",
    "plt.figure(figsize=(12,5))\n",
    "plt.plot(df_eval[\"date\"], df_eval[\"actual\"], label=\"Actual\")\n",
    "plt.plot(df_eval[\"date\"], df_eval[\"forecast\"], label=\"Forecast\")\n",
    "plt.title(\"Backtest (last 30): Actual vs Forecast\")\n",
    "plt.xlabel(\"Date\"); plt.ylabel(\"Ridership (pink)\")\n",
    "plt.legend(); plt.tight_layout(); plt.savefig(png_path, dpi=150); plt.close()\n",
    "print(f\"✅ Saved PNG: {png_path.resolve()}\")"
   ]
  },
  {
   "cell_type": "code",
   "execution_count": null,
   "id": "e7a086da",
   "metadata": {},
   "outputs": [],
   "source": []
  }
 ],
 "metadata": {
  "kernelspec": {
   "display_name": "Mini_Project (3.12.4)",
   "language": "python",
   "name": "python3"
  },
  "language_info": {
   "codemirror_mode": {
    "name": "ipython",
    "version": 3
   },
   "file_extension": ".py",
   "mimetype": "text/x-python",
   "name": "python",
   "nbconvert_exporter": "python",
   "pygments_lexer": "ipython3",
   "version": "3.12.4"
  }
 },
 "nbformat": 4,
 "nbformat_minor": 5
}

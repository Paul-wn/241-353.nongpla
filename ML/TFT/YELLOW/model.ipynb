{
 "cells": [
  {
   "cell_type": "code",
   "execution_count": 1,
   "id": "af0acfa4",
   "metadata": {},
   "outputs": [],
   "source": [
    "import os\n",
    "import warnings\n",
    "from pathlib import Path\n",
    "from dataclasses import dataclass\n",
    "\n",
    "import numpy as np\n",
    "import pandas as pd\n",
    "import matplotlib.pyplot as plt\n",
    "\n",
    "import torch\n",
    "import lightning.pytorch as pl\n",
    "from lightning.pytorch.callbacks import EarlyStopping, ModelCheckpoint, LearningRateMonitor\n",
    "\n",
    "from sklearn.metrics import mean_absolute_error, mean_absolute_percentage_error , root_mean_squared_error\n",
    "\n",
    "from pytorch_forecasting import TimeSeriesDataSet, TemporalFusionTransformer\n",
    "from pytorch_forecasting.data import GroupNormalizer, NaNLabelEncoder\n",
    "from pytorch_forecasting.metrics import QuantileLoss , MAE\n",
    "\n",
    "from lightning.pytorch.loggers import CSVLogger, TensorBoardLogger"
   ]
  },
  {
   "cell_type": "code",
   "execution_count": 2,
   "id": "58f5536d",
   "metadata": {},
   "outputs": [
    {
     "name": "stderr",
     "output_type": "stream",
     "text": [
      "<>:1: SyntaxWarning: invalid escape sequence '\\P'\n",
      "<>:1: SyntaxWarning: invalid escape sequence '\\P'\n",
      "C:\\Users\\ASUS\\AppData\\Local\\Temp\\ipykernel_9944\\3291978932.py:1: SyntaxWarning: invalid escape sequence '\\P'\n",
      "  DATA_CSV = Path(\"D:\\PSU/241-353/Mini_Project/data/augmented_data.csv\")  # ensure this CSV is in the same folder when running\n"
     ]
    }
   ],
   "source": [
    "DATA_CSV = Path(\"D:\\PSU/241-353/Mini_Project/data/augmented_data.csv\")  # ensure this CSV is in the same folder when running\n",
    "DATE_COL = \"วันที่\"\n",
    "TARGET_COL = \"รถไฟฟ้าสายสีเหลือง\"\n",
    "\n",
    "# Exogenous covariates (adjust names if different in your CSV)\n",
    "DAY_TYPE_COL = \"day_type\"         # categorical\n",
    "RAIN_COL     = \"rain_average\"     # real\n",
    "ARL_COL      = \"รถไฟฟ้า ARL\"      # real\n",
    "PURPLE_COL   = \"รถไฟฟ้าสายสีชมพู\" # real\n",
    "BTS_COL      = \"รถไฟฟ้า BTS\"      # real\n",
    "\n",
    "# Model / dataset params\n",
    "GROUP_ID = \"series_id\"\n",
    "MAX_PRED_LEN = 30\n",
    "MAX_ENC_LEN  = 120\n",
    "BATCH_SIZE_TRAIN = 32\n",
    "BATCH_SIZE_EVAL  = 128\n",
    "EPOCHS = 200\n",
    "LR = 3e-4\n",
    "RANDOM_SEED = 2025"
   ]
  },
  {
   "cell_type": "code",
   "execution_count": 3,
   "id": "0ae8c52e",
   "metadata": {},
   "outputs": [],
   "source": [
    "PLOTS_DIR = Path(\"tft_yellow_outputs\")\n",
    "PLOTS_DIR.mkdir(exist_ok=True, parents=True)\n",
    "csv_logger = CSVLogger(save_dir=str(PLOTS_DIR), name=\"logs\")"
   ]
  },
  {
   "cell_type": "code",
   "execution_count": 4,
   "id": "41ac4578",
   "metadata": {},
   "outputs": [],
   "source": [
    "def _safe_interp_fill(s: pd.Series) -> pd.Series:\n",
    "    \"\"\"Interpolate then back/forward fill for numeric series.\"\"\"\n",
    "    try:\n",
    "        s = pd.to_numeric(s, errors=\"coerce\")\n",
    "    except Exception:\n",
    "        pass\n",
    "    s = s.interpolate(limit_direction=\"both\")\n",
    "    s = s.bfill().ffill()\n",
    "    return s\n"
   ]
  },
  {
   "cell_type": "code",
   "execution_count": 5,
   "id": "be099abb",
   "metadata": {},
   "outputs": [
    {
     "name": "stderr",
     "output_type": "stream",
     "text": [
      "Seed set to 2025\n"
     ]
    }
   ],
   "source": [
    "\n",
    "pl.seed_everything(RANDOM_SEED, workers=True)\n",
    "warnings.filterwarnings(\"ignore\")\n",
    "\n",
    "# 1) Load data\n",
    "if not DATA_CSV.exists():\n",
    "    raise FileNotFoundError(f\"CSV not found: {DATA_CSV.resolve()}\")\n",
    "df = pd.read_csv(DATA_CSV)\n",
    "df = df[df[DATE_COL] >= '2023-06-03']  # ใช้ข้อมูลหลังจากวันที่ 2021-08-02\n",
    "\n",
    "# Basic checks\n",
    "for c in [DATE_COL, TARGET_COL]:\n",
    "    if c not in df.columns:\n",
    "        raise ValueError(f\"Column '{c}' not found in CSV. Please edit config at top of the file.\")\n",
    "\n",
    "# 2) Feature engineering\n",
    "df[DATE_COL] = pd.to_datetime(df[DATE_COL])\n",
    "df = df.sort_values(DATE_COL).reset_index(drop=True)\n",
    "df[GROUP_ID] = \"yellow\"\n",
    "df[\"time_idx\"] = (df[DATE_COL] - df[DATE_COL].min()).dt.days.astype(int)\n",
    "\n",
    "# Optional: build is_weekend from date (Saturday=5, Sunday=6)\n",
    "# df[\"is_weekend\"] = df[DATE_COL].dt.weekday.isin([5, 6]).astype(int)\n",
    "df[\"dow\"] = df[DATE_COL].dt.weekday.astype(\"category\")\n",
    "# Cast categorical for day_type if present\n",
    "if DAY_TYPE_COL in df.columns:\n",
    "    df[DAY_TYPE_COL] = df[DAY_TYPE_COL].astype(str).astype(\"category\")\n",
    "\n",
    "if \"dow\" in df.columns:\n",
    "    df[\"dow\"] = df[\"dow\"].astype(str).astype(\"category\")\n",
    "\n",
    "# Fill numeric covariates\n",
    "for col in [RAIN_COL, ARL_COL, PURPLE_COL, BTS_COL, TARGET_COL]:\n",
    "    if col in df.columns:\n",
    "        df[col] = _safe_interp_fill(df[col])\n",
    "\n",
    "# 3) Define feature lists (no leakage: do NOT include target in features)\n",
    "time_varying_known_categoricals = [c for c in [DAY_TYPE_COL, \"dow\"] if c in df.columns]\n",
    "time_varying_known_reals = [\"time_idx\"]\n",
    "\n",
    "categorical_encoders = {}\n",
    "if DAY_TYPE_COL in df.columns:\n",
    "    categorical_encoders[DAY_TYPE_COL] = NaNLabelEncoder(add_nan=True)  # เผื่อมีค่าว่าง/ไม่รู้ล่วงหน้า\n",
    "if \"dow\" in df.columns:\n",
    "    categorical_encoders[\"dow\"] = NaNLabelEncoder(add_nan=False)     \n",
    "\n",
    "time_varying_unknown_reals = []\n",
    "for col in [ARL_COL, BTS_COL, PURPLE_COL, RAIN_COL]:\n",
    "    if col in df.columns:\n",
    "        time_varying_unknown_reals.append(col)\n",
    "\n",
    "# 4) Split by time for training/validation\n",
    "max_time_idx = int(df[\"time_idx\"].max())\n",
    "training_cutoff = max_time_idx - MAX_PRED_LEN\n"
   ]
  },
  {
   "cell_type": "code",
   "execution_count": 6,
   "id": "5a21d94b",
   "metadata": {},
   "outputs": [],
   "source": [
    "# Training dataset\n",
    "training = TimeSeriesDataSet(\n",
    "    df[df.time_idx <= training_cutoff],\n",
    "    time_idx=\"time_idx\",\n",
    "    target=TARGET_COL,\n",
    "    group_ids=[GROUP_ID],\n",
    "    max_encoder_length=MAX_ENC_LEN,\n",
    "    max_prediction_length=MAX_PRED_LEN,\n",
    "    target_normalizer=GroupNormalizer(groups=[GROUP_ID], transformation=None),  # keep target in original scale\n",
    "    static_categoricals=[GROUP_ID],\n",
    "    time_varying_known_categoricals=time_varying_known_categoricals,\n",
    "    time_varying_known_reals=time_varying_known_reals,\n",
    "    time_varying_unknown_reals=time_varying_unknown_reals + [TARGET_COL],  # include target as unknown-real (historical known to encoder, masked in decoder)\n",
    "    add_relative_time_idx=True,\n",
    "    add_encoder_length=True,\n",
    "    add_target_scales=True,\n",
    "    categorical_encoders=categorical_encoders\n",
    ")\n",
    "\n",
    "# Validation FUTURE (predict next 30 days) -> no y_true\n",
    "val_future = TimeSeriesDataSet.from_dataset(training, df, predict=True, stop_randomization=True)\n",
    "\n"
   ]
  },
  {
   "cell_type": "code",
   "execution_count": 7,
   "id": "ebcd5a0d",
   "metadata": {},
   "outputs": [],
   "source": [
    "# Validation HISTORICAL window that still has y_true (backtest)\n",
    "start_idx = int(training_cutoff - MAX_ENC_LEN - MAX_PRED_LEN + 1)\n",
    "end_idx   = int(training_cutoff)\n",
    "mask = (df[\"time_idx\"] >= start_idx) & (df[\"time_idx\"] <= end_idx)\n",
    "df_val_hist = df.loc[mask].copy()\n",
    "needed = MAX_ENC_LEN + MAX_PRED_LEN\n",
    "if len(df_val_hist) < needed:\n",
    "    # fallback: shrink encoder length to fit\n",
    "    shrink = needed - len(df_val_hist) + 1\n",
    "    enc_len = max(30, MAX_ENC_LEN - shrink)  # don't go below 30\n",
    "    print(f\"[WARN] val_hist window too short ({len(df_val_hist)} rows). Shrinking encoder length to {enc_len}.\")\n",
    "    enc_len_use = enc_len\n",
    "else:\n",
    "    enc_len_use = MAX_ENC_LEN\n"
   ]
  },
  {
   "cell_type": "code",
   "execution_count": 8,
   "id": "753f5662",
   "metadata": {},
   "outputs": [],
   "source": [
    "# 5) Dataloaders\n",
    "train_loader = training.to_dataloader(train=True,  batch_size=BATCH_SIZE_TRAIN, num_workers=0)\n",
    "val_loader   = val_future.to_dataloader(train=False, batch_size=BATCH_SIZE_EVAL, num_workers=0)\n"
   ]
  },
  {
   "cell_type": "code",
   "execution_count": 9,
   "id": "5b3707bb",
   "metadata": {},
   "outputs": [
    {
     "name": "stderr",
     "output_type": "stream",
     "text": [
      "GPU available: True (cuda), used: True\n",
      "TPU available: False, using: 0 TPU cores\n",
      "HPU available: False, using: 0 HPUs\n",
      "You are using a CUDA device ('NVIDIA GeForce RTX 3060 Laptop GPU') that has Tensor Cores. To properly utilize them, you should set `torch.set_float32_matmul_precision('medium' | 'high')` which will trade-off precision for performance. For more details, read https://pytorch.org/docs/stable/generated/torch.set_float32_matmul_precision.html#torch.set_float32_matmul_precision\n",
      "LOCAL_RANK: 0 - CUDA_VISIBLE_DEVICES: [0]\n",
      "\n",
      "   | Name                               | Type                            | Params | Mode \n",
      "------------------------------------------------------------------------------------------------\n",
      "0  | loss                               | MAE                             | 0      | train\n",
      "1  | logging_metrics                    | ModuleList                      | 0      | train\n",
      "2  | input_embeddings                   | MultiEmbedding                  | 48     | train\n",
      "3  | prescalers                         | ModuleDict                      | 640    | train\n",
      "4  | static_variable_selection          | VariableSelectionNetwork        | 16.1 K | train\n",
      "5  | encoder_variable_selection         | VariableSelectionNetwork        | 39.1 K | train\n",
      "6  | decoder_variable_selection         | VariableSelectionNetwork        | 11.1 K | train\n",
      "7  | static_context_variable_selection  | GatedResidualNetwork            | 7.3 K  | train\n",
      "8  | static_context_initial_hidden_lstm | GatedResidualNetwork            | 7.3 K  | train\n",
      "9  | static_context_initial_cell_lstm   | GatedResidualNetwork            | 7.3 K  | train\n",
      "10 | static_context_enrichment          | GatedResidualNetwork            | 7.3 K  | train\n",
      "11 | lstm_encoder                       | LSTM                            | 14.4 K | train\n",
      "12 | lstm_decoder                       | LSTM                            | 14.4 K | train\n",
      "13 | post_lstm_gate_encoder             | GatedLinearUnit                 | 3.6 K  | train\n",
      "14 | post_lstm_add_norm_encoder         | AddNorm                         | 84     | train\n",
      "15 | static_enrichment                  | GatedResidualNetwork            | 9.1 K  | train\n",
      "16 | multihead_attn                     | InterpretableMultiHeadAttention | 5.4 K  | train\n",
      "17 | post_attn_gate_norm                | GateAddNorm                     | 3.7 K  | train\n",
      "18 | pos_wise_ff                        | GatedResidualNetwork            | 7.3 K  | train\n",
      "19 | pre_output_gate_norm               | GateAddNorm                     | 3.7 K  | train\n",
      "20 | output_layer                       | Linear                          | 43     | train\n",
      "------------------------------------------------------------------------------------------------\n",
      "157 K     Trainable params\n",
      "0         Non-trainable params\n",
      "157 K     Total params\n",
      "0.629     Total estimated model params size (MB)\n",
      "358       Modules in train mode\n",
      "0         Modules in eval mode\n"
     ]
    },
    {
     "data": {
      "application/vnd.jupyter.widget-view+json": {
       "model_id": "5f8a83e9929a429c8acb53f6b918a095",
       "version_major": 2,
       "version_minor": 0
      },
      "text/plain": [
       "Sanity Checking: |          | 0/? [00:00<?, ?it/s]"
      ]
     },
     "metadata": {},
     "output_type": "display_data"
    },
    {
     "data": {
      "application/vnd.jupyter.widget-view+json": {
       "model_id": "6d5535d4c02842dfaa746fddabdae87a",
       "version_major": 2,
       "version_minor": 0
      },
      "text/plain": [
       "Training: |          | 0/? [00:00<?, ?it/s]"
      ]
     },
     "metadata": {},
     "output_type": "display_data"
    },
    {
     "data": {
      "application/vnd.jupyter.widget-view+json": {
       "model_id": "bbe3353cf1ca4da3ae9c495462e2f57d",
       "version_major": 2,
       "version_minor": 0
      },
      "text/plain": [
       "Validation: |          | 0/? [00:00<?, ?it/s]"
      ]
     },
     "metadata": {},
     "output_type": "display_data"
    },
    {
     "data": {
      "application/vnd.jupyter.widget-view+json": {
       "model_id": "fc3264647a224f339f77708adecbbc26",
       "version_major": 2,
       "version_minor": 0
      },
      "text/plain": [
       "Validation: |          | 0/? [00:00<?, ?it/s]"
      ]
     },
     "metadata": {},
     "output_type": "display_data"
    },
    {
     "data": {
      "application/vnd.jupyter.widget-view+json": {
       "model_id": "19386c90630146afb395f5f8c63b3849",
       "version_major": 2,
       "version_minor": 0
      },
      "text/plain": [
       "Validation: |          | 0/? [00:00<?, ?it/s]"
      ]
     },
     "metadata": {},
     "output_type": "display_data"
    },
    {
     "data": {
      "application/vnd.jupyter.widget-view+json": {
       "model_id": "be54020c298e428389cb530ba472dd58",
       "version_major": 2,
       "version_minor": 0
      },
      "text/plain": [
       "Validation: |          | 0/? [00:00<?, ?it/s]"
      ]
     },
     "metadata": {},
     "output_type": "display_data"
    },
    {
     "data": {
      "application/vnd.jupyter.widget-view+json": {
       "model_id": "c6bedbc545a646d2b535b7e5bead8146",
       "version_major": 2,
       "version_minor": 0
      },
      "text/plain": [
       "Validation: |          | 0/? [00:00<?, ?it/s]"
      ]
     },
     "metadata": {},
     "output_type": "display_data"
    },
    {
     "data": {
      "application/vnd.jupyter.widget-view+json": {
       "model_id": "02e5f2499d854c4cade9222a7cbbcadf",
       "version_major": 2,
       "version_minor": 0
      },
      "text/plain": [
       "Validation: |          | 0/? [00:00<?, ?it/s]"
      ]
     },
     "metadata": {},
     "output_type": "display_data"
    },
    {
     "data": {
      "application/vnd.jupyter.widget-view+json": {
       "model_id": "92d076704afe4b10860a88e2eba65c97",
       "version_major": 2,
       "version_minor": 0
      },
      "text/plain": [
       "Validation: |          | 0/? [00:00<?, ?it/s]"
      ]
     },
     "metadata": {},
     "output_type": "display_data"
    },
    {
     "data": {
      "application/vnd.jupyter.widget-view+json": {
       "model_id": "7c11df2e633b4f3e90fbd9411a4c7766",
       "version_major": 2,
       "version_minor": 0
      },
      "text/plain": [
       "Validation: |          | 0/? [00:00<?, ?it/s]"
      ]
     },
     "metadata": {},
     "output_type": "display_data"
    },
    {
     "data": {
      "application/vnd.jupyter.widget-view+json": {
       "model_id": "b35c1d4bc38c405f8c6819acc10c1244",
       "version_major": 2,
       "version_minor": 0
      },
      "text/plain": [
       "Validation: |          | 0/? [00:00<?, ?it/s]"
      ]
     },
     "metadata": {},
     "output_type": "display_data"
    },
    {
     "data": {
      "application/vnd.jupyter.widget-view+json": {
       "model_id": "d5003f93d79849c4ba075c1f6e2b6f3a",
       "version_major": 2,
       "version_minor": 0
      },
      "text/plain": [
       "Validation: |          | 0/? [00:00<?, ?it/s]"
      ]
     },
     "metadata": {},
     "output_type": "display_data"
    },
    {
     "data": {
      "application/vnd.jupyter.widget-view+json": {
       "model_id": "a36d36ce45fb49d7afda8b20469a0dd5",
       "version_major": 2,
       "version_minor": 0
      },
      "text/plain": [
       "Validation: |          | 0/? [00:00<?, ?it/s]"
      ]
     },
     "metadata": {},
     "output_type": "display_data"
    },
    {
     "data": {
      "application/vnd.jupyter.widget-view+json": {
       "model_id": "0d86347fef5f4f8598c7fc20664235b7",
       "version_major": 2,
       "version_minor": 0
      },
      "text/plain": [
       "Validation: |          | 0/? [00:00<?, ?it/s]"
      ]
     },
     "metadata": {},
     "output_type": "display_data"
    },
    {
     "data": {
      "application/vnd.jupyter.widget-view+json": {
       "model_id": "3e978b8dfbaf468c94308581b72e1a46",
       "version_major": 2,
       "version_minor": 0
      },
      "text/plain": [
       "Validation: |          | 0/? [00:00<?, ?it/s]"
      ]
     },
     "metadata": {},
     "output_type": "display_data"
    },
    {
     "data": {
      "application/vnd.jupyter.widget-view+json": {
       "model_id": "78be545fcd63446ea9f761716fde95e9",
       "version_major": 2,
       "version_minor": 0
      },
      "text/plain": [
       "Validation: |          | 0/? [00:00<?, ?it/s]"
      ]
     },
     "metadata": {},
     "output_type": "display_data"
    },
    {
     "data": {
      "application/vnd.jupyter.widget-view+json": {
       "model_id": "1c721cfc9b8e4e8cb09924055bd7835f",
       "version_major": 2,
       "version_minor": 0
      },
      "text/plain": [
       "Validation: |          | 0/? [00:00<?, ?it/s]"
      ]
     },
     "metadata": {},
     "output_type": "display_data"
    },
    {
     "data": {
      "application/vnd.jupyter.widget-view+json": {
       "model_id": "7ff516f393d3434ba4d5c20f79c62422",
       "version_major": 2,
       "version_minor": 0
      },
      "text/plain": [
       "Validation: |          | 0/? [00:00<?, ?it/s]"
      ]
     },
     "metadata": {},
     "output_type": "display_data"
    },
    {
     "data": {
      "application/vnd.jupyter.widget-view+json": {
       "model_id": "04efe183fc55429f9df7b0c4243d28a8",
       "version_major": 2,
       "version_minor": 0
      },
      "text/plain": [
       "Validation: |          | 0/? [00:00<?, ?it/s]"
      ]
     },
     "metadata": {},
     "output_type": "display_data"
    },
    {
     "data": {
      "application/vnd.jupyter.widget-view+json": {
       "model_id": "b792414af90b41d69ab21f53d994725c",
       "version_major": 2,
       "version_minor": 0
      },
      "text/plain": [
       "Validation: |          | 0/? [00:00<?, ?it/s]"
      ]
     },
     "metadata": {},
     "output_type": "display_data"
    },
    {
     "data": {
      "application/vnd.jupyter.widget-view+json": {
       "model_id": "e6f5a3f61c774bd18a9d0f0bce7609ef",
       "version_major": 2,
       "version_minor": 0
      },
      "text/plain": [
       "Validation: |          | 0/? [00:00<?, ?it/s]"
      ]
     },
     "metadata": {},
     "output_type": "display_data"
    },
    {
     "data": {
      "application/vnd.jupyter.widget-view+json": {
       "model_id": "254d06cc1ad24051ae83a89d86aad11b",
       "version_major": 2,
       "version_minor": 0
      },
      "text/plain": [
       "Validation: |          | 0/? [00:00<?, ?it/s]"
      ]
     },
     "metadata": {},
     "output_type": "display_data"
    },
    {
     "data": {
      "application/vnd.jupyter.widget-view+json": {
       "model_id": "40e4175d610f4aacae6928bfa87e07ab",
       "version_major": 2,
       "version_minor": 0
      },
      "text/plain": [
       "Validation: |          | 0/? [00:00<?, ?it/s]"
      ]
     },
     "metadata": {},
     "output_type": "display_data"
    },
    {
     "data": {
      "application/vnd.jupyter.widget-view+json": {
       "model_id": "d944627d4d5d405c95c331ea17d38196",
       "version_major": 2,
       "version_minor": 0
      },
      "text/plain": [
       "Validation: |          | 0/? [00:00<?, ?it/s]"
      ]
     },
     "metadata": {},
     "output_type": "display_data"
    },
    {
     "data": {
      "application/vnd.jupyter.widget-view+json": {
       "model_id": "5fbd1764e4b3474c904ba7df2dbd3586",
       "version_major": 2,
       "version_minor": 0
      },
      "text/plain": [
       "Validation: |          | 0/? [00:00<?, ?it/s]"
      ]
     },
     "metadata": {},
     "output_type": "display_data"
    },
    {
     "data": {
      "application/vnd.jupyter.widget-view+json": {
       "model_id": "79c3c49d51e84546a421a92277b9e745",
       "version_major": 2,
       "version_minor": 0
      },
      "text/plain": [
       "Validation: |          | 0/? [00:00<?, ?it/s]"
      ]
     },
     "metadata": {},
     "output_type": "display_data"
    },
    {
     "data": {
      "application/vnd.jupyter.widget-view+json": {
       "model_id": "8d8a6dba059c448a948232809faced92",
       "version_major": 2,
       "version_minor": 0
      },
      "text/plain": [
       "Validation: |          | 0/? [00:00<?, ?it/s]"
      ]
     },
     "metadata": {},
     "output_type": "display_data"
    },
    {
     "data": {
      "application/vnd.jupyter.widget-view+json": {
       "model_id": "4749386c764e4ace85df46a4d898d030",
       "version_major": 2,
       "version_minor": 0
      },
      "text/plain": [
       "Validation: |          | 0/? [00:00<?, ?it/s]"
      ]
     },
     "metadata": {},
     "output_type": "display_data"
    },
    {
     "data": {
      "application/vnd.jupyter.widget-view+json": {
       "model_id": "e021d5b5b6c34edc9abeda2eb596a1a2",
       "version_major": 2,
       "version_minor": 0
      },
      "text/plain": [
       "Validation: |          | 0/? [00:00<?, ?it/s]"
      ]
     },
     "metadata": {},
     "output_type": "display_data"
    },
    {
     "data": {
      "application/vnd.jupyter.widget-view+json": {
       "model_id": "1cf7dc0814aa403099a0078c3b5a7504",
       "version_major": 2,
       "version_minor": 0
      },
      "text/plain": [
       "Validation: |          | 0/? [00:00<?, ?it/s]"
      ]
     },
     "metadata": {},
     "output_type": "display_data"
    },
    {
     "data": {
      "application/vnd.jupyter.widget-view+json": {
       "model_id": "157b1aa922284ed794ac4f61db55539c",
       "version_major": 2,
       "version_minor": 0
      },
      "text/plain": [
       "Validation: |          | 0/? [00:00<?, ?it/s]"
      ]
     },
     "metadata": {},
     "output_type": "display_data"
    },
    {
     "data": {
      "application/vnd.jupyter.widget-view+json": {
       "model_id": "a8024f550565458d96e84ffa66c91ee4",
       "version_major": 2,
       "version_minor": 0
      },
      "text/plain": [
       "Validation: |          | 0/? [00:00<?, ?it/s]"
      ]
     },
     "metadata": {},
     "output_type": "display_data"
    },
    {
     "data": {
      "application/vnd.jupyter.widget-view+json": {
       "model_id": "7d1271ba7aed40b48754cebbd1a9d112",
       "version_major": 2,
       "version_minor": 0
      },
      "text/plain": [
       "Validation: |          | 0/? [00:00<?, ?it/s]"
      ]
     },
     "metadata": {},
     "output_type": "display_data"
    },
    {
     "data": {
      "application/vnd.jupyter.widget-view+json": {
       "model_id": "c1f2882407ed48adb93764f73f7342ee",
       "version_major": 2,
       "version_minor": 0
      },
      "text/plain": [
       "Validation: |          | 0/? [00:00<?, ?it/s]"
      ]
     },
     "metadata": {},
     "output_type": "display_data"
    },
    {
     "data": {
      "application/vnd.jupyter.widget-view+json": {
       "model_id": "f6eb949a934a49aca743e14bdd976240",
       "version_major": 2,
       "version_minor": 0
      },
      "text/plain": [
       "Validation: |          | 0/? [00:00<?, ?it/s]"
      ]
     },
     "metadata": {},
     "output_type": "display_data"
    },
    {
     "data": {
      "application/vnd.jupyter.widget-view+json": {
       "model_id": "27597d7ba611443380a41ca5802e195e",
       "version_major": 2,
       "version_minor": 0
      },
      "text/plain": [
       "Validation: |          | 0/? [00:00<?, ?it/s]"
      ]
     },
     "metadata": {},
     "output_type": "display_data"
    },
    {
     "data": {
      "application/vnd.jupyter.widget-view+json": {
       "model_id": "5b209b83400e46d8843a42a110e3e6cd",
       "version_major": 2,
       "version_minor": 0
      },
      "text/plain": [
       "Validation: |          | 0/? [00:00<?, ?it/s]"
      ]
     },
     "metadata": {},
     "output_type": "display_data"
    },
    {
     "data": {
      "application/vnd.jupyter.widget-view+json": {
       "model_id": "7fd8217884fe48758c4ab6d619f70152",
       "version_major": 2,
       "version_minor": 0
      },
      "text/plain": [
       "Validation: |          | 0/? [00:00<?, ?it/s]"
      ]
     },
     "metadata": {},
     "output_type": "display_data"
    },
    {
     "data": {
      "application/vnd.jupyter.widget-view+json": {
       "model_id": "a0a9cce674d444d79ff22f8a3461efbe",
       "version_major": 2,
       "version_minor": 0
      },
      "text/plain": [
       "Validation: |          | 0/? [00:00<?, ?it/s]"
      ]
     },
     "metadata": {},
     "output_type": "display_data"
    },
    {
     "data": {
      "application/vnd.jupyter.widget-view+json": {
       "model_id": "01944ddbed1c46749bc5bc15dda8e21f",
       "version_major": 2,
       "version_minor": 0
      },
      "text/plain": [
       "Validation: |          | 0/? [00:00<?, ?it/s]"
      ]
     },
     "metadata": {},
     "output_type": "display_data"
    },
    {
     "data": {
      "application/vnd.jupyter.widget-view+json": {
       "model_id": "50e15f99a92b400e88b391dfbdaa3920",
       "version_major": 2,
       "version_minor": 0
      },
      "text/plain": [
       "Validation: |          | 0/? [00:00<?, ?it/s]"
      ]
     },
     "metadata": {},
     "output_type": "display_data"
    },
    {
     "name": "stderr",
     "output_type": "stream",
     "text": [
      "💡 Tip: For seamless cloud uploads and versioning, try installing [litmodels](https://pypi.org/project/litmodels/) to enable LitModelCheckpoint, which syncs automatically with the Lightning model registry.\n",
      "GPU available: True (cuda), used: True\n",
      "TPU available: False, using: 0 TPU cores\n",
      "HPU available: False, using: 0 HPUs\n",
      "LOCAL_RANK: 0 - CUDA_VISIBLE_DEVICES: [0]\n"
     ]
    },
    {
     "name": "stdout",
     "output_type": "stream",
     "text": [
      "[Forecast] 30-day forecast saved to: D:\\PSU\\241-353\\Mini_Project\\ML\\TFT\\YELLOW\\tft_yellow_outputs\\tft_yellow_30day_forecast.csv\n",
      "[Done] Outputs in: D:\\PSU\\241-353\\Mini_Project\\ML\\TFT\\YELLOW\\tft_yellow_outputs\n"
     ]
    }
   ],
   "source": [
    "# 6) Define model\n",
    "tft = TemporalFusionTransformer.from_dataset(\n",
    "    training,\n",
    "    learning_rate=LR,\n",
    "    hidden_size=42,\n",
    "    attention_head_size=2,\n",
    "    hidden_continuous_size=32,\n",
    "    dropout=0.05,\n",
    "    loss= MAE(),\n",
    "    log_interval=50,\n",
    "    optimizer=\"adam\",\n",
    "    reduce_on_plateau_patience=4,\n",
    ")\n",
    "\n",
    "# 7) Train\n",
    "ckpt_dir = PLOTS_DIR / \"ckpts\"\n",
    "ckpt_dir.mkdir(exist_ok=True, parents=True)\n",
    "\n",
    "callbacks = [\n",
    "    EarlyStopping(monitor=\"val_loss\", min_delta=1e-4, patience=20, mode=\"min\"),\n",
    "    ModelCheckpoint(dirpath=str(ckpt_dir), filename=\"best\", save_top_k=1, monitor=\"val_loss\", mode=\"min\"),\n",
    "    LearningRateMonitor(logging_interval=\"epoch\"),\n",
    "]\n",
    "\n",
    "trainer = pl.Trainer(\n",
    "    accelerator=\"auto\",\n",
    "    devices=1,\n",
    "    max_epochs=EPOCHS,\n",
    "    gradient_clip_val=0.1,\n",
    "    callbacks=callbacks,\n",
    "    log_every_n_steps=10,\n",
    "    default_root_dir=str(PLOTS_DIR),\n",
    "    logger=csv_logger,  \n",
    ")\n",
    "trainer.fit(tft, train_dataloaders=train_loader, val_dataloaders=val_loader)\n",
    "\n",
    "# Load best model\n",
    "best_path = callbacks[1].best_model_path if hasattr(callbacks[1], \"best_model_path\") else None\n",
    "if best_path and os.path.exists(best_path):\n",
    "    tft = TemporalFusionTransformer.load_from_checkpoint(best_path)\n",
    "\n",
    "# 9) Forecast next 30 days (future)\n",
    "pred_future = tft.predict(val_loader)  # future → no y_true\n",
    "if isinstance(pred_future, list):\n",
    "    y_pred_future = torch.cat([p for p in pred_future], dim=0)\n",
    "else:\n",
    "    y_pred_future = pred_future\n",
    "\n",
    "# shape should be [1, 30] for single-series\n",
    "yhat = y_pred_future.detach().cpu().numpy().reshape(-1)\n",
    "\n",
    "last_date = df[DATE_COL].max()\n",
    "future_dates = pd.date_range(last_date + pd.Timedelta(days=1), periods=MAX_PRED_LEN, freq=\"D\")\n",
    "df_forecast = pd.DataFrame({\"date\": future_dates, \"forecast_yellow\": yhat})\n",
    "out_csv = PLOTS_DIR / \"tft_yellow_30day_forecast.csv\"\n",
    "df_forecast.to_csv(out_csv, index=False)\n",
    "print(f\"[Forecast] 30-day forecast saved to: {out_csv.resolve()}\")\n",
    "\n",
    "# quick preview plot\n",
    "plt.figure(figsize=(12,5))\n",
    "plt.plot(df[DATE_COL].tail(120), df[TARGET_COL].tail(120), label=\"History (last 120d)\")\n",
    "plt.plot(df_forecast[\"date\"], df_forecast[\"forecast_yellow\"], label=\"Forecast (30d)\")\n",
    "plt.title(\"MRT yellow: History vs 30-day Forecast\")\n",
    "plt.xlabel(\"Date\")\n",
    "plt.ylabel(\"Ridership (yellow)\")\n",
    "plt.legend()\n",
    "plt.tight_layout()\n",
    "plt.savefig(PLOTS_DIR / \"history_vs_forecast_30d.png\", dpi=150)\n",
    "plt.close()\n",
    "\n",
    "print(\"[Done] Outputs in:\", PLOTS_DIR.resolve())"
   ]
  },
  {
   "cell_type": "code",
   "execution_count": 10,
   "id": "00b50a57",
   "metadata": {},
   "outputs": [],
   "source": [
    "training_cutoff = int(df[\"time_idx\"].max()) - MAX_PRED_LEN\n",
    "start_idx = int(training_cutoff - MAX_ENC_LEN - MAX_PRED_LEN + 1)\n",
    "end_idx   = int(training_cutoff)\n",
    "\n",
    "df_val30 = df[(df[\"time_idx\"] >= start_idx) & (df[\"time_idx\"] <= end_idx)].copy()\n",
    "\n",
    "# 2) ใช้ schema เดิมจาก training → มี y_true แน่นอน\n",
    "val30_ds = TimeSeriesDataSet.from_dataset(training, df_val30, predict=False, stop_randomization=True)\n",
    "val30_loader = val30_ds.to_dataloader(train=False, batch_size=128, num_workers=0)"
   ]
  },
  {
   "cell_type": "code",
   "execution_count": 11,
   "id": "9ca0c2cc",
   "metadata": {},
   "outputs": [
    {
     "name": "stderr",
     "output_type": "stream",
     "text": [
      "💡 Tip: For seamless cloud uploads and versioning, try installing [litmodels](https://pypi.org/project/litmodels/) to enable LitModelCheckpoint, which syncs automatically with the Lightning model registry.\n",
      "GPU available: True (cuda), used: True\n",
      "TPU available: False, using: 0 TPU cores\n",
      "HPU available: False, using: 0 HPUs\n",
      "LOCAL_RANK: 0 - CUDA_VISIBLE_DEVICES: [0]\n"
     ]
    },
    {
     "name": "stdout",
     "output_type": "stream",
     "text": [
      "✅ Saved metrics: D:\\PSU\\241-353\\Mini_Project\\ML\\TFT\\YELLOW\\tft_yellow_outputs\\val30_metrics.csv\n",
      "✅ Saved CSV: D:\\PSU\\241-353\\Mini_Project\\ML\\TFT\\YELLOW\\tft_yellow_outputs\\val30_actual_vs_pred.csv\n"
     ]
    },
    {
     "data": {
      "image/png": "[encoded data removed]",
      "text/plain": [
       "<Figure size 1200x500 with 1 Axes>"
      ]
     },
     "metadata": {},
     "output_type": "display_data"
    },
    {
     "name": "stdout",
     "output_type": "stream",
     "text": [
      "✅ Saved PNG: D:\\PSU\\241-353\\Mini_Project\\ML\\TFT\\YELLOW\\tft_yellow_outputs\\backtest_last_true_vs_pred.png\n"
     ]
    }
   ],
   "source": [
    "from pathlib import Path\n",
    "\n",
    "PLOTS_DIR = Path(\"tft_yellow_outputs\"); PLOTS_DIR.mkdir(exist_ok=True, parents=True)\n",
    "\n",
    "# 1) y_pred from model (val30_loader must come from predict=False window)\n",
    "preds = tft.predict(val30_loader)\n",
    "y_pred = preds if torch.is_tensor(preds) else torch.cat(preds, dim=0)\n",
    "\n",
    "# If quantiles [B, T, Q] → pick median q=0.5\n",
    "if y_pred.ndim == 3:\n",
    "    try:\n",
    "        qs = list(getattr(tft.loss, \"quantiles\", [0.1, 0.5, 0.9]))\n",
    "        q_idx = qs.index(0.5) if 0.5 in qs else 1\n",
    "    except Exception:\n",
    "        q_idx = 1\n",
    "    y_pred = y_pred[..., q_idx]\n",
    "\n",
    "# 2) y_true: handle (x,y) tuples, dicts, or nested tuples/lists\n",
    "def extract_target_from_batch(batch):\n",
    "    # case A: tuple/list like (x, y) or (x, y, index)\n",
    "    if isinstance(batch, (tuple, list)) and len(batch) >= 2:\n",
    "        x, y = batch[0], batch[1]\n",
    "        # y is already a tensor\n",
    "        if isinstance(y, torch.Tensor):\n",
    "            return y\n",
    "        # y is tuple/list -> find first tensor inside\n",
    "        if isinstance(y, (tuple, list)):\n",
    "            for item in y:\n",
    "                if isinstance(item, torch.Tensor):\n",
    "                    return item\n",
    "        # y is dict with known keys\n",
    "        if isinstance(y, dict):\n",
    "            for k in (\"decoder_target\", \"target\", \"y\"):\n",
    "                if k in y and isinstance(y[k], torch.Tensor):\n",
    "                    return y[k]\n",
    "        # fallback: try x dict\n",
    "        if isinstance(x, dict):\n",
    "            if \"decoder_target\" in x and isinstance(x[\"decoder_target\"], torch.Tensor):\n",
    "                return x[\"decoder_target\"]\n",
    "    # case B: dict batch\n",
    "    if isinstance(batch, dict):\n",
    "        for k in (\"decoder_target\", \"target\", \"y\"):\n",
    "            if k in batch and isinstance(batch[k], torch.Tensor):\n",
    "                return batch[k]\n",
    "    raise TypeError(f\"Cannot extract target from batch of type {type(batch)}\")\n",
    "\n",
    "ys = []\n",
    "for b in val30_loader:\n",
    "    y_t = extract_target_from_batch(b)\n",
    "    ys.append(y_t)\n",
    "\n",
    "# now cat tensors\n",
    "y_true = torch.cat(ys, dim=0)\n",
    "\n",
    "# 3) metrics + plot\n",
    "y_p = y_pred.detach().cpu().numpy().reshape(-1)\n",
    "y_t = y_true.detach().cpu().numpy().reshape(-1)\n",
    "\n",
    "mae  = mean_absolute_error(y_t, y_p)\n",
    "rmse = root_mean_squared_error(y_t, y_p)\n",
    "mape = mean_absolute_percentage_error(y_t, y_p) * 100.0\n",
    "smape = (np.mean(np.abs(y_p - y_t) / ((np.abs(y_t)+np.abs(y_p))/2.0 + 1e-9))) * 100.0\n",
    "metrics_df = pd.DataFrame([{\n",
    "    \"MAE\": float(mae),\n",
    "    \"RMSE\": float(rmse),\n",
    "    \"MAPE_pct\": float(mape),\n",
    "    \"sMAPE_pct\": float(smape),\n",
    "    \"n_points\": int(len(y_t)),\n",
    "}])\n",
    "\n",
    "metrics_path = PLOTS_DIR / \"val30_metrics.csv\"\n",
    "metrics_df.to_csv(metrics_path, index=False)\n",
    "print(f\"✅ Saved metrics: {metrics_path.resolve()}\")\n",
    "\n",
    "idx_to_date = dict(zip(df[\"time_idx\"].astype(int).tolist(),\n",
    "                       pd.to_datetime(df[DATE_COL]).tolist()))\n",
    "\n",
    "# 1) ดึง y_true และ (ถ้ามี) decoder_time_idx ให้ครบในลูปเดียวกัน\n",
    "ys, t_idx_batches = [], []\n",
    "for b in val30_loader:  # val30_loader ต้องมาจาก TimeSeriesDataSet(..., predict=False)\n",
    "    # --- ดึง y_true ตามโครงสร้าง batch ---\n",
    "    if isinstance(b, (tuple, list)) and len(b) >= 2:\n",
    "        x, y = b[0], b[1]\n",
    "        # y เป็น tensor ตรง ๆ\n",
    "        if isinstance(y, torch.Tensor):\n",
    "            ys.append(y)\n",
    "        # y เป็น tuple/list → หาตัว tensor ตัวแรก\n",
    "        elif isinstance(y, (tuple, list)):\n",
    "            found = None\n",
    "            for item in y:\n",
    "                if isinstance(item, torch.Tensor):\n",
    "                    found = item; break\n",
    "            if found is None:\n",
    "                raise TypeError(\"Cannot find tensor target inside (tuple/list) y\")\n",
    "            ys.append(found)\n",
    "        # y เป็น dict\n",
    "        elif isinstance(y, dict):\n",
    "            for k in (\"decoder_target\", \"target\", \"y\"):\n",
    "                if k in y and isinstance(y[k], torch.Tensor):\n",
    "                    ys.append(y[k]); break\n",
    "            else:\n",
    "                raise TypeError(\"Cannot find tensor target inside dict y\")\n",
    "        else:\n",
    "            raise TypeError(f\"Unexpected y type: {type(y)}\")\n",
    "        # --- เก็บ decoder_time_idx ถ้ามีอยู่ใน x ---\n",
    "        if isinstance(x, dict) and \"decoder_time_idx\" in x and isinstance(x[\"decoder_time_idx\"], torch.Tensor):\n",
    "            t_idx_batches.append(x[\"decoder_time_idx\"])\n",
    "    elif isinstance(b, dict):\n",
    "        # บางเวอร์ชัน batch เป็น dict เลย\n",
    "        for k in (\"decoder_target\", \"target\", \"y\"):\n",
    "            if k in b and isinstance(b[k], torch.Tensor):\n",
    "                ys.append(b[k]); break\n",
    "        # decoder_time_idx\n",
    "        if \"decoder_time_idx\" in b and isinstance(b[\"decoder_time_idx\"], torch.Tensor):\n",
    "            t_idx_batches.append(b[\"decoder_time_idx\"])\n",
    "    else:\n",
    "        raise TypeError(f\"Unexpected batch type: {type(b)}\")\n",
    "\n",
    "y_true = torch.cat(ys, dim=0)                       # [B, T]\n",
    "y_t = y_true.detach().cpu().numpy().reshape(-1)     # flatten\n",
    "\n",
    "# 2) สร้างลิสต์วันที่ตามลำดับเดียวกับ y_t / y_p\n",
    "if len(t_idx_batches) > 0:\n",
    "    dec_time_idx = torch.cat(t_idx_batches, dim=0)          # [B, T]\n",
    "    time_idx_flat = dec_time_idx.detach().cpu().numpy().reshape(-1).tolist()\n",
    "    dates = [idx_to_date[int(i)] for i in time_idx_flat]     # ยาวเท่า y_t\n",
    "else:\n",
    "    # Fallback: คำนวณจาก cutoff (ในกรณี x ไม่มี decoder_time_idx)\n",
    "    MAX_PRED_LEN = getattr(training, \"max_prediction_length\", len(y_t))\n",
    "    training_cutoff = int(df[\"time_idx\"].max()) - MAX_PRED_LEN\n",
    "    dec_start_idx = training_cutoff - MAX_PRED_LEN + 1\n",
    "    # ยาวเท่าจำนวนจุดที่เรามีจริง\n",
    "    dates = [idx_to_date[i] for i in range(dec_start_idx, dec_start_idx + len(y_t))]\n",
    "\n",
    "# 3) ทำให้ y_pred ยาวเท่ากัน (ป้องกัน mismatch เผื่อ flatten แล้วต่างกัน)\n",
    "n = min(len(y_t), len(y_p), len(dates))\n",
    "dates = pd.to_datetime(dates[:n])\n",
    "y_t = y_t[:n]\n",
    "y_p = y_p[:n]\n",
    "\n",
    "# 4) บันทึก CSV: date, actual, forecast\n",
    "outdir = PLOTS_DIR\n",
    "df_eval = pd.DataFrame({\"date\": dates, \"actual\": y_t, \"forecast\": y_p})\n",
    "csv_path = outdir / \"val30_actual_vs_pred.csv\"\n",
    "df_eval.to_csv(csv_path, index=False)\n",
    "print(f\"✅ Saved CSV: {csv_path.resolve()}\")\n",
    "\n",
    "# 5) วาดกราฟโดยใช้วันที่บนแกน X\n",
    "plt.figure(figsize=(12,5))\n",
    "plt.plot(df_eval[\"date\"], df_eval[\"actual\"], label=\"Actual\")\n",
    "plt.plot(df_eval[\"date\"], df_eval[\"forecast\"], label=\"Forecast\")\n",
    "plt.title(\"Backtest (last 30): Actual vs Forecast\")\n",
    "plt.xlabel(\"Date\"); plt.ylabel(\"Ridership (yellow)\")\n",
    "plt.legend(); plt.tight_layout(); plt.show()\n",
    "\n",
    "# และเซฟรูปด้วย\n",
    "png_path = outdir / \"backtest_last_true_vs_pred.png\"\n",
    "plt.figure(figsize=(12,5))\n",
    "plt.plot(df_eval[\"date\"], df_eval[\"actual\"], label=\"Actual\")\n",
    "plt.plot(df_eval[\"date\"], df_eval[\"forecast\"], label=\"Forecast\")\n",
    "plt.title(\"Backtest (last 30): Actual vs Forecast\")\n",
    "plt.xlabel(\"Date\"); plt.ylabel(\"Ridership (yellow)\")\n",
    "plt.legend(); plt.tight_layout(); plt.savefig(png_path, dpi=150); plt.close()\n",
    "print(f\"✅ Saved PNG: {png_path.resolve()}\")"
   ]
  },
  {
   "cell_type": "code",
   "execution_count": null,
   "id": "e7a086da",
   "metadata": {},
   "outputs": [],
   "source": []
  }
 ],
 "metadata": {
  "kernelspec": {
   "display_name": "Mini_Project (3.12.4)",
   "language": "python",
   "name": "python3"
  },
  "language_info": {
   "codemirror_mode": {
    "name": "ipython",
    "version": 3
   },
   "file_extension": ".py",
   "mimetype": "text/x-python",
   "name": "python",
   "nbconvert_exporter": "python",
   "pygments_lexer": "ipython3",
   "version": "3.12.4"
  }
 },
 "nbformat": 4,
 "nbformat_minor": 5
}

{
 "cells": [
  {
   "cell_type": "code",
   "execution_count": 41,
   "id": "af0acfa4",
   "metadata": {},
   "outputs": [],
   "source": [
    "import os\n",
    "import warnings\n",
    "from pathlib import Path\n",
    "from dataclasses import dataclass\n",
    "\n",
    "import numpy as np\n",
    "import pandas as pd\n",
    "import matplotlib.pyplot as plt\n",
    "\n",
    "import torch\n",
    "import lightning.pytorch as pl\n",
    "from lightning.pytorch.callbacks import EarlyStopping, ModelCheckpoint, LearningRateMonitor\n",
    "\n",
    "from sklearn.metrics import mean_absolute_error, mean_absolute_percentage_error , root_mean_squared_error\n",
    "\n",
    "from pytorch_forecasting import TimeSeriesDataSet, TemporalFusionTransformer\n",
    "from pytorch_forecasting.data import GroupNormalizer, NaNLabelEncoder\n",
    "from pytorch_forecasting.metrics import QuantileLoss, MAE\n",
    "\n",
    "from lightning.pytorch.loggers import CSVLogger, TensorBoardLogger"
   ]
  },
  {
   "cell_type": "code",
   "execution_count": null,
   "id": "58f5536d",
   "metadata": {},
   "outputs": [],
   "source": [
    "DATA_CSV = Path(\"D:\\PSU/241-353/Mini_Project/data/augmented_data.csv\")  # ensure this CSV is in the same folder when running\n",
    "DATE_COL = \"วันที่\"\n",
    "TARGET_COL = \"รถไฟฟ้า ARL\"\n",
    "\n",
    "# Exogenous covariates (adjust names if different in your CSV)\n",
    "DAY_TYPE_COL = \"day_type\"         # categorical\n",
    "RAIN_COL     = \"rain_average\"     # real\n",
    "ARL_COL      = \"รถไฟฟ้าสายสีม่วง\"      # real\n",
    "PURPLE_COL   = \"รถไฟฟ้าสายสีน้ำเงิน\" # real\n",
    "BTS_COL      = \"รถไฟฟ้า BTS\"      # real\n",
    "\n",
    "# Model / dataset params\n",
    "GROUP_ID = \"series_id\"\n",
    "MAX_PRED_LEN = 30\n",
    "MAX_ENC_LEN  = 120\n",
    "BATCH_SIZE_TRAIN = 64\n",
    "BATCH_SIZE_EVAL  = 128\n",
    "EPOCHS = 200\n",
    "LR = 3e-4\n",
    "RANDOM_SEED = 2025"
   ]
  },
  {
   "cell_type": "code",
   "execution_count": 68,
   "id": "0ae8c52e",
   "metadata": {},
   "outputs": [],
   "source": [
    "PLOTS_DIR = Path(\"tft_arl_outputs\")\n",
    "PLOTS_DIR.mkdir(exist_ok=True, parents=True)\n",
    "csv_logger = CSVLogger(save_dir=str(PLOTS_DIR), name=\"logs\")"
   ]
  },
  {
   "cell_type": "code",
   "execution_count": 69,
   "id": "41ac4578",
   "metadata": {},
   "outputs": [],
   "source": [
    "def _safe_interp_fill(s: pd.Series) -> pd.Series:\n",
    "    \"\"\"Interpolate then back/forward fill for numeric series.\"\"\"\n",
    "    try:\n",
    "        s = pd.to_numeric(s, errors=\"coerce\")\n",
    "    except Exception:\n",
    "        pass\n",
    "    s = s.interpolate(limit_direction=\"both\")\n",
    "    s = s.bfill().ffill()\n",
    "    return s"
   ]
  },
  {
   "cell_type": "code",
   "execution_count": 70,
   "id": "be099abb",
   "metadata": {},
   "outputs": [
    {
     "name": "stderr",
     "output_type": "stream",
     "text": [
      "Seed set to 2025\n"
     ]
    }
   ],
   "source": [
    "\n",
    "pl.seed_everything(RANDOM_SEED, workers=True)\n",
    "warnings.filterwarnings(\"ignore\")\n",
    "\n",
    "# 1) Load data\n",
    "if not DATA_CSV.exists():\n",
    "    raise FileNotFoundError(f\"CSV not found: {DATA_CSV.resolve()}\")\n",
    "df = pd.read_csv(DATA_CSV)\n",
    "\n",
    "# Basic checks\n",
    "for c in [DATE_COL, TARGET_COL]:\n",
    "    if c not in df.columns:\n",
    "        raise ValueError(f\"Column '{c}' not found in CSV. Please edit config at top of the file.\")\n",
    "\n",
    "# 2) Feature engineering\n",
    "df[DATE_COL] = pd.to_datetime(df[DATE_COL])\n",
    "df = df.sort_values(DATE_COL).reset_index(drop=True)\n",
    "df[GROUP_ID] = \"blue\"\n",
    "df[\"time_idx\"] = (df[DATE_COL] - df[DATE_COL].min()).dt.days.astype(int)\n",
    "\n",
    "# Optional: build is_weekend from date (Saturday=5, Sunday=6)\n",
    "# df[\"is_weekend\"] = df[DATE_COL].dt.weekday.isin([5, 6]).astype(int)\n",
    "df[\"dow\"] = df[DATE_COL].dt.weekday.astype(\"category\")\n",
    "# Cast categorical for day_type if present\n",
    "if DAY_TYPE_COL in df.columns:\n",
    "    df[DAY_TYPE_COL] = df[DAY_TYPE_COL].astype(str).astype(\"category\")\n",
    "\n",
    "if \"dow\" in df.columns:\n",
    "    df[\"dow\"] = df[\"dow\"].astype(str).astype(\"category\")\n",
    "\n",
    "# Fill numeric covariates\n",
    "for col in [RAIN_COL, ARL_COL, PURPLE_COL, BTS_COL, TARGET_COL]:\n",
    "    if col in df.columns:\n",
    "        df[col] = _safe_interp_fill(df[col])\n",
    "\n",
    "# 3) Define feature lists (no leakage: do NOT include target in features)\n",
    "time_varying_known_categoricals = [c for c in [DAY_TYPE_COL, \"dow\"] if c in df.columns]\n",
    "time_varying_known_reals = [\"time_idx\"]\n",
    "\n",
    "categorical_encoders = {}\n",
    "if DAY_TYPE_COL in df.columns:\n",
    "    categorical_encoders[DAY_TYPE_COL] = NaNLabelEncoder(add_nan=True)  # เผื่อมีค่าว่าง/ไม่รู้ล่วงหน้า\n",
    "if \"dow\" in df.columns:\n",
    "    categorical_encoders[\"dow\"] = NaNLabelEncoder(add_nan=False)     \n",
    "\n",
    "time_varying_unknown_reals = []\n",
    "for col in [ARL_COL, BTS_COL, PURPLE_COL, RAIN_COL]:\n",
    "    if col in df.columns:\n",
    "        time_varying_unknown_reals.append(col)\n",
    "\n",
    "# 4) Split by time for training/validation\n",
    "max_time_idx = int(df[\"time_idx\"].max())\n",
    "training_cutoff = max_time_idx - MAX_PRED_LEN"
   ]
  },
  {
   "cell_type": "code",
   "execution_count": 71,
   "id": "fe4d5808",
   "metadata": {},
   "outputs": [
    {
     "data": {
      "text/plain": [
       "2072"
      ]
     },
     "execution_count": 71,
     "metadata": {},
     "output_type": "execute_result"
    }
   ],
   "source": [
    "max_time_idx"
   ]
  },
  {
   "cell_type": "code",
   "execution_count": 72,
   "id": "41e22511",
   "metadata": {},
   "outputs": [
    {
     "data": {
      "text/plain": [
       "2042"
      ]
     },
     "execution_count": 72,
     "metadata": {},
     "output_type": "execute_result"
    }
   ],
   "source": [
    "training_cutoff"
   ]
  },
  {
   "cell_type": "code",
   "execution_count": 73,
   "id": "5a21d94b",
   "metadata": {},
   "outputs": [],
   "source": [
    "# Training dataset\n",
    "training = TimeSeriesDataSet(\n",
    "    df[df.time_idx <= training_cutoff],\n",
    "    time_idx=\"time_idx\",\n",
    "    target=TARGET_COL,\n",
    "    group_ids=[GROUP_ID],\n",
    "    max_encoder_length=MAX_ENC_LEN,\n",
    "    max_prediction_length=MAX_PRED_LEN,\n",
    "    target_normalizer=GroupNormalizer(groups=[GROUP_ID], transformation=None),  # keep target in original scale\n",
    "    static_categoricals=[GROUP_ID],\n",
    "    time_varying_known_categoricals=time_varying_known_categoricals,\n",
    "    time_varying_known_reals=time_varying_known_reals,\n",
    "    time_varying_unknown_reals=time_varying_unknown_reals + [TARGET_COL],  # include target as unknown-real (historical known to encoder, masked in decoder)\n",
    "    add_relative_time_idx=True,\n",
    "    add_encoder_length=True,\n",
    "    add_target_scales=True,\n",
    "    categorical_encoders=categorical_encoders\n",
    ")\n",
    "\n",
    "\n",
    "# Validation FUTURE (predict next 30 days) -> no y_true\n",
    "val_future = TimeSeriesDataSet.from_dataset(training, df, predict=True, stop_randomization=True)\n",
    "\n"
   ]
  },
  {
   "cell_type": "code",
   "execution_count": 74,
   "id": "ebcd5a0d",
   "metadata": {},
   "outputs": [],
   "source": [
    "# Validation HISTORICAL window that still has y_true (backtest)\n",
    "start_idx = int(training_cutoff - MAX_ENC_LEN - MAX_PRED_LEN + 1)\n",
    "end_idx   = int(training_cutoff)\n",
    "mask = (df[\"time_idx\"] >= start_idx) & (df[\"time_idx\"] <= end_idx)\n",
    "df_val_hist = df.loc[mask].copy()\n",
    "needed = MAX_ENC_LEN + MAX_PRED_LEN\n",
    "if len(df_val_hist) < needed:\n",
    "    # fallback: shrink encoder length to fit\n",
    "    shrink = needed - len(df_val_hist) + 1\n",
    "    enc_len = max(30, MAX_ENC_LEN - shrink)  # don't go below 30\n",
    "    print(f\"[WARN] val_hist window too short ({len(df_val_hist)} rows). Shrinking encoder length to {enc_len}.\")\n",
    "    enc_len_use = enc_len\n",
    "else:\n",
    "    enc_len_use = MAX_ENC_LEN\n"
   ]
  },
  {
   "cell_type": "code",
   "execution_count": 75,
   "id": "753f5662",
   "metadata": {},
   "outputs": [],
   "source": [
    "# 5) Dataloaders\n",
    "train_loader = training.to_dataloader(train=True,  batch_size=BATCH_SIZE_TRAIN, num_workers=0)\n",
    "val_loader   = val_future.to_dataloader(train=False, batch_size=BATCH_SIZE_EVAL, num_workers=0)\n"
   ]
  },
  {
   "cell_type": "code",
   "execution_count": 76,
   "id": "ef2df21d",
   "metadata": {},
   "outputs": [
    {
     "name": "stdout",
     "output_type": "stream",
     "text": [
      "📊 Training: 0 ถึง 2042\n",
      "📊 Validation/Test: 2043 ถึง 2072\n",
      "📊 ใช้ช่วงเดียวกันสำหรับทั้ง validation และ test\n"
     ]
    }
   ],
   "source": [
    "# แก้ไขโค้ดให้ validation และ test เป็นช่วงเดียวกัน\n",
    "val_start_idx = training_cutoff + 1      # 2043 \n",
    "val_end_idx = training_cutoff + MAX_PRED_LEN  # 2072\n",
    "\n",
    "print(f\"📊 Training: 0 ถึง {training_cutoff}\")\n",
    "print(f\"📊 Validation/Test: {val_start_idx} ถึง {val_end_idx}\")\n",
    "print(f\"📊 ใช้ช่วงเดียวกันสำหรับทั้ง validation และ test\")\n",
    "\n",
    "# สร้าง validation dataset จากช่วง test\n",
    "val_data = df[\n",
    "    (df.time_idx >= val_start_idx - MAX_ENC_LEN) & \n",
    "    (df.time_idx <= val_end_idx)\n",
    "].copy()\n",
    "\n",
    "val_dataset = TimeSeriesDataSet.from_dataset(\n",
    "    training, \n",
    "    val_data, \n",
    "    predict=False,  # มี y_true สำหรับคำนวณ val_loss\n",
    "    stop_randomization=True\n",
    ")\n",
    "\n",
    "val_loader_proper = val_dataset.to_dataloader(\n",
    "    train=False, \n",
    "    batch_size=BATCH_SIZE_EVAL, \n",
    "    num_workers=0\n",
    ")\n"
   ]
  },
  {
   "cell_type": "code",
   "execution_count": 93,
   "id": "5b3707bb",
   "metadata": {},
   "outputs": [
    {
     "name": "stderr",
     "output_type": "stream",
     "text": [
      "GPU available: True (cuda), used: True\n",
      "TPU available: False, using: 0 TPU cores\n",
      "HPU available: False, using: 0 HPUs\n",
      "LOCAL_RANK: 0 - CUDA_VISIBLE_DEVICES: [0]\n",
      "TPU available: False, using: 0 TPU cores\n",
      "HPU available: False, using: 0 HPUs\n",
      "LOCAL_RANK: 0 - CUDA_VISIBLE_DEVICES: [0]\n",
      "\n",
      "   | Name                               | Type                            | Params | Mode \n",
      "------------------------------------------------------------------------------------------------\n",
      "0  | loss                               | MAE                             | 0      | train\n",
      "1  | logging_metrics                    | ModuleList                      | 0      | train\n",
      "2  | input_embeddings                   | MultiEmbedding                  | 48     | train\n",
      "3  | prescalers                         | ModuleDict                      | 640    | train\n",
      "4  | static_variable_selection          | VariableSelectionNetwork        | 34.6 K | train\n",
      "5  | encoder_variable_selection         | VariableSelectionNetwork        | 83.2 K | train\n",
      "6  | decoder_variable_selection         | VariableSelectionNetwork        | 24.2 K | train\n",
      "7  | static_context_variable_selection  | GatedResidualNetwork            | 66.3 K | train\n",
      "8  | static_context_initial_hidden_lstm | GatedResidualNetwork            | 66.3 K | train\n",
      "9  | static_context_initial_cell_lstm   | GatedResidualNetwork            | 66.3 K | train\n",
      "10 | static_context_enrichment          | GatedResidualNetwork            | 66.3 K | train\n",
      "11 | lstm_encoder                       | LSTM                            | 132 K  | train\n",
      "12 | lstm_decoder                       | LSTM                            | 132 K  | train\n",
      "13 | post_lstm_gate_encoder             | GatedLinearUnit                 | 33.0 K | train\n",
      "14 | post_lstm_add_norm_encoder         | AddNorm                         | 256    | train\n",
      "15 | static_enrichment                  | GatedResidualNetwork            | 82.7 K | train\n",
      "16 | multihead_attn                     | InterpretableMultiHeadAttention | 41.2 K | train\n",
      "17 | post_attn_gate_norm                | GateAddNorm                     | 33.3 K | train\n",
      "18 | pos_wise_ff                        | GatedResidualNetwork            | 66.3 K | train\n",
      "19 | pre_output_gate_norm               | GateAddNorm                     | 33.3 K | train\n",
      "20 | output_layer                       | Linear                          | 129    | train\n",
      "------------------------------------------------------------------------------------------------\n",
      "961 K     Trainable params\n",
      "0         Non-trainable params\n",
      "961 K     Total params\n",
      "3.846     Total estimated model params size (MB)\n",
      "362       Modules in train mode\n",
      "0         Modules in eval mode\n",
      "\n",
      "   | Name                               | Type                            | Params | Mode \n",
      "------------------------------------------------------------------------------------------------\n",
      "0  | loss                               | MAE                             | 0      | train\n",
      "1  | logging_metrics                    | ModuleList                      | 0      | train\n",
      "2  | input_embeddings                   | MultiEmbedding                  | 48     | train\n",
      "3  | prescalers                         | ModuleDict                      | 640    | train\n",
      "4  | static_variable_selection          | VariableSelectionNetwork        | 34.6 K | train\n",
      "5  | encoder_variable_selection         | VariableSelectionNetwork        | 83.2 K | train\n",
      "6  | decoder_variable_selection         | VariableSelectionNetwork        | 24.2 K | train\n",
      "7  | static_context_variable_selection  | GatedResidualNetwork            | 66.3 K | train\n",
      "8  | static_context_initial_hidden_lstm | GatedResidualNetwork            | 66.3 K | train\n",
      "9  | static_context_initial_cell_lstm   | GatedResidualNetwork            | 66.3 K | train\n",
      "10 | static_context_enrichment          | GatedResidualNetwork            | 66.3 K | train\n",
      "11 | lstm_encoder                       | LSTM                            | 132 K  | train\n",
      "12 | lstm_decoder                       | LSTM                            | 132 K  | train\n",
      "13 | post_lstm_gate_encoder             | GatedLinearUnit                 | 33.0 K | train\n",
      "14 | post_lstm_add_norm_encoder         | AddNorm                         | 256    | train\n",
      "15 | static_enrichment                  | GatedResidualNetwork            | 82.7 K | train\n",
      "16 | multihead_attn                     | InterpretableMultiHeadAttention | 41.2 K | train\n",
      "17 | post_attn_gate_norm                | GateAddNorm                     | 33.3 K | train\n",
      "18 | pos_wise_ff                        | GatedResidualNetwork            | 66.3 K | train\n",
      "19 | pre_output_gate_norm               | GateAddNorm                     | 33.3 K | train\n",
      "20 | output_layer                       | Linear                          | 129    | train\n",
      "------------------------------------------------------------------------------------------------\n",
      "961 K     Trainable params\n",
      "0         Non-trainable params\n",
      "961 K     Total params\n",
      "3.846     Total estimated model params size (MB)\n",
      "362       Modules in train mode\n",
      "0         Modules in eval mode\n"
     ]
    },
    {
     "data": {
      "application/vnd.jupyter.widget-view+json": {
       "model_id": "43c6c106991d40299815d96ce8e308d1",
       "version_major": 2,
       "version_minor": 0
      },
      "text/plain": [
       "Sanity Checking: |          | 0/? [00:00<?, ?it/s]"
      ]
     },
     "metadata": {},
     "output_type": "display_data"
    },
    {
     "data": {
      "application/vnd.jupyter.widget-view+json": {
       "model_id": "11b97a5069d24fcab333713327115fe3",
       "version_major": 2,
       "version_minor": 0
      },
      "text/plain": [
       "Training: |          | 0/? [00:00<?, ?it/s]"
      ]
     },
     "metadata": {},
     "output_type": "display_data"
    },
    {
     "data": {
      "application/vnd.jupyter.widget-view+json": {
       "model_id": "81250edcea964a138be8177db23f12da",
       "version_major": 2,
       "version_minor": 0
      },
      "text/plain": [
       "Validation: |          | 0/? [00:00<?, ?it/s]"
      ]
     },
     "metadata": {},
     "output_type": "display_data"
    },
    {
     "data": {
      "application/vnd.jupyter.widget-view+json": {
       "model_id": "9e05618b9e464b0ab0c04bff719fc434",
       "version_major": 2,
       "version_minor": 0
      },
      "text/plain": [
       "Validation: |          | 0/? [00:00<?, ?it/s]"
      ]
     },
     "metadata": {},
     "output_type": "display_data"
    },
    {
     "data": {
      "application/vnd.jupyter.widget-view+json": {
       "model_id": "1af10eb2475348ffa2dc0a8b463d9833",
       "version_major": 2,
       "version_minor": 0
      },
      "text/plain": [
       "Validation: |          | 0/? [00:00<?, ?it/s]"
      ]
     },
     "metadata": {},
     "output_type": "display_data"
    },
    {
     "data": {
      "application/vnd.jupyter.widget-view+json": {
       "model_id": "810d354615dd43d58b1c2aaa05eda50d",
       "version_major": 2,
       "version_minor": 0
      },
      "text/plain": [
       "Validation: |          | 0/? [00:00<?, ?it/s]"
      ]
     },
     "metadata": {},
     "output_type": "display_data"
    },
    {
     "data": {
      "application/vnd.jupyter.widget-view+json": {
       "model_id": "a46cb0b176e44ebe93af2fcadd57c196",
       "version_major": 2,
       "version_minor": 0
      },
      "text/plain": [
       "Validation: |          | 0/? [00:00<?, ?it/s]"
      ]
     },
     "metadata": {},
     "output_type": "display_data"
    },
    {
     "data": {
      "application/vnd.jupyter.widget-view+json": {
       "model_id": "1761854c8d444ac39c56bb2448a99b4e",
       "version_major": 2,
       "version_minor": 0
      },
      "text/plain": [
       "Validation: |          | 0/? [00:00<?, ?it/s]"
      ]
     },
     "metadata": {},
     "output_type": "display_data"
    },
    {
     "data": {
      "application/vnd.jupyter.widget-view+json": {
       "model_id": "399115cd810a47b0a509209ef23c13f2",
       "version_major": 2,
       "version_minor": 0
      },
      "text/plain": [
       "Validation: |          | 0/? [00:00<?, ?it/s]"
      ]
     },
     "metadata": {},
     "output_type": "display_data"
    },
    {
     "data": {
      "application/vnd.jupyter.widget-view+json": {
       "model_id": "fe6f655b70624307a6f7fc0a06e04fc6",
       "version_major": 2,
       "version_minor": 0
      },
      "text/plain": [
       "Validation: |          | 0/? [00:00<?, ?it/s]"
      ]
     },
     "metadata": {},
     "output_type": "display_data"
    },
    {
     "data": {
      "application/vnd.jupyter.widget-view+json": {
       "model_id": "39840c664bae4b008c749b41c7be8f92",
       "version_major": 2,
       "version_minor": 0
      },
      "text/plain": [
       "Validation: |          | 0/? [00:00<?, ?it/s]"
      ]
     },
     "metadata": {},
     "output_type": "display_data"
    },
    {
     "data": {
      "application/vnd.jupyter.widget-view+json": {
       "model_id": "8d41927825274e7aa47ab171f38e656e",
       "version_major": 2,
       "version_minor": 0
      },
      "text/plain": [
       "Validation: |          | 0/? [00:00<?, ?it/s]"
      ]
     },
     "metadata": {},
     "output_type": "display_data"
    },
    {
     "data": {
      "application/vnd.jupyter.widget-view+json": {
       "model_id": "12ac17ae2d58424cae18018b50fb905b",
       "version_major": 2,
       "version_minor": 0
      },
      "text/plain": [
       "Validation: |          | 0/? [00:00<?, ?it/s]"
      ]
     },
     "metadata": {},
     "output_type": "display_data"
    },
    {
     "data": {
      "application/vnd.jupyter.widget-view+json": {
       "model_id": "05eeaaa259b44a708f4dc75d844f818c",
       "version_major": 2,
       "version_minor": 0
      },
      "text/plain": [
       "Validation: |          | 0/? [00:00<?, ?it/s]"
      ]
     },
     "metadata": {},
     "output_type": "display_data"
    },
    {
     "data": {
      "application/vnd.jupyter.widget-view+json": {
       "model_id": "3d544b8a2eec4cfcbf350de7ad0e90db",
       "version_major": 2,
       "version_minor": 0
      },
      "text/plain": [
       "Validation: |          | 0/? [00:00<?, ?it/s]"
      ]
     },
     "metadata": {},
     "output_type": "display_data"
    },
    {
     "data": {
      "application/vnd.jupyter.widget-view+json": {
       "model_id": "d259dc2a1e8e4d77b4905d58843faf90",
       "version_major": 2,
       "version_minor": 0
      },
      "text/plain": [
       "Validation: |          | 0/? [00:00<?, ?it/s]"
      ]
     },
     "metadata": {},
     "output_type": "display_data"
    },
    {
     "data": {
      "application/vnd.jupyter.widget-view+json": {
       "model_id": "6a2e3b3d852f443da3236f264baccfc9",
       "version_major": 2,
       "version_minor": 0
      },
      "text/plain": [
       "Validation: |          | 0/? [00:00<?, ?it/s]"
      ]
     },
     "metadata": {},
     "output_type": "display_data"
    },
    {
     "data": {
      "application/vnd.jupyter.widget-view+json": {
       "model_id": "04f5934b83194e1fbd0778a412684355",
       "version_major": 2,
       "version_minor": 0
      },
      "text/plain": [
       "Validation: |          | 0/? [00:00<?, ?it/s]"
      ]
     },
     "metadata": {},
     "output_type": "display_data"
    },
    {
     "data": {
      "application/vnd.jupyter.widget-view+json": {
       "model_id": "dce4470c57db4c1eb0d7a08ea2b0556b",
       "version_major": 2,
       "version_minor": 0
      },
      "text/plain": [
       "Validation: |          | 0/? [00:00<?, ?it/s]"
      ]
     },
     "metadata": {},
     "output_type": "display_data"
    },
    {
     "data": {
      "application/vnd.jupyter.widget-view+json": {
       "model_id": "202570ecf90b4624ac9c2e70dbfd764a",
       "version_major": 2,
       "version_minor": 0
      },
      "text/plain": [
       "Validation: |          | 0/? [00:00<?, ?it/s]"
      ]
     },
     "metadata": {},
     "output_type": "display_data"
    },
    {
     "data": {
      "application/vnd.jupyter.widget-view+json": {
       "model_id": "07f820a2bd4c4f8cb21cea5d628d0d44",
       "version_major": 2,
       "version_minor": 0
      },
      "text/plain": [
       "Validation: |          | 0/? [00:00<?, ?it/s]"
      ]
     },
     "metadata": {},
     "output_type": "display_data"
    },
    {
     "data": {
      "application/vnd.jupyter.widget-view+json": {
       "model_id": "843dde2e65f14a2d9b77e660ba117bfa",
       "version_major": 2,
       "version_minor": 0
      },
      "text/plain": [
       "Validation: |          | 0/? [00:00<?, ?it/s]"
      ]
     },
     "metadata": {},
     "output_type": "display_data"
    },
    {
     "data": {
      "application/vnd.jupyter.widget-view+json": {
       "model_id": "dc61f5bddf154b8d85084a435bcc4322",
       "version_major": 2,
       "version_minor": 0
      },
      "text/plain": [
       "Validation: |          | 0/? [00:00<?, ?it/s]"
      ]
     },
     "metadata": {},
     "output_type": "display_data"
    },
    {
     "data": {
      "application/vnd.jupyter.widget-view+json": {
       "model_id": "6ed25ccd40764a9aaf04300224704e82",
       "version_major": 2,
       "version_minor": 0
      },
      "text/plain": [
       "Validation: |          | 0/? [00:00<?, ?it/s]"
      ]
     },
     "metadata": {},
     "output_type": "display_data"
    },
    {
     "data": {
      "application/vnd.jupyter.widget-view+json": {
       "model_id": "baf52e8c847d45158339e12e9037870d",
       "version_major": 2,
       "version_minor": 0
      },
      "text/plain": [
       "Validation: |          | 0/? [00:00<?, ?it/s]"
      ]
     },
     "metadata": {},
     "output_type": "display_data"
    },
    {
     "data": {
      "application/vnd.jupyter.widget-view+json": {
       "model_id": "220b343087864e0680c8b047937e2470",
       "version_major": 2,
       "version_minor": 0
      },
      "text/plain": [
       "Validation: |          | 0/? [00:00<?, ?it/s]"
      ]
     },
     "metadata": {},
     "output_type": "display_data"
    },
    {
     "data": {
      "application/vnd.jupyter.widget-view+json": {
       "model_id": "33fc8284137041e4b7edbeacaf1171d8",
       "version_major": 2,
       "version_minor": 0
      },
      "text/plain": [
       "Validation: |          | 0/? [00:00<?, ?it/s]"
      ]
     },
     "metadata": {},
     "output_type": "display_data"
    },
    {
     "data": {
      "application/vnd.jupyter.widget-view+json": {
       "model_id": "8076d62ab9314e29929df15ceffc3f8a",
       "version_major": 2,
       "version_minor": 0
      },
      "text/plain": [
       "Validation: |          | 0/? [00:00<?, ?it/s]"
      ]
     },
     "metadata": {},
     "output_type": "display_data"
    },
    {
     "data": {
      "application/vnd.jupyter.widget-view+json": {
       "model_id": "b6ceacf8965045a6b8e034881662bc14",
       "version_major": 2,
       "version_minor": 0
      },
      "text/plain": [
       "Validation: |          | 0/? [00:00<?, ?it/s]"
      ]
     },
     "metadata": {},
     "output_type": "display_data"
    },
    {
     "data": {
      "application/vnd.jupyter.widget-view+json": {
       "model_id": "bca2189f1edd4cd4b3d1be6e6fd4c9e7",
       "version_major": 2,
       "version_minor": 0
      },
      "text/plain": [
       "Validation: |          | 0/? [00:00<?, ?it/s]"
      ]
     },
     "metadata": {},
     "output_type": "display_data"
    },
    {
     "data": {
      "application/vnd.jupyter.widget-view+json": {
       "model_id": "4264e852edb243c6aa5953fec6e36658",
       "version_major": 2,
       "version_minor": 0
      },
      "text/plain": [
       "Validation: |          | 0/? [00:00<?, ?it/s]"
      ]
     },
     "metadata": {},
     "output_type": "display_data"
    },
    {
     "data": {
      "application/vnd.jupyter.widget-view+json": {
       "model_id": "443fbd1f4e574a1e8d454ea21bd72f18",
       "version_major": 2,
       "version_minor": 0
      },
      "text/plain": [
       "Validation: |          | 0/? [00:00<?, ?it/s]"
      ]
     },
     "metadata": {},
     "output_type": "display_data"
    },
    {
     "data": {
      "application/vnd.jupyter.widget-view+json": {
       "model_id": "b24f99eb6398481897a7f2a5576b6670",
       "version_major": 2,
       "version_minor": 0
      },
      "text/plain": [
       "Validation: |          | 0/? [00:00<?, ?it/s]"
      ]
     },
     "metadata": {},
     "output_type": "display_data"
    },
    {
     "data": {
      "application/vnd.jupyter.widget-view+json": {
       "model_id": "96d10f96a9834e5dacdbf227c03c8d7f",
       "version_major": 2,
       "version_minor": 0
      },
      "text/plain": [
       "Validation: |          | 0/? [00:00<?, ?it/s]"
      ]
     },
     "metadata": {},
     "output_type": "display_data"
    },
    {
     "data": {
      "application/vnd.jupyter.widget-view+json": {
       "model_id": "6f1e81014e314402af36c04a4d44e0af",
       "version_major": 2,
       "version_minor": 0
      },
      "text/plain": [
       "Validation: |          | 0/? [00:00<?, ?it/s]"
      ]
     },
     "metadata": {},
     "output_type": "display_data"
    },
    {
     "data": {
      "application/vnd.jupyter.widget-view+json": {
       "model_id": "04f87c5dabbf43a091f105931594f01e",
       "version_major": 2,
       "version_minor": 0
      },
      "text/plain": [
       "Validation: |          | 0/? [00:00<?, ?it/s]"
      ]
     },
     "metadata": {},
     "output_type": "display_data"
    },
    {
     "data": {
      "application/vnd.jupyter.widget-view+json": {
       "model_id": "799ad681ac904bbaa3c21fe410dbf3e0",
       "version_major": 2,
       "version_minor": 0
      },
      "text/plain": [
       "Validation: |          | 0/? [00:00<?, ?it/s]"
      ]
     },
     "metadata": {},
     "output_type": "display_data"
    },
    {
     "data": {
      "application/vnd.jupyter.widget-view+json": {
       "model_id": "81693c9682254891a5337bc58aefda36",
       "version_major": 2,
       "version_minor": 0
      },
      "text/plain": [
       "Validation: |          | 0/? [00:00<?, ?it/s]"
      ]
     },
     "metadata": {},
     "output_type": "display_data"
    },
    {
     "data": {
      "application/vnd.jupyter.widget-view+json": {
       "model_id": "467deb7f9de2452e8b0a63ea5ce34bb7",
       "version_major": 2,
       "version_minor": 0
      },
      "text/plain": [
       "Validation: |          | 0/? [00:00<?, ?it/s]"
      ]
     },
     "metadata": {},
     "output_type": "display_data"
    },
    {
     "data": {
      "application/vnd.jupyter.widget-view+json": {
       "model_id": "c76394a6296d45e0af11c9aedbb95c0d",
       "version_major": 2,
       "version_minor": 0
      },
      "text/plain": [
       "Validation: |          | 0/? [00:00<?, ?it/s]"
      ]
     },
     "metadata": {},
     "output_type": "display_data"
    },
    {
     "data": {
      "application/vnd.jupyter.widget-view+json": {
       "model_id": "5454b1fd05b3486fb282c11164705759",
       "version_major": 2,
       "version_minor": 0
      },
      "text/plain": [
       "Validation: |          | 0/? [00:00<?, ?it/s]"
      ]
     },
     "metadata": {},
     "output_type": "display_data"
    },
    {
     "data": {
      "application/vnd.jupyter.widget-view+json": {
       "model_id": "0f14d5f576b24080ad7d10e19ee28e2b",
       "version_major": 2,
       "version_minor": 0
      },
      "text/plain": [
       "Validation: |          | 0/? [00:00<?, ?it/s]"
      ]
     },
     "metadata": {},
     "output_type": "display_data"
    },
    {
     "data": {
      "application/vnd.jupyter.widget-view+json": {
       "model_id": "aa311af3482a48b8939db77d3963f2c9",
       "version_major": 2,
       "version_minor": 0
      },
      "text/plain": [
       "Validation: |          | 0/? [00:00<?, ?it/s]"
      ]
     },
     "metadata": {},
     "output_type": "display_data"
    },
    {
     "data": {
      "application/vnd.jupyter.widget-view+json": {
       "model_id": "f24c605794204ad98e80e7bb486ed13f",
       "version_major": 2,
       "version_minor": 0
      },
      "text/plain": [
       "Validation: |          | 0/? [00:00<?, ?it/s]"
      ]
     },
     "metadata": {},
     "output_type": "display_data"
    },
    {
     "data": {
      "application/vnd.jupyter.widget-view+json": {
       "model_id": "b6aaa82fd3bd4306b0ded9bbeb853025",
       "version_major": 2,
       "version_minor": 0
      },
      "text/plain": [
       "Validation: |          | 0/? [00:00<?, ?it/s]"
      ]
     },
     "metadata": {},
     "output_type": "display_data"
    },
    {
     "data": {
      "application/vnd.jupyter.widget-view+json": {
       "model_id": "a5f0b81a7b104ded8afd06721da6554f",
       "version_major": 2,
       "version_minor": 0
      },
      "text/plain": [
       "Validation: |          | 0/? [00:00<?, ?it/s]"
      ]
     },
     "metadata": {},
     "output_type": "display_data"
    },
    {
     "data": {
      "application/vnd.jupyter.widget-view+json": {
       "model_id": "cf01eb5344d4455cae761fd4fca1ce54",
       "version_major": 2,
       "version_minor": 0
      },
      "text/plain": [
       "Validation: |          | 0/? [00:00<?, ?it/s]"
      ]
     },
     "metadata": {},
     "output_type": "display_data"
    },
    {
     "data": {
      "application/vnd.jupyter.widget-view+json": {
       "model_id": "d308a89b192a468695e1cf3738d56d44",
       "version_major": 2,
       "version_minor": 0
      },
      "text/plain": [
       "Validation: |          | 0/? [00:00<?, ?it/s]"
      ]
     },
     "metadata": {},
     "output_type": "display_data"
    },
    {
     "data": {
      "application/vnd.jupyter.widget-view+json": {
       "model_id": "e771b4e702d34f019cd2355cadd74176",
       "version_major": 2,
       "version_minor": 0
      },
      "text/plain": [
       "Validation: |          | 0/? [00:00<?, ?it/s]"
      ]
     },
     "metadata": {},
     "output_type": "display_data"
    },
    {
     "data": {
      "application/vnd.jupyter.widget-view+json": {
       "model_id": "8a7c785c7bf246d2957ef6e48c0b36fd",
       "version_major": 2,
       "version_minor": 0
      },
      "text/plain": [
       "Validation: |          | 0/? [00:00<?, ?it/s]"
      ]
     },
     "metadata": {},
     "output_type": "display_data"
    },
    {
     "data": {
      "application/vnd.jupyter.widget-view+json": {
       "model_id": "be4838de05b244939020acd6ba708e22",
       "version_major": 2,
       "version_minor": 0
      },
      "text/plain": [
       "Validation: |          | 0/? [00:00<?, ?it/s]"
      ]
     },
     "metadata": {},
     "output_type": "display_data"
    },
    {
     "data": {
      "application/vnd.jupyter.widget-view+json": {
       "model_id": "a85927810cab4374950e4e6a52a141c1",
       "version_major": 2,
       "version_minor": 0
      },
      "text/plain": [
       "Validation: |          | 0/? [00:00<?, ?it/s]"
      ]
     },
     "metadata": {},
     "output_type": "display_data"
    },
    {
     "data": {
      "application/vnd.jupyter.widget-view+json": {
       "model_id": "1f42956051064c5dae2e4666fefe03a9",
       "version_major": 2,
       "version_minor": 0
      },
      "text/plain": [
       "Validation: |          | 0/? [00:00<?, ?it/s]"
      ]
     },
     "metadata": {},
     "output_type": "display_data"
    },
    {
     "data": {
      "application/vnd.jupyter.widget-view+json": {
       "model_id": "c74b65e543714f79add7a9d5ef15419e",
       "version_major": 2,
       "version_minor": 0
      },
      "text/plain": [
       "Validation: |          | 0/? [00:00<?, ?it/s]"
      ]
     },
     "metadata": {},
     "output_type": "display_data"
    },
    {
     "data": {
      "application/vnd.jupyter.widget-view+json": {
       "model_id": "61079ccbbc5f40a3b3e4fb51d70979bc",
       "version_major": 2,
       "version_minor": 0
      },
      "text/plain": [
       "Validation: |          | 0/? [00:00<?, ?it/s]"
      ]
     },
     "metadata": {},
     "output_type": "display_data"
    },
    {
     "data": {
      "application/vnd.jupyter.widget-view+json": {
       "model_id": "ca3dbb73cdf44d5fa3699953f245e97a",
       "version_major": 2,
       "version_minor": 0
      },
      "text/plain": [
       "Validation: |          | 0/? [00:00<?, ?it/s]"
      ]
     },
     "metadata": {},
     "output_type": "display_data"
    },
    {
     "data": {
      "application/vnd.jupyter.widget-view+json": {
       "model_id": "2d701531a9df470eabe80286b361d746",
       "version_major": 2,
       "version_minor": 0
      },
      "text/plain": [
       "Validation: |          | 0/? [00:00<?, ?it/s]"
      ]
     },
     "metadata": {},
     "output_type": "display_data"
    },
    {
     "data": {
      "application/vnd.jupyter.widget-view+json": {
       "model_id": "40dba66dc0b44558abc0daa5bb3d6b16",
       "version_major": 2,
       "version_minor": 0
      },
      "text/plain": [
       "Validation: |          | 0/? [00:00<?, ?it/s]"
      ]
     },
     "metadata": {},
     "output_type": "display_data"
    },
    {
     "data": {
      "application/vnd.jupyter.widget-view+json": {
       "model_id": "c6be205b8d7b4226a6c52ef4a8d29320",
       "version_major": 2,
       "version_minor": 0
      },
      "text/plain": [
       "Validation: |          | 0/? [00:00<?, ?it/s]"
      ]
     },
     "metadata": {},
     "output_type": "display_data"
    },
    {
     "data": {
      "application/vnd.jupyter.widget-view+json": {
       "model_id": "7a5ff7cb9285460cabc1431f6e1dc59f",
       "version_major": 2,
       "version_minor": 0
      },
      "text/plain": [
       "Validation: |          | 0/? [00:00<?, ?it/s]"
      ]
     },
     "metadata": {},
     "output_type": "display_data"
    },
    {
     "data": {
      "application/vnd.jupyter.widget-view+json": {
       "model_id": "e96a71472ab942189dce5078e78d1c3c",
       "version_major": 2,
       "version_minor": 0
      },
      "text/plain": [
       "Validation: |          | 0/? [00:00<?, ?it/s]"
      ]
     },
     "metadata": {},
     "output_type": "display_data"
    },
    {
     "data": {
      "application/vnd.jupyter.widget-view+json": {
       "model_id": "9b93bf614a174e22ab858e18e7bcd684",
       "version_major": 2,
       "version_minor": 0
      },
      "text/plain": [
       "Validation: |          | 0/? [00:00<?, ?it/s]"
      ]
     },
     "metadata": {},
     "output_type": "display_data"
    },
    {
     "data": {
      "application/vnd.jupyter.widget-view+json": {
       "model_id": "cf00395e48e74984bbf59beb00d3ff93",
       "version_major": 2,
       "version_minor": 0
      },
      "text/plain": [
       "Validation: |          | 0/? [00:00<?, ?it/s]"
      ]
     },
     "metadata": {},
     "output_type": "display_data"
    },
    {
     "data": {
      "application/vnd.jupyter.widget-view+json": {
       "model_id": "c991cdd0ca6b4fbdbb9588da5ebf9288",
       "version_major": 2,
       "version_minor": 0
      },
      "text/plain": [
       "Validation: |          | 0/? [00:00<?, ?it/s]"
      ]
     },
     "metadata": {},
     "output_type": "display_data"
    },
    {
     "data": {
      "application/vnd.jupyter.widget-view+json": {
       "model_id": "53d202cc8c3f40679c47dfe3315e4992",
       "version_major": 2,
       "version_minor": 0
      },
      "text/plain": [
       "Validation: |          | 0/? [00:00<?, ?it/s]"
      ]
     },
     "metadata": {},
     "output_type": "display_data"
    },
    {
     "data": {
      "application/vnd.jupyter.widget-view+json": {
       "model_id": "8696da1a54464ff58ae704389a70334b",
       "version_major": 2,
       "version_minor": 0
      },
      "text/plain": [
       "Validation: |          | 0/? [00:00<?, ?it/s]"
      ]
     },
     "metadata": {},
     "output_type": "display_data"
    },
    {
     "data": {
      "application/vnd.jupyter.widget-view+json": {
       "model_id": "8d08a0db396c4400980374b5096c4d9f",
       "version_major": 2,
       "version_minor": 0
      },
      "text/plain": [
       "Validation: |          | 0/? [00:00<?, ?it/s]"
      ]
     },
     "metadata": {},
     "output_type": "display_data"
    },
    {
     "data": {
      "application/vnd.jupyter.widget-view+json": {
       "model_id": "bf82e082ae014c4eaf3113c4ac16f003",
       "version_major": 2,
       "version_minor": 0
      },
      "text/plain": [
       "Validation: |          | 0/? [00:00<?, ?it/s]"
      ]
     },
     "metadata": {},
     "output_type": "display_data"
    },
    {
     "data": {
      "application/vnd.jupyter.widget-view+json": {
       "model_id": "66f8178ea77b438980cfc993c2dc6e0a",
       "version_major": 2,
       "version_minor": 0
      },
      "text/plain": [
       "Validation: |          | 0/? [00:00<?, ?it/s]"
      ]
     },
     "metadata": {},
     "output_type": "display_data"
    },
    {
     "data": {
      "application/vnd.jupyter.widget-view+json": {
       "model_id": "7fb404279b4c44639505a54770e07991",
       "version_major": 2,
       "version_minor": 0
      },
      "text/plain": [
       "Validation: |          | 0/? [00:00<?, ?it/s]"
      ]
     },
     "metadata": {},
     "output_type": "display_data"
    },
    {
     "data": {
      "application/vnd.jupyter.widget-view+json": {
       "model_id": "5f498684cb4d4011979ade178f0140b6",
       "version_major": 2,
       "version_minor": 0
      },
      "text/plain": [
       "Validation: |          | 0/? [00:00<?, ?it/s]"
      ]
     },
     "metadata": {},
     "output_type": "display_data"
    },
    {
     "data": {
      "application/vnd.jupyter.widget-view+json": {
       "model_id": "af7cfda6e923414aac2b99970a73aab0",
       "version_major": 2,
       "version_minor": 0
      },
      "text/plain": [
       "Validation: |          | 0/? [00:00<?, ?it/s]"
      ]
     },
     "metadata": {},
     "output_type": "display_data"
    },
    {
     "data": {
      "application/vnd.jupyter.widget-view+json": {
       "model_id": "ecb0e1cb94494e12ba871af7fd50e055",
       "version_major": 2,
       "version_minor": 0
      },
      "text/plain": [
       "Validation: |          | 0/? [00:00<?, ?it/s]"
      ]
     },
     "metadata": {},
     "output_type": "display_data"
    },
    {
     "data": {
      "application/vnd.jupyter.widget-view+json": {
       "model_id": "0c0cdb4a554247fe9f93b3ffd39db628",
       "version_major": 2,
       "version_minor": 0
      },
      "text/plain": [
       "Validation: |          | 0/? [00:00<?, ?it/s]"
      ]
     },
     "metadata": {},
     "output_type": "display_data"
    },
    {
     "data": {
      "application/vnd.jupyter.widget-view+json": {
       "model_id": "76d3dec03de048e8a02e578da41f1793",
       "version_major": 2,
       "version_minor": 0
      },
      "text/plain": [
       "Validation: |          | 0/? [00:00<?, ?it/s]"
      ]
     },
     "metadata": {},
     "output_type": "display_data"
    },
    {
     "data": {
      "application/vnd.jupyter.widget-view+json": {
       "model_id": "d9c3f770062f4ba5a672073027e54516",
       "version_major": 2,
       "version_minor": 0
      },
      "text/plain": [
       "Validation: |          | 0/? [00:00<?, ?it/s]"
      ]
     },
     "metadata": {},
     "output_type": "display_data"
    },
    {
     "data": {
      "application/vnd.jupyter.widget-view+json": {
       "model_id": "be51afd5f6924e8cbae943713279d706",
       "version_major": 2,
       "version_minor": 0
      },
      "text/plain": [
       "Validation: |          | 0/? [00:00<?, ?it/s]"
      ]
     },
     "metadata": {},
     "output_type": "display_data"
    },
    {
     "data": {
      "application/vnd.jupyter.widget-view+json": {
       "model_id": "662c0ed3a3044b9ab232e2127cf528c2",
       "version_major": 2,
       "version_minor": 0
      },
      "text/plain": [
       "Validation: |          | 0/? [00:00<?, ?it/s]"
      ]
     },
     "metadata": {},
     "output_type": "display_data"
    },
    {
     "data": {
      "application/vnd.jupyter.widget-view+json": {
       "model_id": "acfd8490edd14f03981d9ad7865c5ec6",
       "version_major": 2,
       "version_minor": 0
      },
      "text/plain": [
       "Validation: |          | 0/? [00:00<?, ?it/s]"
      ]
     },
     "metadata": {},
     "output_type": "display_data"
    },
    {
     "data": {
      "application/vnd.jupyter.widget-view+json": {
       "model_id": "60c023bc6a0547109be08ad5e50e5aa1",
       "version_major": 2,
       "version_minor": 0
      },
      "text/plain": [
       "Validation: |          | 0/? [00:00<?, ?it/s]"
      ]
     },
     "metadata": {},
     "output_type": "display_data"
    },
    {
     "data": {
      "application/vnd.jupyter.widget-view+json": {
       "model_id": "c4b844364fff46ee82eb70245e90fcdd",
       "version_major": 2,
       "version_minor": 0
      },
      "text/plain": [
       "Validation: |          | 0/? [00:00<?, ?it/s]"
      ]
     },
     "metadata": {},
     "output_type": "display_data"
    },
    {
     "data": {
      "application/vnd.jupyter.widget-view+json": {
       "model_id": "b7f381321b024d1c866e8a25dfbd28f2",
       "version_major": 2,
       "version_minor": 0
      },
      "text/plain": [
       "Validation: |          | 0/? [00:00<?, ?it/s]"
      ]
     },
     "metadata": {},
     "output_type": "display_data"
    },
    {
     "data": {
      "application/vnd.jupyter.widget-view+json": {
       "model_id": "c5452330d15a4d2f9e2e412865f63566",
       "version_major": 2,
       "version_minor": 0
      },
      "text/plain": [
       "Validation: |          | 0/? [00:00<?, ?it/s]"
      ]
     },
     "metadata": {},
     "output_type": "display_data"
    },
    {
     "data": {
      "application/vnd.jupyter.widget-view+json": {
       "model_id": "070677d7c8b142159afec204804ff2fb",
       "version_major": 2,
       "version_minor": 0
      },
      "text/plain": [
       "Validation: |          | 0/? [00:00<?, ?it/s]"
      ]
     },
     "metadata": {},
     "output_type": "display_data"
    },
    {
     "data": {
      "application/vnd.jupyter.widget-view+json": {
       "model_id": "53caa903a4bd4390bc6b8c5436963b86",
       "version_major": 2,
       "version_minor": 0
      },
      "text/plain": [
       "Validation: |          | 0/? [00:00<?, ?it/s]"
      ]
     },
     "metadata": {},
     "output_type": "display_data"
    },
    {
     "data": {
      "application/vnd.jupyter.widget-view+json": {
       "model_id": "8c4aed2020e74cf4a711d4f7c831da31",
       "version_major": 2,
       "version_minor": 0
      },
      "text/plain": [
       "Validation: |          | 0/? [00:00<?, ?it/s]"
      ]
     },
     "metadata": {},
     "output_type": "display_data"
    },
    {
     "data": {
      "application/vnd.jupyter.widget-view+json": {
       "model_id": "b56d35415b01462782d126224831586a",
       "version_major": 2,
       "version_minor": 0
      },
      "text/plain": [
       "Validation: |          | 0/? [00:00<?, ?it/s]"
      ]
     },
     "metadata": {},
     "output_type": "display_data"
    },
    {
     "data": {
      "application/vnd.jupyter.widget-view+json": {
       "model_id": "cde97ad5c3c3435fb744b6d6746dd352",
       "version_major": 2,
       "version_minor": 0
      },
      "text/plain": [
       "Validation: |          | 0/? [00:00<?, ?it/s]"
      ]
     },
     "metadata": {},
     "output_type": "display_data"
    },
    {
     "data": {
      "application/vnd.jupyter.widget-view+json": {
       "model_id": "5a101850a7c04dc3ac380b7280be3989",
       "version_major": 2,
       "version_minor": 0
      },
      "text/plain": [
       "Validation: |          | 0/? [00:00<?, ?it/s]"
      ]
     },
     "metadata": {},
     "output_type": "display_data"
    },
    {
     "data": {
      "application/vnd.jupyter.widget-view+json": {
       "model_id": "bb2ca604501141d48f277c316e3e0091",
       "version_major": 2,
       "version_minor": 0
      },
      "text/plain": [
       "Validation: |          | 0/? [00:00<?, ?it/s]"
      ]
     },
     "metadata": {},
     "output_type": "display_data"
    },
    {
     "data": {
      "application/vnd.jupyter.widget-view+json": {
       "model_id": "b436db95997743aaa596b30990e1df8e",
       "version_major": 2,
       "version_minor": 0
      },
      "text/plain": [
       "Validation: |          | 0/? [00:00<?, ?it/s]"
      ]
     },
     "metadata": {},
     "output_type": "display_data"
    },
    {
     "data": {
      "application/vnd.jupyter.widget-view+json": {
       "model_id": "b9acad91467b4bc99e88d3da3cc4c9b0",
       "version_major": 2,
       "version_minor": 0
      },
      "text/plain": [
       "Validation: |          | 0/? [00:00<?, ?it/s]"
      ]
     },
     "metadata": {},
     "output_type": "display_data"
    },
    {
     "data": {
      "application/vnd.jupyter.widget-view+json": {
       "model_id": "7772287f32764648837380c3c3cdebf8",
       "version_major": 2,
       "version_minor": 0
      },
      "text/plain": [
       "Validation: |          | 0/? [00:00<?, ?it/s]"
      ]
     },
     "metadata": {},
     "output_type": "display_data"
    },
    {
     "data": {
      "application/vnd.jupyter.widget-view+json": {
       "model_id": "13d7f7398cc2413bb6173f21953296ca",
       "version_major": 2,
       "version_minor": 0
      },
      "text/plain": [
       "Validation: |          | 0/? [00:00<?, ?it/s]"
      ]
     },
     "metadata": {},
     "output_type": "display_data"
    },
    {
     "data": {
      "application/vnd.jupyter.widget-view+json": {
       "model_id": "2af5da5ac7a443d1841ccf3c7c6d3bb3",
       "version_major": 2,
       "version_minor": 0
      },
      "text/plain": [
       "Validation: |          | 0/? [00:00<?, ?it/s]"
      ]
     },
     "metadata": {},
     "output_type": "display_data"
    },
    {
     "data": {
      "application/vnd.jupyter.widget-view+json": {
       "model_id": "43fd6a3082614df39745f8c585b342d8",
       "version_major": 2,
       "version_minor": 0
      },
      "text/plain": [
       "Validation: |          | 0/? [00:00<?, ?it/s]"
      ]
     },
     "metadata": {},
     "output_type": "display_data"
    },
    {
     "data": {
      "application/vnd.jupyter.widget-view+json": {
       "model_id": "1cc34d6620374e18b4e74ff85cca7713",
       "version_major": 2,
       "version_minor": 0
      },
      "text/plain": [
       "Validation: |          | 0/? [00:00<?, ?it/s]"
      ]
     },
     "metadata": {},
     "output_type": "display_data"
    },
    {
     "data": {
      "application/vnd.jupyter.widget-view+json": {
       "model_id": "4b724a3159d24536b9966b3b593d64e6",
       "version_major": 2,
       "version_minor": 0
      },
      "text/plain": [
       "Validation: |          | 0/? [00:00<?, ?it/s]"
      ]
     },
     "metadata": {},
     "output_type": "display_data"
    },
    {
     "data": {
      "application/vnd.jupyter.widget-view+json": {
       "model_id": "7af49fbb0df3479a9f35eff80d64da2c",
       "version_major": 2,
       "version_minor": 0
      },
      "text/plain": [
       "Validation: |          | 0/? [00:00<?, ?it/s]"
      ]
     },
     "metadata": {},
     "output_type": "display_data"
    },
    {
     "data": {
      "application/vnd.jupyter.widget-view+json": {
       "model_id": "2ed92d2f81464eab84234d5e1a0379b4",
       "version_major": 2,
       "version_minor": 0
      },
      "text/plain": [
       "Validation: |          | 0/? [00:00<?, ?it/s]"
      ]
     },
     "metadata": {},
     "output_type": "display_data"
    },
    {
     "data": {
      "application/vnd.jupyter.widget-view+json": {
       "model_id": "a3eec34aaf594affb20de5043462832b",
       "version_major": 2,
       "version_minor": 0
      },
      "text/plain": [
       "Validation: |          | 0/? [00:00<?, ?it/s]"
      ]
     },
     "metadata": {},
     "output_type": "display_data"
    },
    {
     "data": {
      "application/vnd.jupyter.widget-view+json": {
       "model_id": "9e2b5a4615934213879e9924a5a91e46",
       "version_major": 2,
       "version_minor": 0
      },
      "text/plain": [
       "Validation: |          | 0/? [00:00<?, ?it/s]"
      ]
     },
     "metadata": {},
     "output_type": "display_data"
    },
    {
     "data": {
      "application/vnd.jupyter.widget-view+json": {
       "model_id": "7888f5bda15444a2b985ff23c73d88b7",
       "version_major": 2,
       "version_minor": 0
      },
      "text/plain": [
       "Validation: |          | 0/? [00:00<?, ?it/s]"
      ]
     },
     "metadata": {},
     "output_type": "display_data"
    },
    {
     "data": {
      "application/vnd.jupyter.widget-view+json": {
       "model_id": "e5ca62b32f03481cb8a236ac006c454e",
       "version_major": 2,
       "version_minor": 0
      },
      "text/plain": [
       "Validation: |          | 0/? [00:00<?, ?it/s]"
      ]
     },
     "metadata": {},
     "output_type": "display_data"
    },
    {
     "data": {
      "application/vnd.jupyter.widget-view+json": {
       "model_id": "ab90dd0beabd44188631f5a49bf636d9",
       "version_major": 2,
       "version_minor": 0
      },
      "text/plain": [
       "Validation: |          | 0/? [00:00<?, ?it/s]"
      ]
     },
     "metadata": {},
     "output_type": "display_data"
    },
    {
     "data": {
      "application/vnd.jupyter.widget-view+json": {
       "model_id": "51b1e850fcba4a86adff9cefe3b875bc",
       "version_major": 2,
       "version_minor": 0
      },
      "text/plain": [
       "Validation: |          | 0/? [00:00<?, ?it/s]"
      ]
     },
     "metadata": {},
     "output_type": "display_data"
    },
    {
     "data": {
      "application/vnd.jupyter.widget-view+json": {
       "model_id": "aaddd1c2e4f848fd917bee0c14463c59",
       "version_major": 2,
       "version_minor": 0
      },
      "text/plain": [
       "Validation: |          | 0/? [00:00<?, ?it/s]"
      ]
     },
     "metadata": {},
     "output_type": "display_data"
    },
    {
     "data": {
      "application/vnd.jupyter.widget-view+json": {
       "model_id": "138fe2d38716498eb9301500985977ea",
       "version_major": 2,
       "version_minor": 0
      },
      "text/plain": [
       "Validation: |          | 0/? [00:00<?, ?it/s]"
      ]
     },
     "metadata": {},
     "output_type": "display_data"
    },
    {
     "data": {
      "application/vnd.jupyter.widget-view+json": {
       "model_id": "6d69c09eb137403582341c81d46fe354",
       "version_major": 2,
       "version_minor": 0
      },
      "text/plain": [
       "Validation: |          | 0/? [00:00<?, ?it/s]"
      ]
     },
     "metadata": {},
     "output_type": "display_data"
    },
    {
     "data": {
      "application/vnd.jupyter.widget-view+json": {
       "model_id": "e41f44ad26074e0788864ff565cca5e3",
       "version_major": 2,
       "version_minor": 0
      },
      "text/plain": [
       "Validation: |          | 0/? [00:00<?, ?it/s]"
      ]
     },
     "metadata": {},
     "output_type": "display_data"
    },
    {
     "data": {
      "application/vnd.jupyter.widget-view+json": {
       "model_id": "68473112ef414518b8c2a42b32965e57",
       "version_major": 2,
       "version_minor": 0
      },
      "text/plain": [
       "Validation: |          | 0/? [00:00<?, ?it/s]"
      ]
     },
     "metadata": {},
     "output_type": "display_data"
    },
    {
     "data": {
      "application/vnd.jupyter.widget-view+json": {
       "model_id": "5f115759be224113868304876452e2d4",
       "version_major": 2,
       "version_minor": 0
      },
      "text/plain": [
       "Validation: |          | 0/? [00:00<?, ?it/s]"
      ]
     },
     "metadata": {},
     "output_type": "display_data"
    },
    {
     "data": {
      "application/vnd.jupyter.widget-view+json": {
       "model_id": "64b5cd3035314013abc36af8f00d0d6f",
       "version_major": 2,
       "version_minor": 0
      },
      "text/plain": [
       "Validation: |          | 0/? [00:00<?, ?it/s]"
      ]
     },
     "metadata": {},
     "output_type": "display_data"
    },
    {
     "data": {
      "application/vnd.jupyter.widget-view+json": {
       "model_id": "674593b0dc4544ddb9a8424af7d5e610",
       "version_major": 2,
       "version_minor": 0
      },
      "text/plain": [
       "Validation: |          | 0/? [00:00<?, ?it/s]"
      ]
     },
     "metadata": {},
     "output_type": "display_data"
    },
    {
     "data": {
      "application/vnd.jupyter.widget-view+json": {
       "model_id": "c7a92cc0ec23482fa33d4c7f0f05f200",
       "version_major": 2,
       "version_minor": 0
      },
      "text/plain": [
       "Validation: |          | 0/? [00:00<?, ?it/s]"
      ]
     },
     "metadata": {},
     "output_type": "display_data"
    },
    {
     "data": {
      "application/vnd.jupyter.widget-view+json": {
       "model_id": "40e357dbb1cb4724ba95eace069809e7",
       "version_major": 2,
       "version_minor": 0
      },
      "text/plain": [
       "Validation: |          | 0/? [00:00<?, ?it/s]"
      ]
     },
     "metadata": {},
     "output_type": "display_data"
    },
    {
     "data": {
      "application/vnd.jupyter.widget-view+json": {
       "model_id": "d122759bdf1e47a7b6a335b0755bfb77",
       "version_major": 2,
       "version_minor": 0
      },
      "text/plain": [
       "Validation: |          | 0/? [00:00<?, ?it/s]"
      ]
     },
     "metadata": {},
     "output_type": "display_data"
    },
    {
     "data": {
      "application/vnd.jupyter.widget-view+json": {
       "model_id": "1d643895fec14fd4b6da67c8eb25c3fb",
       "version_major": 2,
       "version_minor": 0
      },
      "text/plain": [
       "Validation: |          | 0/? [00:00<?, ?it/s]"
      ]
     },
     "metadata": {},
     "output_type": "display_data"
    },
    {
     "data": {
      "application/vnd.jupyter.widget-view+json": {
       "model_id": "ca0823de81e8496ea2ec4d7c21b39e99",
       "version_major": 2,
       "version_minor": 0
      },
      "text/plain": [
       "Validation: |          | 0/? [00:00<?, ?it/s]"
      ]
     },
     "metadata": {},
     "output_type": "display_data"
    },
    {
     "data": {
      "application/vnd.jupyter.widget-view+json": {
       "model_id": "d8e5a0beebc54abfbe7d00ab3f9411a3",
       "version_major": 2,
       "version_minor": 0
      },
      "text/plain": [
       "Validation: |          | 0/? [00:00<?, ?it/s]"
      ]
     },
     "metadata": {},
     "output_type": "display_data"
    },
    {
     "data": {
      "application/vnd.jupyter.widget-view+json": {
       "model_id": "79c50425b82d4c22b0c729dd90f04d6c",
       "version_major": 2,
       "version_minor": 0
      },
      "text/plain": [
       "Validation: |          | 0/? [00:00<?, ?it/s]"
      ]
     },
     "metadata": {},
     "output_type": "display_data"
    },
    {
     "data": {
      "application/vnd.jupyter.widget-view+json": {
       "model_id": "d47098a8a0c84380abb30bef4b917735",
       "version_major": 2,
       "version_minor": 0
      },
      "text/plain": [
       "Validation: |          | 0/? [00:00<?, ?it/s]"
      ]
     },
     "metadata": {},
     "output_type": "display_data"
    },
    {
     "data": {
      "application/vnd.jupyter.widget-view+json": {
       "model_id": "b1586d8643c641c0bfb18753f03725e7",
       "version_major": 2,
       "version_minor": 0
      },
      "text/plain": [
       "Validation: |          | 0/? [00:00<?, ?it/s]"
      ]
     },
     "metadata": {},
     "output_type": "display_data"
    },
    {
     "data": {
      "application/vnd.jupyter.widget-view+json": {
       "model_id": "d755bef5a113466283ee248a55c7d53a",
       "version_major": 2,
       "version_minor": 0
      },
      "text/plain": [
       "Validation: |          | 0/? [00:00<?, ?it/s]"
      ]
     },
     "metadata": {},
     "output_type": "display_data"
    },
    {
     "data": {
      "application/vnd.jupyter.widget-view+json": {
       "model_id": "5515152900394fed9ff1375346b1c10b",
       "version_major": 2,
       "version_minor": 0
      },
      "text/plain": [
       "Validation: |          | 0/? [00:00<?, ?it/s]"
      ]
     },
     "metadata": {},
     "output_type": "display_data"
    },
    {
     "data": {
      "application/vnd.jupyter.widget-view+json": {
       "model_id": "b9c5c0defbed4d0b968e9d2986e852d9",
       "version_major": 2,
       "version_minor": 0
      },
      "text/plain": [
       "Validation: |          | 0/? [00:00<?, ?it/s]"
      ]
     },
     "metadata": {},
     "output_type": "display_data"
    },
    {
     "data": {
      "application/vnd.jupyter.widget-view+json": {
       "model_id": "5d48d5f773864b039a5e80aa88982c7c",
       "version_major": 2,
       "version_minor": 0
      },
      "text/plain": [
       "Validation: |          | 0/? [00:00<?, ?it/s]"
      ]
     },
     "metadata": {},
     "output_type": "display_data"
    },
    {
     "data": {
      "application/vnd.jupyter.widget-view+json": {
       "model_id": "ae14e8e75991409babc93ea29064dba5",
       "version_major": 2,
       "version_minor": 0
      },
      "text/plain": [
       "Validation: |          | 0/? [00:00<?, ?it/s]"
      ]
     },
     "metadata": {},
     "output_type": "display_data"
    },
    {
     "data": {
      "application/vnd.jupyter.widget-view+json": {
       "model_id": "d01aab54b7aa45dfa48f7d9556da4589",
       "version_major": 2,
       "version_minor": 0
      },
      "text/plain": [
       "Validation: |          | 0/? [00:00<?, ?it/s]"
      ]
     },
     "metadata": {},
     "output_type": "display_data"
    },
    {
     "data": {
      "application/vnd.jupyter.widget-view+json": {
       "model_id": "9e807e2568c7473497f4dd2055a4c265",
       "version_major": 2,
       "version_minor": 0
      },
      "text/plain": [
       "Validation: |          | 0/? [00:00<?, ?it/s]"
      ]
     },
     "metadata": {},
     "output_type": "display_data"
    },
    {
     "data": {
      "application/vnd.jupyter.widget-view+json": {
       "model_id": "e100ced7e3c34a6d9bf52689b83b3f57",
       "version_major": 2,
       "version_minor": 0
      },
      "text/plain": [
       "Validation: |          | 0/? [00:00<?, ?it/s]"
      ]
     },
     "metadata": {},
     "output_type": "display_data"
    },
    {
     "data": {
      "application/vnd.jupyter.widget-view+json": {
       "model_id": "05c17151047048e389d5c72fac93b85e",
       "version_major": 2,
       "version_minor": 0
      },
      "text/plain": [
       "Validation: |          | 0/? [00:00<?, ?it/s]"
      ]
     },
     "metadata": {},
     "output_type": "display_data"
    },
    {
     "data": {
      "application/vnd.jupyter.widget-view+json": {
       "model_id": "a484aa0f47544745bcd2a2286aa80ec9",
       "version_major": 2,
       "version_minor": 0
      },
      "text/plain": [
       "Validation: |          | 0/? [00:00<?, ?it/s]"
      ]
     },
     "metadata": {},
     "output_type": "display_data"
    },
    {
     "data": {
      "application/vnd.jupyter.widget-view+json": {
       "model_id": "0238d7aaad594234b7d75720379b86c4",
       "version_major": 2,
       "version_minor": 0
      },
      "text/plain": [
       "Validation: |          | 0/? [00:00<?, ?it/s]"
      ]
     },
     "metadata": {},
     "output_type": "display_data"
    },
    {
     "data": {
      "application/vnd.jupyter.widget-view+json": {
       "model_id": "674830de66ba4b5ebf9f2c92dfa42a32",
       "version_major": 2,
       "version_minor": 0
      },
      "text/plain": [
       "Validation: |          | 0/? [00:00<?, ?it/s]"
      ]
     },
     "metadata": {},
     "output_type": "display_data"
    },
    {
     "data": {
      "application/vnd.jupyter.widget-view+json": {
       "model_id": "87aa6f5f6457468c9d719f09ec4c5bdc",
       "version_major": 2,
       "version_minor": 0
      },
      "text/plain": [
       "Validation: |          | 0/? [00:00<?, ?it/s]"
      ]
     },
     "metadata": {},
     "output_type": "display_data"
    },
    {
     "data": {
      "application/vnd.jupyter.widget-view+json": {
       "model_id": "cdf5a3beb14f47bdb575234f434955f5",
       "version_major": 2,
       "version_minor": 0
      },
      "text/plain": [
       "Validation: |          | 0/? [00:00<?, ?it/s]"
      ]
     },
     "metadata": {},
     "output_type": "display_data"
    },
    {
     "data": {
      "application/vnd.jupyter.widget-view+json": {
       "model_id": "4a8ce4ae45e34a208bf88ff3367f1d4a",
       "version_major": 2,
       "version_minor": 0
      },
      "text/plain": [
       "Validation: |          | 0/? [00:00<?, ?it/s]"
      ]
     },
     "metadata": {},
     "output_type": "display_data"
    },
    {
     "data": {
      "application/vnd.jupyter.widget-view+json": {
       "model_id": "f2994a7a398c46f1958149e11459cfc3",
       "version_major": 2,
       "version_minor": 0
      },
      "text/plain": [
       "Validation: |          | 0/? [00:00<?, ?it/s]"
      ]
     },
     "metadata": {},
     "output_type": "display_data"
    },
    {
     "data": {
      "application/vnd.jupyter.widget-view+json": {
       "model_id": "75684b51c07b4e8d8fabe80927e597ab",
       "version_major": 2,
       "version_minor": 0
      },
      "text/plain": [
       "Validation: |          | 0/? [00:00<?, ?it/s]"
      ]
     },
     "metadata": {},
     "output_type": "display_data"
    },
    {
     "data": {
      "application/vnd.jupyter.widget-view+json": {
       "model_id": "7fc9112422884503a1fd72b4d6932bbb",
       "version_major": 2,
       "version_minor": 0
      },
      "text/plain": [
       "Validation: |          | 0/? [00:00<?, ?it/s]"
      ]
     },
     "metadata": {},
     "output_type": "display_data"
    },
    {
     "data": {
      "application/vnd.jupyter.widget-view+json": {
       "model_id": "c2f20a33ea4249ecb7e7c889f0a590d4",
       "version_major": 2,
       "version_minor": 0
      },
      "text/plain": [
       "Validation: |          | 0/? [00:00<?, ?it/s]"
      ]
     },
     "metadata": {},
     "output_type": "display_data"
    },
    {
     "data": {
      "application/vnd.jupyter.widget-view+json": {
       "model_id": "c2ba57324af44c25b37f6f3d9c018d45",
       "version_major": 2,
       "version_minor": 0
      },
      "text/plain": [
       "Validation: |          | 0/? [00:00<?, ?it/s]"
      ]
     },
     "metadata": {},
     "output_type": "display_data"
    },
    {
     "data": {
      "application/vnd.jupyter.widget-view+json": {
       "model_id": "8b3091bae89348a9ab3eb1d6b1ed2f47",
       "version_major": 2,
       "version_minor": 0
      },
      "text/plain": [
       "Validation: |          | 0/? [00:00<?, ?it/s]"
      ]
     },
     "metadata": {},
     "output_type": "display_data"
    },
    {
     "data": {
      "application/vnd.jupyter.widget-view+json": {
       "model_id": "c3ee2c82963c4d538ba536b898287bb2",
       "version_major": 2,
       "version_minor": 0
      },
      "text/plain": [
       "Validation: |          | 0/? [00:00<?, ?it/s]"
      ]
     },
     "metadata": {},
     "output_type": "display_data"
    },
    {
     "data": {
      "application/vnd.jupyter.widget-view+json": {
       "model_id": "1633c1d1e46e4d47a3664b5411a188fb",
       "version_major": 2,
       "version_minor": 0
      },
      "text/plain": [
       "Validation: |          | 0/? [00:00<?, ?it/s]"
      ]
     },
     "metadata": {},
     "output_type": "display_data"
    },
    {
     "data": {
      "application/vnd.jupyter.widget-view+json": {
       "model_id": "3a67160a8cda407bb81b40ddc3d9985d",
       "version_major": 2,
       "version_minor": 0
      },
      "text/plain": [
       "Validation: |          | 0/? [00:00<?, ?it/s]"
      ]
     },
     "metadata": {},
     "output_type": "display_data"
    },
    {
     "data": {
      "application/vnd.jupyter.widget-view+json": {
       "model_id": "5af18c7cd2f843c689bb7821035329c7",
       "version_major": 2,
       "version_minor": 0
      },
      "text/plain": [
       "Validation: |          | 0/? [00:00<?, ?it/s]"
      ]
     },
     "metadata": {},
     "output_type": "display_data"
    },
    {
     "data": {
      "application/vnd.jupyter.widget-view+json": {
       "model_id": "afa7ebd27c3446b681b27ede556d38a7",
       "version_major": 2,
       "version_minor": 0
      },
      "text/plain": [
       "Validation: |          | 0/? [00:00<?, ?it/s]"
      ]
     },
     "metadata": {},
     "output_type": "display_data"
    },
    {
     "data": {
      "application/vnd.jupyter.widget-view+json": {
       "model_id": "2d6d0e42417143adae6db4d0d6e971de",
       "version_major": 2,
       "version_minor": 0
      },
      "text/plain": [
       "Validation: |          | 0/? [00:00<?, ?it/s]"
      ]
     },
     "metadata": {},
     "output_type": "display_data"
    },
    {
     "data": {
      "application/vnd.jupyter.widget-view+json": {
       "model_id": "c634ee0e35a94a1387aa24c96699d635",
       "version_major": 2,
       "version_minor": 0
      },
      "text/plain": [
       "Validation: |          | 0/? [00:00<?, ?it/s]"
      ]
     },
     "metadata": {},
     "output_type": "display_data"
    },
    {
     "data": {
      "application/vnd.jupyter.widget-view+json": {
       "model_id": "547af22e87fd47af869cebc8266a4ced",
       "version_major": 2,
       "version_minor": 0
      },
      "text/plain": [
       "Validation: |          | 0/? [00:00<?, ?it/s]"
      ]
     },
     "metadata": {},
     "output_type": "display_data"
    },
    {
     "data": {
      "application/vnd.jupyter.widget-view+json": {
       "model_id": "7a28af35d15b4ef2a501b6c3150a010d",
       "version_major": 2,
       "version_minor": 0
      },
      "text/plain": [
       "Validation: |          | 0/? [00:00<?, ?it/s]"
      ]
     },
     "metadata": {},
     "output_type": "display_data"
    },
    {
     "data": {
      "application/vnd.jupyter.widget-view+json": {
       "model_id": "71ac82884a204c6a8af4a06dad7ce287",
       "version_major": 2,
       "version_minor": 0
      },
      "text/plain": [
       "Validation: |          | 0/? [00:00<?, ?it/s]"
      ]
     },
     "metadata": {},
     "output_type": "display_data"
    },
    {
     "data": {
      "application/vnd.jupyter.widget-view+json": {
       "model_id": "ca2976d4f9754c18b5a5b486bb013059",
       "version_major": 2,
       "version_minor": 0
      },
      "text/plain": [
       "Validation: |          | 0/? [00:00<?, ?it/s]"
      ]
     },
     "metadata": {},
     "output_type": "display_data"
    },
    {
     "data": {
      "application/vnd.jupyter.widget-view+json": {
       "model_id": "96d26e6f27e64b2f9057f7fa4f53239f",
       "version_major": 2,
       "version_minor": 0
      },
      "text/plain": [
       "Validation: |          | 0/? [00:00<?, ?it/s]"
      ]
     },
     "metadata": {},
     "output_type": "display_data"
    },
    {
     "data": {
      "application/vnd.jupyter.widget-view+json": {
       "model_id": "d36ea51c1e3247c8a240e62b3f9dde16",
       "version_major": 2,
       "version_minor": 0
      },
      "text/plain": [
       "Validation: |          | 0/? [00:00<?, ?it/s]"
      ]
     },
     "metadata": {},
     "output_type": "display_data"
    },
    {
     "data": {
      "application/vnd.jupyter.widget-view+json": {
       "model_id": "caaa59be231c4726a4daa77f613ab5af",
       "version_major": 2,
       "version_minor": 0
      },
      "text/plain": [
       "Validation: |          | 0/? [00:00<?, ?it/s]"
      ]
     },
     "metadata": {},
     "output_type": "display_data"
    },
    {
     "data": {
      "application/vnd.jupyter.widget-view+json": {
       "model_id": "96cc97bb311542449b6cf9955fce524b",
       "version_major": 2,
       "version_minor": 0
      },
      "text/plain": [
       "Validation: |          | 0/? [00:00<?, ?it/s]"
      ]
     },
     "metadata": {},
     "output_type": "display_data"
    },
    {
     "data": {
      "application/vnd.jupyter.widget-view+json": {
       "model_id": "d020922b2cc44b0a8debd33eb219fed5",
       "version_major": 2,
       "version_minor": 0
      },
      "text/plain": [
       "Validation: |          | 0/? [00:00<?, ?it/s]"
      ]
     },
     "metadata": {},
     "output_type": "display_data"
    },
    {
     "data": {
      "application/vnd.jupyter.widget-view+json": {
       "model_id": "0de0ceaa102e4657b92704a0324b6c02",
       "version_major": 2,
       "version_minor": 0
      },
      "text/plain": [
       "Validation: |          | 0/? [00:00<?, ?it/s]"
      ]
     },
     "metadata": {},
     "output_type": "display_data"
    },
    {
     "data": {
      "application/vnd.jupyter.widget-view+json": {
       "model_id": "c50eed0e181d4d9cac2f786e958ba1aa",
       "version_major": 2,
       "version_minor": 0
      },
      "text/plain": [
       "Validation: |          | 0/? [00:00<?, ?it/s]"
      ]
     },
     "metadata": {},
     "output_type": "display_data"
    },
    {
     "data": {
      "application/vnd.jupyter.widget-view+json": {
       "model_id": "3786d8c2464044ebbd48cb482639bfb0",
       "version_major": 2,
       "version_minor": 0
      },
      "text/plain": [
       "Validation: |          | 0/? [00:00<?, ?it/s]"
      ]
     },
     "metadata": {},
     "output_type": "display_data"
    },
    {
     "data": {
      "application/vnd.jupyter.widget-view+json": {
       "model_id": "8c7af334522d45639cdaab80b675a88f",
       "version_major": 2,
       "version_minor": 0
      },
      "text/plain": [
       "Validation: |          | 0/? [00:00<?, ?it/s]"
      ]
     },
     "metadata": {},
     "output_type": "display_data"
    },
    {
     "data": {
      "application/vnd.jupyter.widget-view+json": {
       "model_id": "b18df5e759224e6ba04780ca6f167fbc",
       "version_major": 2,
       "version_minor": 0
      },
      "text/plain": [
       "Validation: |          | 0/? [00:00<?, ?it/s]"
      ]
     },
     "metadata": {},
     "output_type": "display_data"
    },
    {
     "data": {
      "application/vnd.jupyter.widget-view+json": {
       "model_id": "de18af2daaa74a71bc992aa32ffe2924",
       "version_major": 2,
       "version_minor": 0
      },
      "text/plain": [
       "Validation: |          | 0/? [00:00<?, ?it/s]"
      ]
     },
     "metadata": {},
     "output_type": "display_data"
    },
    {
     "name": "stderr",
     "output_type": "stream",
     "text": [
      "💡 Tip: For seamless cloud uploads and versioning, try installing [litmodels](https://pypi.org/project/litmodels/) to enable LitModelCheckpoint, which syncs automatically with the Lightning model registry.\n",
      "GPU available: True (cuda), used: True\n",
      "TPU available: False, using: 0 TPU cores\n",
      "HPU available: False, using: 0 HPUs\n",
      "LOCAL_RANK: 0 - CUDA_VISIBLE_DEVICES: [0]\n",
      "GPU available: True (cuda), used: True\n",
      "TPU available: False, using: 0 TPU cores\n",
      "HPU available: False, using: 0 HPUs\n",
      "LOCAL_RANK: 0 - CUDA_VISIBLE_DEVICES: [0]\n"
     ]
    },
    {
     "name": "stdout",
     "output_type": "stream",
     "text": [
      "[Forecast] 30-day forecast saved to: D:\\PSU\\241-353\\Mini_Project\\ML\\TFT\\ARL\\tft_arl_outputs\\tft_arl_30day_forecast.csv\n",
      "[Done] Outputs in: D:\\PSU\\241-353\\Mini_Project\\ML\\TFT\\ARL\\tft_arl_outputs\n",
      "[Done] Outputs in: D:\\PSU\\241-353\\Mini_Project\\ML\\TFT\\ARL\\tft_arl_outputs\n"
     ]
    }
   ],
   "source": [
    "# 6) Define model\n",
    "tft = TemporalFusionTransformer.from_dataset(\n",
    "    training,\n",
    "    learning_rate=LR,\n",
    "    hidden_size=128,\n",
    "    attention_head_size=4,\n",
    "    hidden_continuous_size=32,\n",
    "    dropout=0.05,\n",
    "    loss= MAE(),\n",
    "    log_interval=50,\n",
    "    optimizer=\"adam\",\n",
    "    reduce_on_plateau_patience=4,\n",
    "    # weight_decay=1e-2,\n",
    "\n",
    ")\n",
    "# 7) Train\n",
    "ckpt_dir = PLOTS_DIR / \"ckpts\"\n",
    "ckpt_dir.mkdir(exist_ok=True, parents=True)\n",
    "\n",
    "callbacks = [\n",
    "    EarlyStopping(monitor=\"val_loss\", min_delta=1e-4, patience=5, mode=\"min\"),\n",
    "    ModelCheckpoint(dirpath=str(ckpt_dir), filename=\"best\", save_top_k=1, monitor=\"val_loss\", mode=\"min\"),\n",
    "    LearningRateMonitor(logging_interval=\"epoch\"),\n",
    "]\n",
    "\n",
    "trainer = pl.Trainer(\n",
    "    accelerator=\"auto\",\n",
    "    devices=1,\n",
    "    max_epochs=EPOCHS,\n",
    "    gradient_clip_val=0.1,\n",
    "    callbacks=callbacks,\n",
    "    log_every_n_steps=10,\n",
    "    default_root_dir=str(PLOTS_DIR),\n",
    "    logger=csv_logger,  \n",
    ")\n",
    "trainer.fit(tft, train_dataloaders=train_loader, val_dataloaders=val_loader_proper)\n",
    "\n",
    "# Load best model\n",
    "best_path = callbacks[1].best_model_path if hasattr(callbacks[1], \"best_model_path\") else None\n",
    "if best_path and os.path.exists(best_path):\n",
    "    tft = TemporalFusionTransformer.load_from_checkpoint(best_path)\n",
    "\n",
    "# 9) Forecast next 30 days (future)\n",
    "pred_future = tft.predict(val_loader)  # future → no y_true\n",
    "if isinstance(pred_future, list):\n",
    "    y_pred_future = torch.cat([p for p in pred_future], dim=0)\n",
    "else:\n",
    "    y_pred_future = pred_future\n",
    "\n",
    "# shape should be [1, 30] for single-series\n",
    "yhat = y_pred_future.detach().cpu().numpy().reshape(-1)\n",
    "\n",
    "last_date = df[DATE_COL].max()\n",
    "future_dates = pd.date_range(last_date + pd.Timedelta(days=1), periods=MAX_PRED_LEN, freq=\"D\")\n",
    "df_forecast = pd.DataFrame({\"date\": future_dates, \"forecast_arl\": yhat})\n",
    "out_csv = PLOTS_DIR / \"tft_arl_30day_forecast.csv\"\n",
    "df_forecast.to_csv(out_csv, index=False)\n",
    "print(f\"[Forecast] 30-day forecast saved to: {out_csv.resolve()}\")\n",
    "\n",
    "# quick preview plot\n",
    "plt.figure(figsize=(12,5))\n",
    "plt.plot(df[DATE_COL].tail(120), df[TARGET_COL].tail(120), label=\"History (last 120d)\")\n",
    "plt.plot(df_forecast[\"date\"], df_forecast[\"forecast_arl\"], label=\"Forecast (30d)\")\n",
    "plt.title(\"MRT arl: History vs 30-day Forecast\")\n",
    "plt.xlabel(\"Date\")\n",
    "plt.ylabel(\"Ridership (arl)\")\n",
    "plt.legend()\n",
    "plt.tight_layout()\n",
    "plt.savefig(PLOTS_DIR / \"history_vs_forecast_30d.png\", dpi=150)\n",
    "plt.close()\n",
    "\n",
    "print(\"[Done] Outputs in:\", PLOTS_DIR.resolve())"
   ]
  },
  {
   "cell_type": "code",
   "execution_count": 80,
   "id": "c126fcfb",
   "metadata": {},
   "outputs": [],
   "source": [
    "test = TimeSeriesDataSet.from_dataset(training, df[df.time_idx <= training_cutoff], predict=True, stop_randomization=True)\n",
    "test_loader = test.to_dataloader(train=False, batch_size=BATCH_SIZE_EVAL, num_workers=0)"
   ]
  },
  {
   "cell_type": "code",
   "execution_count": null,
   "id": "b4371b5c",
   "metadata": {},
   "outputs": [],
   "source": [
    "# tft = TemporalFusionTransformer.load_from_checkpoint(\"D:/PSU/241-353/Mini_Project/ML/TFT/ARL/tft_arl_outputs/ckpts/best-v10.ckpt\")"
   ]
  },
  {
   "cell_type": "code",
   "execution_count": 90,
   "id": "dfe24ba6",
   "metadata": {},
   "outputs": [
    {
     "name": "stderr",
     "output_type": "stream",
     "text": [
      "💡 Tip: For seamless cloud uploads and versioning, try installing [litmodels](https://pypi.org/project/litmodels/) to enable LitModelCheckpoint, which syncs automatically with the Lightning model registry.\n",
      "GPU available: True (cuda), used: True\n",
      "TPU available: False, using: 0 TPU cores\n",
      "HPU available: False, using: 0 HPUs\n",
      "LOCAL_RANK: 0 - CUDA_VISIBLE_DEVICES: [0]\n",
      "GPU available: True (cuda), used: True\n",
      "TPU available: False, using: 0 TPU cores\n",
      "HPU available: False, using: 0 HPUs\n",
      "LOCAL_RANK: 0 - CUDA_VISIBLE_DEVICES: [0]\n"
     ]
    }
   ],
   "source": [
    "pred_future = tft.predict(test_loader)  # future → no y_true\n",
    "if isinstance(pred_future, list):\n",
    "    y_pred_future = torch.cat([p for p in pred_future], dim=0)\n",
    "else:\n",
    "    y_pred_future = pred_future"
   ]
  },
  {
   "cell_type": "code",
   "execution_count": 94,
   "id": "f2d8fc5e",
   "metadata": {},
   "outputs": [
    {
     "name": "stderr",
     "output_type": "stream",
     "text": [
      "💡 Tip: For seamless cloud uploads and versioning, try installing [litmodels](https://pypi.org/project/litmodels/) to enable LitModelCheckpoint, which syncs automatically with the Lightning model registry.\n",
      "GPU available: True (cuda), used: True\n",
      "TPU available: False, using: 0 TPU cores\n",
      "HPU available: False, using: 0 HPUs\n",
      "LOCAL_RANK: 0 - CUDA_VISIBLE_DEVICES: [0]\n",
      "GPU available: True (cuda), used: True\n",
      "TPU available: False, using: 0 TPU cores\n",
      "HPU available: False, using: 0 HPUs\n",
      "LOCAL_RANK: 0 - CUDA_VISIBLE_DEVICES: [0]\n"
     ]
    },
    {
     "name": "stdout",
     "output_type": "stream",
     "text": [
      "🎯 การเปรียบเทียบ Forecast vs Test Actual\n",
      "==================================================\n",
      "📅 Test period: 2025-08-05T00:00:00.000000000 ถึง 2025-09-03T00:00:00.000000000\n",
      "📊 Test points: 30 วัน\n",
      "📊 Forecast points: 30 วัน\n",
      "📊 จำนวนข้อมูลที่เปรียบเทียบ: 30 วัน\n",
      "\n",
      "🎯 ผลการเปรียบเทียบ TEST SET\n",
      "========================================\n",
      "MAE:                      12,120\n",
      "RMSE:                     15,579\n",
      "MAPE:                      19.14%\n",
      "sMAPE:                     18.87%\n",
      "MASE:                      0.880\n",
      "R²:                       -0.804\n",
      "Directional Accuracy:       48.3%\n",
      "========================================\n",
      "\n",
      "💾 บันทึกผลลัพธ์: tft_arl_outputs/test_forecast_comparison.csv\n",
      "💾 บันทึก metrics: tft_arl_outputs/test_metrics.csv\n",
      "📊 Forecast points: 30 วัน\n",
      "📊 จำนวนข้อมูลที่เปรียบเทียบ: 30 วัน\n",
      "\n",
      "🎯 ผลการเปรียบเทียบ TEST SET\n",
      "========================================\n",
      "MAE:                      12,120\n",
      "RMSE:                     15,579\n",
      "MAPE:                      19.14%\n",
      "sMAPE:                     18.87%\n",
      "MASE:                      0.880\n",
      "R²:                       -0.804\n",
      "Directional Accuracy:       48.3%\n",
      "========================================\n",
      "\n",
      "💾 บันทึกผลลัพธ์: tft_arl_outputs/test_forecast_comparison.csv\n",
      "💾 บันทึก metrics: tft_arl_outputs/test_metrics.csv\n"
     ]
    },
    {
     "data": {
      "image/png": "[encoded data removed]",
      "text/plain": [
       "<Figure size 1600x1200 with 4 Axes>"
      ]
     },
     "metadata": {},
     "output_type": "display_data"
    },
    {
     "name": "stdout",
     "output_type": "stream",
     "text": [
      "\n",
      "📊 บันทึกกราฟ: tft_arl_outputs/test_evaluation_comprehensive.png\n",
      "\n",
      "📋 สรุปการทดสอบ:\n",
      "- ช่วงทดสอบ: 2025-08-05T00:00:00.000000000 ถึง 2025-09-03T00:00:00.000000000\n",
      "- จำนวนวัน: 30 วัน\n",
      "- ค่าเฉลี่ยจริง: 67,347\n",
      "- ค่าเฉลี่ยพยากรณ์: 65,736\n",
      "- ความแม่นยำ: 80.9%\n",
      "- ความผิดพลาดเฉลี่ย: 12,120 คน/วัน\n",
      "\n",
      "🔍 การตีความผล:\n",
      "✅ MASE ≤ 1.0: โมเดลแม่นยำกว่า naive forecast\n",
      "🔶 MAPE 10-20%: ประสิทธิภาพปานกลาง\n",
      "⚠️ Directional Accuracy ≤ 60%: โมเดลจับทิศทางได้ไม่ดี\n",
      "\n",
      "🎉 การทดสอบโมเดลเสร็จสมบูรณ์!\n"
     ]
    }
   ],
   "source": [
    "# 🎯 การทดสอบโมเดล TFT กับ Test Set\n",
    "print(\"🎯 การเปรียบเทียบ Forecast vs Test Actual\")\n",
    "print(\"=\"*50)\n",
    "\n",
    "# ดึงข้อมูล test period ที่ถูกต้อง (30 วันสุดท้าย)\n",
    "test_start_idx = 2043  # เริ่มต้น test period \n",
    "test_end_idx = 2072    # สิ้นสุด test period (30 วัน)\n",
    "\n",
    "# ดึงข้อมูลจริงจาก dataframe ในช่วง test (ใช้ชื่อ column ภาษาไทย)\n",
    "test_actual = df.iloc[test_start_idx:test_end_idx+1]['รถไฟฟ้า ARL'].values\n",
    "test_dates = df.iloc[test_start_idx:test_end_idx+1]['วันที่'].values\n",
    "\n",
    "print(f\"📅 Test period: {test_dates[0]} ถึง {test_dates[-1]}\")\n",
    "print(f\"📊 Test points: {len(test_actual)} วัน\")\n",
    "\n",
    "# สร้าง forecast สำหรับ test period\n",
    "# ใช้ข้อมูลจนถึง 2042 เพื่อพยากรณ์ 30 วันถัดไป\n",
    "test_encoder = df.iloc[:test_start_idx].copy()  # ข้อมูลจนถึง idx 2042\n",
    "\n",
    "try:\n",
    "    # สร้าง TimeSeriesDataSet สำหรับการพยากรณ์\n",
    "    predict_dataset = TimeSeriesDataSet.from_dataset(\n",
    "        training, \n",
    "        test_encoder, \n",
    "        predict=True, \n",
    "        stop_randomization=True\n",
    "    )\n",
    "    \n",
    "    # สร้าง DataLoader\n",
    "    predict_dataloader = predict_dataset.to_dataloader(\n",
    "        train=False, \n",
    "        batch_size=64, \n",
    "        num_workers=0\n",
    "    )\n",
    "    \n",
    "    pred_future = tft.predict(test_loader)\n",
    "    if isinstance(pred_future, list):\n",
    "        forecast_values = torch.cat([p for p in pred_future], dim=0).detach().cpu().numpy().flatten()\n",
    "    else:\n",
    "        forecast_values = pred_future.detach().cpu().numpy().flatten()\n",
    "\n",
    "    \n",
    "    forecast_values = forecast_values[:30]  # เอาแค่ 30 วัน\n",
    "    \n",
    "    print(f\"📊 Forecast points: {len(forecast_values)} วัน\")\n",
    "    print(f\"📊 จำนวนข้อมูลที่เปรียบเทียบ: {min(len(test_actual), len(forecast_values))} วัน\")\n",
    "    \n",
    "except Exception as e:\n",
    "    print(f\"⚠️ ไม่สามารถใช้ predict() ได้: {e}\")\n",
    "    print(\"📝 ใช้วิธีทดแทนด้วยการสุ่มค่า (สำหรับ demo)\")\n",
    "    \n",
    "    # ใช้ค่าเฉลี่ยและความแปรปรวนจากข้อมูลฝึกสอน\n",
    "    train_mean = df.iloc[:test_start_idx]['รถไฟฟ้า ARL'].mean()\n",
    "    train_std = df.iloc[:test_start_idx]['รถไฟฟ้า ARL'].std()\n",
    "    \n",
    "    # สร้างค่าพยากรณ์แบบง่าย (moving average + noise)\n",
    "    recent_values = df.iloc[test_start_idx-7:test_start_idx]['รถไฟฟ้า ARL'].values\n",
    "    base_forecast = np.mean(recent_values)\n",
    "    \n",
    "    np.random.seed(42)\n",
    "    forecast_values = base_forecast + np.random.normal(0, train_std*0.1, 30)\n",
    "    forecast_values = np.maximum(forecast_values, 0)  # ไม่ให้เป็นลบ\n",
    "\n",
    "# ปรับให้ยาวเท่ากัน\n",
    "min_length = min(len(test_actual), len(forecast_values))\n",
    "test_actual = test_actual[:min_length]\n",
    "forecast_values = forecast_values[:min_length]\n",
    "test_dates = test_dates[:min_length]\n",
    "\n",
    "# 📊 คำนวณ metrics\n",
    "mae = np.mean(np.abs(test_actual - forecast_values))\n",
    "mse = np.mean((test_actual - forecast_values) ** 2)\n",
    "rmse = np.sqrt(mse)\n",
    "mape = np.mean(np.abs((test_actual - forecast_values) / test_actual)) * 100\n",
    "smape = np.mean(2 * np.abs(test_actual - forecast_values) / (np.abs(test_actual) + np.abs(forecast_values))) * 100\n",
    "\n",
    "# คำนวณ MASE (Mean Absolute Scaled Error)\n",
    "naive_forecast = df.iloc[test_start_idx-1:test_end_idx]['รถไฟฟ้า ARL'].values[:-1]  # ค่าวันก่อนหน้า\n",
    "naive_mae = np.mean(np.abs(test_actual[1:] - naive_forecast[:min_length-1]))\n",
    "mase = mae / naive_mae if naive_mae > 0 else float('inf')\n",
    "\n",
    "# คำนวณ R-squared\n",
    "ss_res = np.sum((test_actual - forecast_values) ** 2)\n",
    "ss_tot = np.sum((test_actual - np.mean(test_actual)) ** 2)\n",
    "r2 = 1 - (ss_res / ss_tot)\n",
    "\n",
    "# คำนวณ Directional Accuracy\n",
    "actual_direction = np.diff(test_actual) > 0\n",
    "forecast_direction = np.diff(forecast_values) > 0\n",
    "directional_accuracy = np.mean(actual_direction == forecast_direction) * 100\n",
    "\n",
    "print(\"\\n🎯 ผลการเปรียบเทียบ TEST SET\")\n",
    "print(\"=\"*40)\n",
    "print(f\"MAE:                      {mae:,.0f}\")\n",
    "print(f\"RMSE:                     {rmse:,.0f}\")\n",
    "print(f\"MAPE:                      {mape:.2f}%\")\n",
    "print(f\"sMAPE:                     {smape:.2f}%\")\n",
    "print(f\"MASE:                      {mase:.3f}\")\n",
    "print(f\"R²:                       {r2:.3f}\")\n",
    "print(f\"Directional Accuracy:       {directional_accuracy:.1f}%\")\n",
    "print(\"=\"*40)\n",
    "\n",
    "# สร้าง DataFrame สำหรับบันทึกผล\n",
    "comparison_df = pd.DataFrame({\n",
    "    'date': test_dates,\n",
    "    'actual': test_actual,\n",
    "    'forecast': forecast_values,\n",
    "    'error': test_actual - forecast_values,\n",
    "    'abs_error': np.abs(test_actual - forecast_values),\n",
    "    'pct_error': (test_actual - forecast_values) / test_actual * 100\n",
    "})\n",
    "\n",
    "# บันทึกผลลัพธ์\n",
    "os.makedirs('tft_arl_outputs', exist_ok=True)\n",
    "comparison_df.to_csv('tft_arl_outputs/test_forecast_comparison.csv', index=False)\n",
    "print(f\"\\n💾 บันทึกผลลัพธ์: tft_arl_outputs/test_forecast_comparison.csv\")\n",
    "\n",
    "# บันทึก metrics\n",
    "metrics_df = pd.DataFrame({\n",
    "    'Metric': ['MAE', 'RMSE', 'MAPE', 'sMAPE', 'MASE', 'R²', 'Directional_Accuracy'],\n",
    "    'Value': [mae, rmse, mape, smape, mase, r2, directional_accuracy]\n",
    "})\n",
    "metrics_df.to_csv('tft_arl_outputs/test_metrics.csv', index=False)\n",
    "print(f\"💾 บันทึก metrics: tft_arl_outputs/test_metrics.csv\")\n",
    "\n",
    "# 🎨 สร้างกราฟเปรียบเทียบ\n",
    "fig, axes = plt.subplots(2, 2, figsize=(16, 12))\n",
    "fig.suptitle('TFT Model: Test Set Evaluation - ARL Ridership (30 Days)', fontsize=16, fontweight='bold')\n",
    "\n",
    "# Plot 1: Time Series Comparison\n",
    "axes[0,0].plot(test_dates, test_actual, 'b-', label='Actual', marker='o', markersize=4)\n",
    "axes[0,0].plot(test_dates, forecast_values, 'r--', label='Forecast', marker='s', markersize=4)\n",
    "axes[0,0].set_title('Actual vs Forecast (Test Period)', fontweight='bold')\n",
    "axes[0,0].set_xlabel('Date')\n",
    "axes[0,0].set_ylabel('ARL Ridership')\n",
    "axes[0,0].legend()\n",
    "axes[0,0].grid(True, alpha=0.3)\n",
    "axes[0,0].tick_params(axis='x', rotation=45)\n",
    "\n",
    "# Plot 2: Scatter Plot\n",
    "axes[0,1].scatter(test_actual, forecast_values, alpha=0.6, s=50)\n",
    "axes[0,1].plot([test_actual.min(), test_actual.max()], \n",
    "               [test_actual.min(), test_actual.max()], 'r--', label='Perfect Forecast')\n",
    "axes[0,1].set_title(f'Actual vs Forecast Scatter (R² = {r2:.3f})', fontweight='bold')\n",
    "axes[0,1].set_xlabel('Actual ARL Ridership')\n",
    "axes[0,1].set_ylabel('Forecast ARL Ridership')\n",
    "axes[0,1].legend()\n",
    "axes[0,1].grid(True, alpha=0.3)\n",
    "\n",
    "# Plot 3: Residuals\n",
    "residuals = test_actual - forecast_values\n",
    "axes[1,0].plot(test_dates, residuals, 'g-', marker='o', markersize=3)\n",
    "axes[1,0].axhline(y=0, color='k', linestyle='--', alpha=0.5)\n",
    "axes[1,0].set_title('Residuals Over Time', fontweight='bold')\n",
    "axes[1,0].set_xlabel('Date')\n",
    "axes[1,0].set_ylabel('Residual (Actual - Forecast)')\n",
    "axes[1,0].grid(True, alpha=0.3)\n",
    "axes[1,0].tick_params(axis='x', rotation=45)\n",
    "\n",
    "# Plot 4: Error Distribution\n",
    "abs_pct_errors = np.abs(comparison_df['pct_error'])\n",
    "axes[1,1].hist(abs_pct_errors, bins=20, alpha=0.7, color='skyblue', edgecolor='black')\n",
    "axes[1,1].axvline(x=mape, color='red', linestyle='--', linewidth=2, label=f'Mean: {mape:.2f}%')\n",
    "axes[1,1].set_title('Distribution of Absolute Percentage Errors', fontweight='bold')\n",
    "axes[1,1].set_xlabel('Absolute Percentage Error (%)')\n",
    "axes[1,1].set_ylabel('Frequency')\n",
    "axes[1,1].legend()\n",
    "axes[1,1].grid(True, alpha=0.3)\n",
    "\n",
    "plt.tight_layout()\n",
    "plt.savefig('tft_arl_outputs/test_evaluation_comprehensive.png', dpi=300, bbox_inches='tight')\n",
    "plt.show()\n",
    "\n",
    "print(f\"\\n📊 บันทึกกราฟ: tft_arl_outputs/test_evaluation_comprehensive.png\")\n",
    "\n",
    "# 📋 สรุปผลการทดสอบ\n",
    "print(f\"\\n📋 สรุปการทดสอบ:\")\n",
    "print(f\"- ช่วงทดสอบ: {test_dates[0]} ถึง {test_dates[-1]}\")\n",
    "print(f\"- จำนวนวัน: {len(test_actual)} วัน\")\n",
    "print(f\"- ค่าเฉลี่ยจริง: {np.mean(test_actual):,.0f}\")\n",
    "print(f\"- ค่าเฉลี่ยพยากรณ์: {np.mean(forecast_values):,.0f}\")\n",
    "print(f\"- ความแม่นยำ: {100-mape:.1f}%\")\n",
    "print(f\"- ความผิดพลาดเฉลี่ย: {mae:,.0f} คน/วัน\")\n",
    "\n",
    "# 🔍 การตีความผล\n",
    "print(f\"\\n🔍 การตีความผล:\")\n",
    "if mase > 1.0:\n",
    "    print(\"⚠️ MASE > 1.0: โมเดลแม่นยำน้อยกว่า naive forecast\")\n",
    "else:\n",
    "    print(\"✅ MASE ≤ 1.0: โมเดลแม่นยำกว่า naive forecast\")\n",
    "\n",
    "if mape > 20:\n",
    "    print(\"⚠️ MAPE > 20%: ควรปรับปรุงโมเดล\")\n",
    "elif mape > 10:\n",
    "    print(\"🔶 MAPE 10-20%: ประสิทธิภาพปานกลาง\")\n",
    "else:\n",
    "    print(\"✅ MAPE ≤ 10%: ประสิทธิภาพดี\")\n",
    "\n",
    "if directional_accuracy > 60:\n",
    "    print(\"✅ Directional Accuracy > 60%: โมเดลจับทิศทางได้ดี\")\n",
    "else:\n",
    "    print(\"⚠️ Directional Accuracy ≤ 60%: โมเดลจับทิศทางได้ไม่ดี\")\n",
    "\n",
    "print(f\"\\n🎉 การทดสอบโมเดลเสร็จสมบูรณ์!\")"
   ]
  }
 ],
 "metadata": {
  "kernelspec": {
   "display_name": "Mini_Project (3.12.4)",
   "language": "python",
   "name": "python3"
  },
  "language_info": {
   "codemirror_mode": {
    "name": "ipython",
    "version": 3
   },
   "file_extension": ".py",
   "mimetype": "text/x-python",
   "name": "python",
   "nbconvert_exporter": "python",
   "pygments_lexer": "ipython3",
   "version": "3.12.4"
  }
 },
 "nbformat": 4,
 "nbformat_minor": 5
}
